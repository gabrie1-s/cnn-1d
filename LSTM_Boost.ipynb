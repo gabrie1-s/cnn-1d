{
  "metadata": {
    "colab": {
      "provenance": [],
      "machine_shape": "hm",
      "include_colab_link": true
    },
    "kernelspec": {
      "name": "python3",
      "display_name": "Python 3",
      "language": "python"
    },
    "language_info": {
      "name": "python",
      "version": "3.7.12",
      "mimetype": "text/x-python",
      "codemirror_mode": {
        "name": "ipython",
        "version": 3
      },
      "pygments_lexer": "ipython3",
      "nbconvert_exporter": "python",
      "file_extension": ".py"
    },
    "gpuClass": "standard"
  },
  "nbformat_minor": 0,
  "nbformat": 4,
  "cells": [
    {
      "cell_type": "markdown",
      "metadata": {
        "id": "view-in-github",
        "colab_type": "text"
      },
      "source": [
        "<a href=\"https://colab.research.google.com/github/gabrie1-s/cnn-1d/blob/combined_approaches/LSTM_Boost.ipynb\" target=\"_parent\"><img src=\"https://colab.research.google.com/assets/colab-badge.svg\" alt=\"Open In Colab\"/></a>"
      ]
    },
    {
      "cell_type": "code",
      "source": [
        "from google.colab import drive\n",
        "from pathlib import Path\n",
        "import scipy.io\n",
        "from glob import glob\n",
        "import os\n",
        "import matplotlib.pyplot as plt\n",
        "import numpy as np\n",
        "import math\n",
        "import random\n",
        "import pandas as pd\n",
        "from sklearn.preprocessing import normalize, label_binarize\n",
        "from sklearn.model_selection import train_test_split, cross_val_score\n",
        "from scipy.stats import zscore\n",
        "from multiprocessing import Pool"
      ],
      "metadata": {
        "id": "zktLrLf6iCu5",
        "execution": {
          "iopub.status.busy": "2023-03-08T10:33:36.585220Z",
          "iopub.execute_input": "2023-03-08T10:33:36.585714Z",
          "iopub.status.idle": "2023-03-08T10:33:36.594538Z",
          "shell.execute_reply.started": "2023-03-08T10:33:36.585674Z",
          "shell.execute_reply": "2023-03-08T10:33:36.593002Z"
        },
        "trusted": true
      },
      "execution_count": 80,
      "outputs": []
    },
    {
      "cell_type": "code",
      "source": [
        "drive.mount('/content/drive')"
      ],
      "metadata": {
        "colab": {
          "base_uri": "https://localhost:8080/"
        },
        "id": "LK2rGfi8S-8o",
        "outputId": "461ec26a-6804-4e63-8bf5-f6285dc01a77"
      },
      "execution_count": 81,
      "outputs": [
        {
          "output_type": "stream",
          "name": "stdout",
          "text": [
            "Drive already mounted at /content/drive; to attempt to forcibly remount, call drive.mount(\"/content/drive\", force_remount=True).\n"
          ]
        }
      ]
    },
    {
      "cell_type": "markdown",
      "source": [
        "#1. Aquisição dos Dados"
      ],
      "metadata": {
        "id": "LVTiQgFbGFS8"
      }
    },
    {
      "cell_type": "code",
      "source": [
        "data = Path('drive/MyDrive/CNN_Chagas/Physionet/cnn-1d/data')\n",
        "\n",
        "signals = []\n",
        "classes =[]\n",
        "\n",
        "for value in sorted(data.glob('*.mat')):\n",
        "  signal = scipy.io.loadmat(value)\n",
        "  signal = np.array(signal[\"val\"], dtype='float')[0]\n",
        "  signals.append(signal)\n",
        "  # print(value)"
      ],
      "metadata": {
        "id": "4juuk4_TiRvW",
        "execution": {
          "iopub.status.busy": "2023-03-08T10:33:38.702492Z",
          "iopub.execute_input": "2023-03-08T10:33:38.702954Z",
          "iopub.status.idle": "2023-03-08T10:34:44.997751Z",
          "shell.execute_reply.started": "2023-03-08T10:33:38.702898Z",
          "shell.execute_reply": "2023-03-08T10:34:44.996511Z"
        },
        "trusted": true
      },
      "execution_count": 82,
      "outputs": []
    },
    {
      "cell_type": "code",
      "source": [
        "classification_path = os.path.join(data, \"classification.txt\")\n",
        "with open(classification_path) as f:\n",
        "    classes = f.readlines()\n",
        "\n",
        "for i in range(0, len(classes)):\n",
        "  classes[i] = classes[i][classes[i].find(','):]\n",
        "  classes[i] = classes[i][: classes[i].find('\\n')]\n",
        "  classes[i] = classes[i].replace(\",\", \"\")\n",
        "\n",
        "# classes = classes[0: -1]"
      ],
      "metadata": {
        "id": "EpNZgpvfis1M",
        "execution": {
          "iopub.status.busy": "2023-03-08T10:34:45.000484Z",
          "iopub.execute_input": "2023-03-08T10:34:45.001373Z",
          "iopub.status.idle": "2023-03-08T10:34:45.033584Z",
          "shell.execute_reply.started": "2023-03-08T10:34:45.001317Z",
          "shell.execute_reply": "2023-03-08T10:34:45.032565Z"
        },
        "trusted": true
      },
      "execution_count": 83,
      "outputs": []
    },
    {
      "cell_type": "markdown",
      "source": [
        "#2. Preprocessamento"
      ],
      "metadata": {
        "id": "JfrBd2SrG4-Z"
      }
    },
    {
      "cell_type": "markdown",
      "source": [
        "### 2.1 Análise da distribuição das classes"
      ],
      "metadata": {
        "id": "-3mQ3QWQP1id"
      }
    },
    {
      "cell_type": "code",
      "source": [
        "d = {'signals': signals, 'classes': classes}\n",
        "df = pd.DataFrame(data=d)\n",
        "a = df.groupby('classes')"
      ],
      "metadata": {
        "id": "EMDav0-ZREVS",
        "execution": {
          "iopub.status.busy": "2023-03-08T10:34:45.035171Z",
          "iopub.execute_input": "2023-03-08T10:34:45.036516Z",
          "iopub.status.idle": "2023-03-08T10:34:45.058183Z",
          "shell.execute_reply.started": "2023-03-08T10:34:45.036466Z",
          "shell.execute_reply": "2023-03-08T10:34:45.056971Z"
        },
        "trusted": true
      },
      "execution_count": 84,
      "outputs": []
    },
    {
      "cell_type": "code",
      "source": [
        "for i in ['N', 'O', 'A', '~']:\n",
        "  print(i)\n",
        "  aux = []\n",
        "\n",
        "  for j in a.get_group(i)[\"signals\"]:\n",
        "    aux.append(len(j))\n",
        "\n",
        "  print('Média:', round(np.mean(aux), 2))\n",
        "  print(\"Std:\", round(np.std(aux), 2))\n",
        "  print(\"Qntd:\", len(aux))\n",
        "  print(\"Min:\", min(aux))\n",
        "  print(\"---------------\")"
      ],
      "metadata": {
        "id": "jXPAsb09S3rA",
        "colab": {
          "base_uri": "https://localhost:8080/"
        },
        "outputId": "a4db90d7-2f87-43b6-9a57-c50ce1beb4c5",
        "execution": {
          "iopub.status.busy": "2023-03-08T10:34:45.060436Z",
          "iopub.execute_input": "2023-03-08T10:34:45.060765Z",
          "iopub.status.idle": "2023-03-08T10:34:45.089004Z",
          "shell.execute_reply.started": "2023-03-08T10:34:45.060733Z",
          "shell.execute_reply": "2023-03-08T10:34:45.088023Z"
        },
        "trusted": true
      },
      "execution_count": 85,
      "outputs": [
        {
          "output_type": "stream",
          "name": "stdout",
          "text": [
            "N\n",
            "Média: 9633.38\n",
            "Std: 2991.84\n",
            "Qntd: 5076\n",
            "Min: 2714\n",
            "---------------\n",
            "O\n",
            "Média: 10288.52\n",
            "Std: 3528.74\n",
            "Qntd: 2415\n",
            "Min: 2738\n",
            "---------------\n",
            "A\n",
            "Média: 9703.41\n",
            "Std: 3694.64\n",
            "Qntd: 758\n",
            "Min: 2996\n",
            "---------------\n",
            "~\n",
            "Média: 7313.63\n",
            "Std: 3122.42\n",
            "Qntd: 279\n",
            "Min: 2808\n",
            "---------------\n"
          ]
        }
      ]
    },
    {
      "cell_type": "code",
      "source": [
        "plt.rcParams.update({'font.size': 20})\n",
        "\n",
        "df[\"classes\"].hist(\n",
        "    figsize=(8, 6),\n",
        "    grid = False,\n",
        "    bins = 10,\n",
        ")\n",
        "plt.xticks(range(4))\n",
        "# plt.savefig('init_distri.png')\n",
        "plt.show()"
      ],
      "metadata": {
        "colab": {
          "base_uri": "https://localhost:8080/",
          "height": 383
        },
        "id": "lwr76JbnMcTV",
        "outputId": "d74d8b19-9e7a-4d6d-835f-d17774784b3e",
        "execution": {
          "iopub.status.busy": "2023-03-08T10:34:45.090201Z",
          "iopub.execute_input": "2023-03-08T10:34:45.091089Z",
          "iopub.status.idle": "2023-03-08T10:34:45.379280Z",
          "shell.execute_reply.started": "2023-03-08T10:34:45.091050Z",
          "shell.execute_reply": "2023-03-08T10:34:45.378415Z"
        },
        "trusted": true
      },
      "execution_count": 86,
      "outputs": [
        {
          "output_type": "display_data",
          "data": {
            "text/plain": [
              "<Figure size 576x432 with 1 Axes>"
            ],
            "image/png": "[encoded data removed]"
          },
          "metadata": {
            "needs_background": "light"
          }
        }
      ]
    },
    {
      "cell_type": "code",
      "source": [
        "!pip install biosppy"
      ],
      "metadata": {
        "colab": {
          "base_uri": "https://localhost:8080/"
        },
        "id": "bsmAcEBWmmqZ",
        "outputId": "ab19898f-0b3f-45db-e9ba-d36e074ba482",
        "execution": {
          "iopub.status.busy": "2023-03-08T10:34:45.380785Z",
          "iopub.execute_input": "2023-03-08T10:34:45.381600Z",
          "iopub.status.idle": "2023-03-08T10:34:57.298937Z",
          "shell.execute_reply.started": "2023-03-08T10:34:45.381547Z",
          "shell.execute_reply": "2023-03-08T10:34:57.297824Z"
        },
        "trusted": true
      },
      "execution_count": 87,
      "outputs": [
        {
          "output_type": "stream",
          "name": "stdout",
          "text": [
            "Looking in indexes: https://pypi.org/simple, https://us-python.pkg.dev/colab-wheels/public/simple/\n",
            "Requirement already satisfied: biosppy in /usr/local/lib/python3.9/dist-packages (1.0.0)\n",
            "Requirement already satisfied: scipy in /usr/local/lib/python3.9/dist-packages (from biosppy) (1.10.1)\n",
            "Requirement already satisfied: bidict in /usr/local/lib/python3.9/dist-packages (from biosppy) (0.22.1)\n",
            "Requirement already satisfied: shortuuid in /usr/local/lib/python3.9/dist-packages (from biosppy) (1.0.11)\n",
            "Requirement already satisfied: h5py in /usr/local/lib/python3.9/dist-packages (from biosppy) (3.1.0)\n",
            "Requirement already satisfied: six in /usr/local/lib/python3.9/dist-packages (from biosppy) (1.15.0)\n",
            "Requirement already satisfied: numpy in /usr/local/lib/python3.9/dist-packages (from biosppy) (1.22.4)\n",
            "Requirement already satisfied: joblib in /usr/local/lib/python3.9/dist-packages (from biosppy) (1.2.0)\n",
            "Requirement already satisfied: matplotlib in /usr/local/lib/python3.9/dist-packages (from biosppy) (3.5.3)\n",
            "Requirement already satisfied: opencv-python in /usr/local/lib/python3.9/dist-packages (from biosppy) (4.6.0.66)\n",
            "Requirement already satisfied: scikit-learn in /usr/local/lib/python3.9/dist-packages (from biosppy) (1.2.1)\n",
            "Requirement already satisfied: pyparsing>=2.2.1 in /usr/local/lib/python3.9/dist-packages (from matplotlib->biosppy) (3.0.9)\n",
            "Requirement already satisfied: packaging>=20.0 in /usr/local/lib/python3.9/dist-packages (from matplotlib->biosppy) (23.0)\n",
            "Requirement already satisfied: fonttools>=4.22.0 in /usr/local/lib/python3.9/dist-packages (from matplotlib->biosppy) (4.39.0)\n",
            "Requirement already satisfied: kiwisolver>=1.0.1 in /usr/local/lib/python3.9/dist-packages (from matplotlib->biosppy) (1.4.4)\n",
            "Requirement already satisfied: python-dateutil>=2.7 in /usr/local/lib/python3.9/dist-packages (from matplotlib->biosppy) (2.8.2)\n",
            "Requirement already satisfied: cycler>=0.10 in /usr/local/lib/python3.9/dist-packages (from matplotlib->biosppy) (0.11.0)\n",
            "Requirement already satisfied: pillow>=6.2.0 in /usr/local/lib/python3.9/dist-packages (from matplotlib->biosppy) (8.4.0)\n",
            "Requirement already satisfied: threadpoolctl>=2.0.0 in /usr/local/lib/python3.9/dist-packages (from scikit-learn->biosppy) (3.1.0)\n"
          ]
        }
      ]
    },
    {
      "cell_type": "code",
      "source": [
        "import biosppy"
      ],
      "metadata": {
        "id": "pJMoOkWSmzkf",
        "execution": {
          "iopub.status.busy": "2023-03-08T10:34:57.300808Z",
          "iopub.execute_input": "2023-03-08T10:34:57.301201Z",
          "iopub.status.idle": "2023-03-08T10:34:57.453801Z",
          "shell.execute_reply.started": "2023-03-08T10:34:57.301159Z",
          "shell.execute_reply": "2023-03-08T10:34:57.452580Z"
        },
        "trusted": true
      },
      "execution_count": 88,
      "outputs": []
    },
    {
      "cell_type": "code",
      "source": [
        "classes_array = ['N', 'O', 'A', '~']"
      ],
      "metadata": {
        "id": "PjJ7Nq0EoVXJ",
        "execution": {
          "iopub.status.busy": "2023-03-08T10:34:57.455448Z",
          "iopub.execute_input": "2023-03-08T10:34:57.455806Z",
          "iopub.status.idle": "2023-03-08T10:34:57.461606Z",
          "shell.execute_reply.started": "2023-03-08T10:34:57.455773Z",
          "shell.execute_reply": "2023-03-08T10:34:57.460182Z"
        },
        "trusted": true
      },
      "execution_count": 89,
      "outputs": []
    },
    {
      "cell_type": "code",
      "source": [
        "def window_2(signal, intersection, window_size, n):\n",
        "  s_size = len(signal)\n",
        "  max_n = (s_size-intersection)/(window_size - intersection)\n",
        "  samples = []\n",
        "  \n",
        "  if  n == \"max\" or n > max_n:\n",
        "    n = max_n\n",
        "    n = math.floor(n)\n",
        "    \n",
        "  max_begin = s_size - (n*(window_size) - (n-1)*intersection) + 1\n",
        "  init = random.randrange(max_begin)\n",
        "  for i in range(0, n):\n",
        "    begin = init + i*window_size - i*intersection\n",
        "    end = begin + window_size\n",
        "    \n",
        "    samples.append(signal[begin:end])\n",
        "\n",
        "  \n",
        "  return samples"
      ],
      "metadata": {
        "execution": {
          "iopub.status.busy": "2023-03-08T12:01:01.534278Z",
          "iopub.execute_input": "2023-03-08T12:01:01.534724Z",
          "iopub.status.idle": "2023-03-08T12:01:01.544970Z",
          "shell.execute_reply.started": "2023-03-08T12:01:01.534682Z",
          "shell.execute_reply": "2023-03-08T12:01:01.542747Z"
        },
        "trusted": true,
        "id": "1pCij200S3Qs"
      },
      "execution_count": 90,
      "outputs": []
    },
    {
      "cell_type": "code",
      "source": [
        "def window(data, lsup=None, linf=None):\n",
        "  samples = []\n",
        "  count = 1\n",
        "  peaks =  biosppy.signals.ecg.christov_segmenter(signal=data, sampling_rate = 300)[0]\n",
        "  for i in (peaks[1:-1]):\n",
        "      diff1 = abs(peaks[count - 1] - i)\n",
        "      diff2 = abs(peaks[count + 1]- i)\n",
        "      x = peaks[count - 1] + diff1//2\n",
        "      y = peaks[count + 1] - diff2//2\n",
        "      signal = data[x:y]\n",
        "    \n",
        "      if lsup != None: \n",
        "          if (lsup >= len(signal) and len(signal) >= linf): \n",
        "            samples.append(signal)\n",
        "      else:\n",
        "        samples.append(signal)\n",
        "            \n",
        "      count += 1\n",
        "  if lsup != None:  \n",
        "    if len(samples) == 0:\n",
        "        samples = window_2(data, 0, int(np.floor(lsup)), \"max\")\n",
        "        \n",
        "  return samples"
      ],
      "metadata": {
        "id": "S9cPB1Lq_ucf",
        "execution": {
          "iopub.status.busy": "2023-03-08T12:00:21.485653Z",
          "iopub.execute_input": "2023-03-08T12:00:21.486736Z",
          "iopub.status.idle": "2023-03-08T12:00:21.496303Z",
          "shell.execute_reply.started": "2023-03-08T12:00:21.486688Z",
          "shell.execute_reply": "2023-03-08T12:00:21.495297Z"
        },
        "trusted": true
      },
      "execution_count": 91,
      "outputs": []
    },
    {
      "cell_type": "code",
      "source": [
        "def embalance_data(df, classes_array, lsup = None, linf = None):\n",
        "\n",
        "  a = df.groupby('classes')\n",
        "  d_train = df.copy()\n",
        "  d_train = d_train.iloc[0:0]\n",
        "\n",
        "\n",
        "  idx = -1\n",
        "  for i in classes_array:\n",
        "    aux = []\n",
        "    idx += 1\n",
        "\n",
        "    for index, row in a.get_group(i).iterrows():\n",
        "      samples = window(row[\"signals\"], lsup, linf)\n",
        "      \n",
        "      for k in range(len(samples)):\n",
        "        d_train = d_train.append({'signals': samples[k], 'classes': i}, ignore_index=True)\n",
        "\n",
        "  return d_train"
      ],
      "metadata": {
        "id": "YZr7BUydRh99",
        "execution": {
          "iopub.status.busy": "2023-03-08T12:00:24.333781Z",
          "iopub.execute_input": "2023-03-08T12:00:24.334257Z",
          "iopub.status.idle": "2023-03-08T12:00:24.341846Z",
          "shell.execute_reply.started": "2023-03-08T12:00:24.334164Z",
          "shell.execute_reply": "2023-03-08T12:00:24.340544Z"
        },
        "trusted": true
      },
      "execution_count": 92,
      "outputs": []
    },
    {
      "cell_type": "code",
      "source": [
        "# x_rem, x_test, y_rem, y_test = train_test_split(df[\"signals\"], df[\"classes\"], test_size=0.25)\n",
        "x_train, x_valid, y_train, y_valid = train_test_split(df[\"signals\"], df[\"classes\"], test_size=0.15, shuffle=False)\n",
        "\n",
        "d_aux_train = pd.DataFrame({'signals': x_train, 'classes': y_train})\n",
        "d_aux_valid = pd.DataFrame({'signals': x_valid, 'classes': y_valid})\n",
        "\n",
        "#Geração dos datasets com as amostras\n",
        "# d_train = embalance_data(d_aux_train, classes_array)\n",
        "# d_valid = embalance_data(d_aux_valid, classes_array)\n"
      ],
      "metadata": {
        "id": "wnxkAcA-MQLx",
        "trusted": true
      },
      "execution_count": 93,
      "outputs": []
    },
    {
      "cell_type": "code",
      "source": [
        "d_train = pd.read_hdf('drive/MyDrive/CNN_Chagas/Physionet/cnn-1d/d_train.h5', 'table')\n",
        "d_valid = pd.read_hdf('drive/MyDrive/CNN_Chagas/Physionet/cnn-1d/d_valid.h5', 'table')"
      ],
      "metadata": {
        "id": "4Ld9qhCJdRx3",
        "execution": {
          "iopub.status.busy": "2023-03-08T02:13:41.130336Z",
          "iopub.execute_input": "2023-03-08T02:13:41.130819Z",
          "iopub.status.idle": "2023-03-08T02:13:41.140354Z",
          "shell.execute_reply.started": "2023-03-08T02:13:41.130779Z",
          "shell.execute_reply": "2023-03-08T02:13:41.138781Z"
        },
        "trusted": true
      },
      "execution_count": 94,
      "outputs": []
    },
    {
      "cell_type": "code",
      "source": [
        "b = d_train.groupby('classes')\n",
        "\n",
        "for i in ['N','O', 'A', '~']:\n",
        "  print(i)\n",
        "  aux = []\n",
        "\n",
        "  for j in b.get_group(i)[\"signals\"]:\n",
        "    aux.append(len(j))\n",
        "\n",
        "  print('Média:', round(np.mean(aux), 2))\n",
        "  print(\"Std:\", round(np.std(aux), 2))\n",
        "  print(\"Qntd:\", len(aux))\n",
        "  print(\"Min:\", min(aux))\n",
        "  print(\"---------------\")"
      ],
      "metadata": {
        "colab": {
          "base_uri": "https://localhost:8080/"
        },
        "id": "43x8T4SGe6ur",
        "outputId": "9b2e0f18-9b2f-4aa6-9466-06265bb21958",
        "trusted": true
      },
      "execution_count": 95,
      "outputs": [
        {
          "output_type": "stream",
          "name": "stdout",
          "text": [
            "N\n",
            "Média: 258.7\n",
            "Std: 86.88\n",
            "Qntd: 148080\n",
            "Min: 28\n",
            "---------------\n",
            "O\n",
            "Média: 249.1\n",
            "Std: 117.33\n",
            "Qntd: 78581\n",
            "Min: 23\n",
            "---------------\n",
            "A\n",
            "Média: 203.41\n",
            "Std: 84.05\n",
            "Qntd: 28326\n",
            "Min: 38\n",
            "---------------\n",
            "~\n",
            "Média: 291.58\n",
            "Std: 312.05\n",
            "Qntd: 4707\n",
            "Min: 20\n",
            "---------------\n"
          ]
        }
      ]
    },
    {
      "cell_type": "code",
      "source": [
        "from sklearn.utils import shuffle\n",
        "aux = shuffle(d_train)"
      ],
      "metadata": {
        "id": "YYDQ90X86Rct",
        "execution": {
          "iopub.status.busy": "2023-03-08T11:55:25.447667Z",
          "iopub.execute_input": "2023-03-08T11:55:25.448227Z",
          "iopub.status.idle": "2023-03-08T11:55:25.503400Z",
          "shell.execute_reply.started": "2023-03-08T11:55:25.448173Z",
          "shell.execute_reply": "2023-03-08T11:55:25.502003Z"
        },
        "trusted": true
      },
      "execution_count": 96,
      "outputs": []
    },
    {
      "cell_type": "code",
      "source": [
        "plt.rcParams[\"figure.figsize\"] = (20,8)\n",
        "fig, ax = plt.subplots(2, 3)\n",
        "\n",
        "count = 0\n",
        "for i in range(2):\n",
        "  for j in range(3):\n",
        "    ax[i, j].plot(aux[\"signals\"][count])\n",
        "    count += 1"
      ],
      "metadata": {
        "colab": {
          "base_uri": "https://localhost:8080/",
          "height": 415
        },
        "id": "oMvMh6ND6pnS",
        "outputId": "6f2f7f68-562c-42dd-9067-5cb5eb64d42e",
        "execution": {
          "iopub.status.busy": "2023-03-08T11:55:26.946160Z",
          "iopub.execute_input": "2023-03-08T11:55:26.947212Z",
          "iopub.status.idle": "2023-03-08T11:55:27.699201Z",
          "shell.execute_reply.started": "2023-03-08T11:55:26.947168Z",
          "shell.execute_reply": "2023-03-08T11:55:27.697887Z"
        },
        "trusted": true
      },
      "execution_count": 97,
      "outputs": [
        {
          "output_type": "display_data",
          "data": {
            "text/plain": [
              "<Figure size 1440x576 with 6 Axes>"
            ],
            "image/png": "[encoded data removed]"
          },
          "metadata": {
            "needs_background": "light"
          }
        }
      ]
    },
    {
      "cell_type": "code",
      "source": [
        "sizes = []\n",
        "for i in d_train[\"signals\"]:\n",
        "  sizes.append(len(i))"
      ],
      "metadata": {
        "id": "Q-8luXkC9E5s",
        "execution": {
          "iopub.status.busy": "2023-03-08T11:46:36.228101Z",
          "iopub.execute_input": "2023-03-08T11:46:36.228545Z",
          "iopub.status.idle": "2023-03-08T11:46:36.327388Z",
          "shell.execute_reply.started": "2023-03-08T11:46:36.228510Z",
          "shell.execute_reply": "2023-03-08T11:46:36.326282Z"
        },
        "trusted": true
      },
      "execution_count": 98,
      "outputs": []
    },
    {
      "cell_type": "code",
      "source": [
        "def rm_outliers(vector):\n",
        "  vector.sort() \n",
        "  size = len(vector)\n",
        "  mean = sum(vector)/len(vector)\n",
        "  q1 = vector[round(0.25*size) - 1]\n",
        "  q3 = vector[round(0.75*size) - 1]\n",
        "  iqr = q3-q1\n",
        "  linf = mean - 1.5*iqr\n",
        "  lsup = mean + 1.5*iqr\n",
        "\n",
        "  # new_vec = []\n",
        "  # for i in vector:\n",
        "  #   if i >= linf and i <=lsup:\n",
        "  #     new_vec.append(i)\n",
        "\n",
        "  return linf, lsup"
      ],
      "metadata": {
        "id": "_BZYOi4QBmvr",
        "execution": {
          "iopub.status.busy": "2023-03-08T11:46:38.144241Z",
          "iopub.execute_input": "2023-03-08T11:46:38.144967Z",
          "iopub.status.idle": "2023-03-08T11:46:38.151672Z",
          "shell.execute_reply.started": "2023-03-08T11:46:38.144928Z",
          "shell.execute_reply": "2023-03-08T11:46:38.150447Z"
        },
        "trusted": true
      },
      "execution_count": 99,
      "outputs": []
    },
    {
      "cell_type": "code",
      "source": [
        "# linf, lsup = rm_outliers(sizes)\n",
        "linf = 134.85932289540767\n",
        "lsup = 365.8593228954077"
      ],
      "metadata": {
        "id": "lSmedCM2Eucj",
        "execution": {
          "iopub.status.busy": "2023-03-08T11:46:41.118924Z",
          "iopub.execute_input": "2023-03-08T11:46:41.119359Z",
          "iopub.status.idle": "2023-03-08T11:46:41.161463Z",
          "shell.execute_reply.started": "2023-03-08T11:46:41.119320Z",
          "shell.execute_reply": "2023-03-08T11:46:41.159956Z"
        },
        "trusted": true
      },
      "execution_count": 100,
      "outputs": []
    },
    {
      "cell_type": "code",
      "source": [
        "print(linf, lsup)"
      ],
      "metadata": {
        "colab": {
          "base_uri": "https://localhost:8080/"
        },
        "id": "9AcNGgTYMHPt",
        "outputId": "4eb092a7-129b-4ee9-e231-1b4346852c8b"
      },
      "execution_count": 101,
      "outputs": [
        {
          "output_type": "stream",
          "name": "stdout",
          "text": [
            "134.85932289540767 365.8593228954077\n"
          ]
        }
      ]
    },
    {
      "cell_type": "code",
      "source": [],
      "metadata": {
        "id": "kDAiDus2S3Qu"
      },
      "execution_count": 101,
      "outputs": []
    },
    {
      "cell_type": "code",
      "source": [
        "# Salvar DataFrames\n",
        "# d_train = embalance_data(d_aux_train, classes_array, lsup, linf)\n",
        "# d_valid = embalance_data(d_aux_valid, classes_array, lsup, linf)\n",
        "\n",
        "# d_train.to_hdf('drive/MyDrive/CNN_Chagas/Physionet/cnn-1d/d_train_2.h5','table')\n",
        "# d_valid.to_hdf('drive/MyDrive/CNN_Chagas/Physionet/cnn-1d/d_valid_2.h5','table')\n",
        "\n",
        "# Carregar DataFrames\n",
        "d_train = pd.read_hdf('drive/MyDrive/CNN_Chagas/Physionet/cnn-1d/d_train_2.h5', 'table')\n",
        "d_valid = pd.read_hdf('drive/MyDrive/CNN_Chagas/Physionet/cnn-1d/d_valid_2.h5', 'table')"
      ],
      "metadata": {
        "id": "YnhvAo04S3Qu"
      },
      "execution_count": 102,
      "outputs": []
    },
    {
      "cell_type": "code",
      "source": [
        "len(d_train[\"signals\"])"
      ],
      "metadata": {
        "colab": {
          "base_uri": "https://localhost:8080/"
        },
        "id": "KMg7O1TihFgQ",
        "outputId": "42abfdd3-2e27-4a4d-f435-ee0e265baf8e",
        "execution": {
          "iopub.status.busy": "2023-03-08T02:13:42.413486Z",
          "iopub.execute_input": "2023-03-08T02:13:42.414335Z",
          "iopub.status.idle": "2023-03-08T02:13:42.426909Z",
          "shell.execute_reply.started": "2023-03-08T02:13:42.414289Z",
          "shell.execute_reply": "2023-03-08T02:13:42.425283Z"
        },
        "trusted": true
      },
      "execution_count": 103,
      "outputs": [
        {
          "output_type": "execute_result",
          "data": {
            "text/plain": [
              "244388"
            ]
          },
          "metadata": {},
          "execution_count": 103
        }
      ]
    },
    {
      "cell_type": "code",
      "source": [
        "drop = []\n",
        "for i, val in enumerate(d_train[\"signals\"]):\n",
        "  if len(val) > lsup or  len(val) < linf:\n",
        "    drop.append(i)\n",
        "\n",
        "d_train.drop(labels=drop, axis=0, inplace=True)"
      ],
      "metadata": {
        "id": "lWqaZeRIFlL8",
        "execution": {
          "iopub.status.busy": "2023-03-08T02:13:42.428844Z",
          "iopub.execute_input": "2023-03-08T02:13:42.429636Z",
          "iopub.status.idle": "2023-03-08T02:13:42.604272Z",
          "shell.execute_reply.started": "2023-03-08T02:13:42.429570Z",
          "shell.execute_reply": "2023-03-08T02:13:42.602551Z"
        },
        "trusted": true
      },
      "execution_count": 104,
      "outputs": []
    },
    {
      "cell_type": "code",
      "source": [
        "drop = []\n",
        "for i, val in enumerate(d_valid[\"signals\"]):\n",
        "  if len(val) > lsup or  len(val) < linf:\n",
        "    drop.append(i)\n",
        "\n",
        "d_valid.drop(labels=drop, axis=0, inplace=True)"
      ],
      "metadata": {
        "id": "3jKFAPdimUEN",
        "execution": {
          "iopub.status.busy": "2023-03-08T02:13:42.607396Z",
          "iopub.execute_input": "2023-03-08T02:13:42.607892Z",
          "iopub.status.idle": "2023-03-08T02:13:42.647490Z",
          "shell.execute_reply.started": "2023-03-08T02:13:42.607810Z",
          "shell.execute_reply": "2023-03-08T02:13:42.645947Z"
        },
        "trusted": true
      },
      "execution_count": 105,
      "outputs": []
    },
    {
      "cell_type": "code",
      "source": [
        "len(d_train[\"signals\"])"
      ],
      "metadata": {
        "colab": {
          "base_uri": "https://localhost:8080/"
        },
        "id": "OLi-srf2jO3c",
        "outputId": "af2da261-4c37-4326-b8e4-cf80071025c6",
        "execution": {
          "iopub.status.busy": "2023-03-08T02:13:42.649364Z",
          "iopub.execute_input": "2023-03-08T02:13:42.649848Z",
          "iopub.status.idle": "2023-03-08T02:13:42.658620Z",
          "shell.execute_reply.started": "2023-03-08T02:13:42.649786Z",
          "shell.execute_reply": "2023-03-08T02:13:42.657493Z"
        },
        "trusted": true
      },
      "execution_count": 106,
      "outputs": [
        {
          "output_type": "execute_result",
          "data": {
            "text/plain": [
              "244388"
            ]
          },
          "metadata": {},
          "execution_count": 106
        }
      ]
    },
    {
      "cell_type": "code",
      "source": [
        "import math"
      ],
      "metadata": {
        "id": "EqD7HPvcrMD7",
        "execution": {
          "iopub.status.busy": "2023-03-08T02:13:42.660379Z",
          "iopub.execute_input": "2023-03-08T02:13:42.660768Z",
          "iopub.status.idle": "2023-03-08T02:13:42.672001Z",
          "shell.execute_reply.started": "2023-03-08T02:13:42.660734Z",
          "shell.execute_reply": "2023-03-08T02:13:42.670654Z"
        },
        "trusted": true
      },
      "execution_count": 107,
      "outputs": []
    },
    {
      "cell_type": "code",
      "source": [
        "def norm_len(signals):\n",
        "  cont = -1\n",
        "  x = []\n",
        "\n",
        "  for sig in signals:\n",
        "    cont += 1\n",
        "\n",
        "    n = math.floor(lsup) - len(sig)\n",
        "\n",
        "    zeros = np.zeros(int(n))\n",
        "    x += list(np.concatenate((sig, zeros), axis=None))\n",
        "\n",
        "  x = np.array(x)\n",
        "  x = x.reshape(-1, 1, math.floor(lsup))\n",
        "\n",
        "  return x   "
      ],
      "metadata": {
        "id": "t0i-vTYpnv--",
        "execution": {
          "iopub.status.busy": "2023-03-08T02:13:42.673268Z",
          "iopub.execute_input": "2023-03-08T02:13:42.673654Z",
          "iopub.status.idle": "2023-03-08T02:13:42.688583Z",
          "shell.execute_reply.started": "2023-03-08T02:13:42.673608Z",
          "shell.execute_reply": "2023-03-08T02:13:42.686955Z"
        },
        "trusted": true
      },
      "execution_count": 108,
      "outputs": []
    },
    {
      "cell_type": "code",
      "source": [
        "x_train = norm_len(d_train[\"signals\"])\n",
        "x_valid = norm_len(d_valid[\"signals\"])"
      ],
      "metadata": {
        "id": "uOEr3Om8ovlO",
        "execution": {
          "iopub.status.busy": "2023-03-08T02:13:42.690237Z",
          "iopub.execute_input": "2023-03-08T02:13:42.690634Z",
          "iopub.status.idle": "2023-03-08T02:14:00.259627Z",
          "shell.execute_reply.started": "2023-03-08T02:13:42.690595Z",
          "shell.execute_reply": "2023-03-08T02:14:00.258020Z"
        },
        "trusted": true
      },
      "execution_count": 109,
      "outputs": []
    },
    {
      "cell_type": "code",
      "source": [
        "y_train = pd.get_dummies(d_train[\"classes\"])\n",
        "y_valid = pd.get_dummies(d_valid[\"classes\"])"
      ],
      "metadata": {
        "id": "7hi21Xiw0Nfx",
        "execution": {
          "iopub.status.busy": "2023-03-08T02:14:00.261481Z",
          "iopub.execute_input": "2023-03-08T02:14:00.261933Z",
          "iopub.status.idle": "2023-03-08T02:14:00.298146Z",
          "shell.execute_reply.started": "2023-03-08T02:14:00.261891Z",
          "shell.execute_reply": "2023-03-08T02:14:00.296987Z"
        },
        "trusted": true
      },
      "execution_count": 110,
      "outputs": []
    },
    {
      "cell_type": "code",
      "source": [
        "from keras.models import Sequential\n",
        "from keras.layers import Dense, Flatten, Input, concatenate\n",
        "from keras.layers import Conv1D, MaxPooling1D, Conv2D, MaxPooling2D, LSTM\n",
        "\n",
        "from keras.layers import Dense, BatchNormalization, Dropout\n",
        "from tensorflow.keras.optimizers import Adam, SGD, RMSprop, Adadelta, Adagrad, Adamax, Nadam, Ftrl"
      ],
      "metadata": {
        "id": "D-ul-h5F50lI",
        "execution": {
          "iopub.status.busy": "2023-03-08T02:14:00.300210Z",
          "iopub.execute_input": "2023-03-08T02:14:00.300598Z",
          "iopub.status.idle": "2023-03-08T02:14:11.077948Z",
          "shell.execute_reply.started": "2023-03-08T02:14:00.300562Z",
          "shell.execute_reply": "2023-03-08T02:14:11.076319Z"
        },
        "trusted": true
      },
      "execution_count": 111,
      "outputs": []
    },
    {
      "cell_type": "code",
      "source": [
        "# Import packages\n",
        "from sklearn.model_selection import cross_val_score\n",
        "from tensorflow.keras.models import Sequential, Model, load_model\n",
        "from tensorflow.keras.layers import Dense, BatchNormalization, Dropout\n",
        "from tensorflow.keras.callbacks import EarlyStopping, ModelCheckpoint\n",
        "from tensorflow.keras.wrappers.scikit_learn import KerasClassifier\n",
        "from math import floor\n",
        "from sklearn.metrics import make_scorer, accuracy_score\n",
        "\n",
        "pd.set_option(\"display.max_columns\", None)\n",
        "\n",
        "from sklearn import metrics\n",
        "import tensorflow as tf"
      ],
      "metadata": {
        "id": "-T3zPP9a5oht",
        "execution": {
          "iopub.status.busy": "2023-03-08T02:14:11.080112Z",
          "iopub.execute_input": "2023-03-08T02:14:11.081132Z",
          "iopub.status.idle": "2023-03-08T02:14:11.090810Z",
          "shell.execute_reply.started": "2023-03-08T02:14:11.081086Z",
          "shell.execute_reply": "2023-03-08T02:14:11.089127Z"
        },
        "trusted": true
      },
      "execution_count": 112,
      "outputs": []
    },
    {
      "cell_type": "code",
      "source": [
        "from keras import backend as K"
      ],
      "metadata": {
        "id": "Gy6quAexInYz",
        "execution": {
          "iopub.status.busy": "2023-03-08T02:14:11.093283Z",
          "iopub.execute_input": "2023-03-08T02:14:11.094266Z",
          "iopub.status.idle": "2023-03-08T02:14:11.105601Z",
          "shell.execute_reply.started": "2023-03-08T02:14:11.094191Z",
          "shell.execute_reply": "2023-03-08T02:14:11.103893Z"
        },
        "trusted": true
      },
      "execution_count": 113,
      "outputs": []
    },
    {
      "cell_type": "code",
      "source": [
        "def f1(y_true, y_pred):\n",
        "    def recall(y_true, y_pred):\n",
        "        \"\"\"Recall metric.\n",
        "\n",
        "        Only computes a batch-wise average of recall.\n",
        "\n",
        "        Computes the recall, a metric for multi-label classification of\n",
        "        how many relevant items are selected.\n",
        "        \"\"\"\n",
        "        true_positives = K.sum(K.round(K.clip(y_true * y_pred, 0, 1)))\n",
        "        possible_positives = K.sum(K.round(K.clip(y_true, 0, 1)))\n",
        "        recall = true_positives / (possible_positives + K.epsilon())\n",
        "        return recall\n",
        "\n",
        "    def precision(y_true, y_pred):\n",
        "        \"\"\"Precision metric.\n",
        "\n",
        "        Only computes a batch-wise average of precision.\n",
        "\n",
        "        Computes the precision, a metric for multi-label classification of\n",
        "        how many selected items are relevant.\n",
        "        \"\"\"\n",
        "        true_positives = K.sum(K.round(K.clip(y_true * y_pred, 0, 1)))\n",
        "        predicted_positives = K.sum(K.round(K.clip(y_pred, 0, 1)))\n",
        "        precision = true_positives / (predicted_positives + K.epsilon())\n",
        "        return precision\n",
        "    precision = precision(y_true, y_pred)\n",
        "    recall = recall(y_true, y_pred)\n",
        "    return 2*((precision*recall)/(precision+recall+K.epsilon()))"
      ],
      "metadata": {
        "id": "gmv1SIdKIMrs",
        "execution": {
          "iopub.status.busy": "2023-03-08T02:14:11.107753Z",
          "iopub.execute_input": "2023-03-08T02:14:11.109087Z",
          "iopub.status.idle": "2023-03-08T02:14:11.121645Z",
          "shell.execute_reply.started": "2023-03-08T02:14:11.109039Z",
          "shell.execute_reply": "2023-03-08T02:14:11.119954Z"
        },
        "trusted": true
      },
      "execution_count": 114,
      "outputs": []
    },
    {
      "cell_type": "code",
      "source": [
        "inp_shape = int(np.floor(lsup))"
      ],
      "metadata": {
        "id": "9EadkelLP4Xh",
        "execution": {
          "iopub.status.busy": "2023-03-08T02:14:11.123511Z",
          "iopub.execute_input": "2023-03-08T02:14:11.124860Z",
          "iopub.status.idle": "2023-03-08T02:14:11.134903Z",
          "shell.execute_reply.started": "2023-03-08T02:14:11.124792Z",
          "shell.execute_reply": "2023-03-08T02:14:11.133407Z"
        },
        "trusted": true
      },
      "execution_count": 115,
      "outputs": []
    },
    {
      "cell_type": "code",
      "source": [
        "path_check = 'drive/MyDrive/CNN_Chagas/Physionet/cnn-1d'"
      ],
      "metadata": {
        "id": "BWa2CUofK_zO",
        "execution": {
          "iopub.status.busy": "2023-03-07T20:27:30.082184Z",
          "iopub.execute_input": "2023-03-07T20:27:30.082591Z",
          "iopub.status.idle": "2023-03-07T20:27:30.094540Z",
          "shell.execute_reply.started": "2023-03-07T20:27:30.082546Z",
          "shell.execute_reply": "2023-03-07T20:27:30.093367Z"
        },
        "trusted": true
      },
      "execution_count": null,
      "outputs": []
    },
    {
      "cell_type": "code",
      "source": [
        "classificador_1 = Sequential()\n",
        "\n",
        "classificador_1.add(LSTM(units=128, return_sequences = True,\n",
        "                       dropout=0.22, recurrent_dropout=0.44, input_shape=(1, inp_shape)\n",
        "                       ))\n",
        "\n",
        "classificador_1.add(LSTM(units=128, return_sequences = True, dropout=0.35, recurrent_dropout=0.36))\n",
        "\n",
        "classificador_1.add(Flatten())\n",
        "\n",
        "classificador_1.add(Dense(256, activation='relu'))\n",
        "classificador_1.add(Dropout(0.25))\n",
        "# classificador_1.add(Dense(64, activation='relu'))\n",
        "# classificador_1.add(Dropout(0.25))\n",
        "# classificador_1.add(Dense(8, activation='relu'))\n",
        "# classificador_1.add(Dropout(0.25))\n",
        "\n",
        "classificador_1.add(Dense(4, activation='softmax'))\n",
        "\n",
        "classificador_1.compile(loss='categorical_crossentropy', optimizer=Adam(learning_rate=0.015), metrics=[\"accuracy\"])\n",
        "\n",
        "es = EarlyStopping(monitor=\"val_accuracy\", mode='max', verbose=0, patience=20)\n",
        "\n",
        "checkpoint = ModelCheckpoint('_pesos_lstm1.hdf5', monitor=\"val_accuracy\", verbose=1, \n",
        "                                  save_best_only=True, mode='max') \n",
        "\n",
        "history_1 = classificador_1.fit(x_train, y_train, validation_data = (x_valid, y_valid), \n",
        "                                epochs=150, callbacks=[es, checkpoint], verbose=1, use_multiprocessing=True, workers=8)"
      ],
      "metadata": {
        "id": "HUlwS4hx21Hf",
        "colab": {
          "base_uri": "https://localhost:8080/"
        },
        "outputId": "b39ba9b4-4fdd-472d-b8fa-c935276d6d1b",
        "execution": {
          "iopub.status.busy": "2023-03-07T19:02:03.095659Z",
          "iopub.status.idle": "2023-03-07T19:02:03.096427Z",
          "shell.execute_reply.started": "2023-03-07T19:02:03.096143Z",
          "shell.execute_reply": "2023-03-07T19:02:03.096185Z"
        },
        "trusted": true
      },
      "execution_count": null,
      "outputs": [
        {
          "output_type": "stream",
          "name": "stdout",
          "text": [
            "Epoch 1/150\n",
            "7635/7638 [============================>.] - ETA: 0s - loss: 0.9280 - accuracy: 0.6165\n",
            "Epoch 1: val_accuracy improved from -inf to 0.62852, saving model to _pesos_lstm1.hdf5\n",
            "7638/7638 [==============================] - 101s 12ms/step - loss: 0.9281 - accuracy: 0.6165 - val_loss: 0.8995 - val_accuracy: 0.6285\n",
            "Epoch 2/150\n",
            "7638/7638 [==============================] - ETA: 0s - loss: 0.9162 - accuracy: 0.6223\n",
            "Epoch 2: val_accuracy did not improve from 0.62852\n",
            "7638/7638 [==============================] - 92s 12ms/step - loss: 0.9162 - accuracy: 0.6223 - val_loss: 0.9019 - val_accuracy: 0.6267\n",
            "Epoch 3/150\n",
            "7635/7638 [============================>.] - ETA: 0s - loss: 0.9123 - accuracy: 0.6229\n",
            "Epoch 3: val_accuracy did not improve from 0.62852\n",
            "7638/7638 [==============================] - 90s 12ms/step - loss: 0.9123 - accuracy: 0.6230 - val_loss: 0.9052 - val_accuracy: 0.6282\n",
            "Epoch 4/150\n",
            "7634/7638 [============================>.] - ETA: 0s - loss: 0.9107 - accuracy: 0.6238\n",
            "Epoch 4: val_accuracy improved from 0.62852 to 0.63034, saving model to _pesos_lstm1.hdf5\n",
            "7638/7638 [==============================] - 92s 12ms/step - loss: 0.9107 - accuracy: 0.6238 - val_loss: 0.8969 - val_accuracy: 0.6303\n",
            "Epoch 5/150\n",
            "7636/7638 [============================>.] - ETA: 0s - loss: 0.9089 - accuracy: 0.6237\n",
            "Epoch 5: val_accuracy improved from 0.63034 to 0.63211, saving model to _pesos_lstm1.hdf5\n",
            "7638/7638 [==============================] - 91s 12ms/step - loss: 0.9089 - accuracy: 0.6237 - val_loss: 0.8923 - val_accuracy: 0.6321\n",
            "Epoch 6/150\n",
            "7636/7638 [============================>.] - ETA: 0s - loss: 0.9066 - accuracy: 0.6255\n",
            "Epoch 6: val_accuracy improved from 0.63211 to 0.63310, saving model to _pesos_lstm1.hdf5\n",
            "7638/7638 [==============================] - 98s 13ms/step - loss: 0.9065 - accuracy: 0.6255 - val_loss: 0.9002 - val_accuracy: 0.6331\n",
            "Epoch 7/150\n",
            "7635/7638 [============================>.] - ETA: 0s - loss: 0.9058 - accuracy: 0.6257\n",
            "Epoch 7: val_accuracy improved from 0.63310 to 0.63520, saving model to _pesos_lstm1.hdf5\n",
            "7638/7638 [==============================] - 92s 12ms/step - loss: 0.9058 - accuracy: 0.6257 - val_loss: 0.8943 - val_accuracy: 0.6352\n",
            "Epoch 8/150\n",
            "7637/7638 [============================>.] - ETA: 0s - loss: 0.9039 - accuracy: 0.6270\n",
            "Epoch 8: val_accuracy did not improve from 0.63520\n",
            "7638/7638 [==============================] - 92s 12ms/step - loss: 0.9039 - accuracy: 0.6269 - val_loss: 0.9168 - val_accuracy: 0.6340\n",
            "Epoch 9/150\n",
            "7636/7638 [============================>.] - ETA: 0s - loss: 0.9045 - accuracy: 0.6261\n",
            "Epoch 9: val_accuracy did not improve from 0.63520\n",
            "7638/7638 [==============================] - 90s 12ms/step - loss: 0.9045 - accuracy: 0.6261 - val_loss: 0.9001 - val_accuracy: 0.6347\n",
            "Epoch 10/150\n",
            "7636/7638 [============================>.] - ETA: 0s - loss: 0.9036 - accuracy: 0.6270\n",
            "Epoch 10: val_accuracy improved from 0.63520 to 0.63676, saving model to _pesos_lstm1.hdf5\n",
            "7638/7638 [==============================] - 91s 12ms/step - loss: 0.9037 - accuracy: 0.6269 - val_loss: 0.8904 - val_accuracy: 0.6368\n",
            "Epoch 11/150\n",
            "7635/7638 [============================>.] - ETA: 0s - loss: 0.9029 - accuracy: 0.6272\n",
            "Epoch 11: val_accuracy did not improve from 0.63676\n",
            "7638/7638 [==============================] - 92s 12ms/step - loss: 0.9029 - accuracy: 0.6272 - val_loss: 0.8874 - val_accuracy: 0.6336\n",
            "Epoch 12/150\n",
            "7637/7638 [============================>.] - ETA: 0s - loss: 0.9030 - accuracy: 0.6264\n",
            "Epoch 12: val_accuracy did not improve from 0.63676\n",
            "7638/7638 [==============================] - 92s 12ms/step - loss: 0.9030 - accuracy: 0.6264 - val_loss: 0.8888 - val_accuracy: 0.6340\n",
            "Epoch 13/150\n",
            "7637/7638 [============================>.] - ETA: 0s - loss: 0.9021 - accuracy: 0.6279\n",
            "Epoch 13: val_accuracy did not improve from 0.63676\n",
            "7638/7638 [==============================] - 91s 12ms/step - loss: 0.9021 - accuracy: 0.6279 - val_loss: 0.8988 - val_accuracy: 0.6360\n",
            "Epoch 14/150\n",
            "7635/7638 [============================>.] - ETA: 0s - loss: 0.9027 - accuracy: 0.6283\n",
            "Epoch 14: val_accuracy did not improve from 0.63676\n",
            "7638/7638 [==============================] - 90s 12ms/step - loss: 0.9028 - accuracy: 0.6283 - val_loss: 0.8960 - val_accuracy: 0.6349\n",
            "Epoch 15/150\n",
            "7637/7638 [============================>.] - ETA: 0s - loss: 0.9021 - accuracy: 0.6278\n",
            "Epoch 15: val_accuracy did not improve from 0.63676\n",
            "7638/7638 [==============================] - 91s 12ms/step - loss: 0.9021 - accuracy: 0.6278 - val_loss: 0.8850 - val_accuracy: 0.6355\n",
            "Epoch 16/150\n",
            "7637/7638 [============================>.] - ETA: 0s - loss: 0.9029 - accuracy: 0.6280\n",
            "Epoch 16: val_accuracy did not improve from 0.63676\n",
            "7638/7638 [==============================] - 91s 12ms/step - loss: 0.9029 - accuracy: 0.6280 - val_loss: 0.8992 - val_accuracy: 0.6333\n",
            "Epoch 17/150\n",
            "7637/7638 [============================>.] - ETA: 0s - loss: 0.9025 - accuracy: 0.6275\n",
            "Epoch 17: val_accuracy did not improve from 0.63676\n",
            "7638/7638 [==============================] - 91s 12ms/step - loss: 0.9025 - accuracy: 0.6275 - val_loss: 0.8935 - val_accuracy: 0.6330\n",
            "Epoch 18/150\n",
            "7635/7638 [============================>.] - ETA: 0s - loss: 0.9000 - accuracy: 0.6284\n",
            "Epoch 18: val_accuracy did not improve from 0.63676\n",
            "7638/7638 [==============================] - 91s 12ms/step - loss: 0.9000 - accuracy: 0.6284 - val_loss: 0.8873 - val_accuracy: 0.6337\n",
            "Epoch 19/150\n",
            "7635/7638 [============================>.] - ETA: 0s - loss: 0.8999 - accuracy: 0.6288\n",
            "Epoch 19: val_accuracy did not improve from 0.63676\n",
            "7638/7638 [==============================] - 89s 12ms/step - loss: 0.8999 - accuracy: 0.6288 - val_loss: 0.8928 - val_accuracy: 0.6363\n",
            "Epoch 20/150\n",
            "7637/7638 [============================>.] - ETA: 0s - loss: 0.9017 - accuracy: 0.6288\n",
            "Epoch 20: val_accuracy did not improve from 0.63676\n",
            "7638/7638 [==============================] - 91s 12ms/step - loss: 0.9017 - accuracy: 0.6288 - val_loss: 0.8872 - val_accuracy: 0.6356\n",
            "Epoch 21/150\n",
            "7634/7638 [============================>.] - ETA: 0s - loss: 0.9008 - accuracy: 0.6282\n",
            "Epoch 21: val_accuracy did not improve from 0.63676\n",
            "7638/7638 [==============================] - 91s 12ms/step - loss: 0.9008 - accuracy: 0.6282 - val_loss: 0.8927 - val_accuracy: 0.6355\n",
            "Epoch 22/150\n",
            "7635/7638 [============================>.] - ETA: 0s - loss: 0.9009 - accuracy: 0.6286\n",
            "Epoch 22: val_accuracy did not improve from 0.63676\n",
            "7638/7638 [==============================] - 91s 12ms/step - loss: 0.9010 - accuracy: 0.6285 - val_loss: 0.9032 - val_accuracy: 0.6342\n",
            "Epoch 23/150\n",
            "7635/7638 [============================>.] - ETA: 0s - loss: 0.8998 - accuracy: 0.6285\n",
            "Epoch 23: val_accuracy did not improve from 0.63676\n",
            "7638/7638 [==============================] - 90s 12ms/step - loss: 0.8998 - accuracy: 0.6285 - val_loss: 0.8820 - val_accuracy: 0.6363\n",
            "Epoch 24/150\n",
            "7635/7638 [============================>.] - ETA: 0s - loss: 0.9006 - accuracy: 0.6276\n",
            "Epoch 24: val_accuracy did not improve from 0.63676\n",
            "7638/7638 [==============================] - 89s 12ms/step - loss: 0.9006 - accuracy: 0.6275 - val_loss: 0.8887 - val_accuracy: 0.6347\n",
            "Epoch 25/150\n",
            "7635/7638 [============================>.] - ETA: 0s - loss: 0.9012 - accuracy: 0.6270\n",
            "Epoch 25: val_accuracy did not improve from 0.63676\n",
            "7638/7638 [==============================] - 90s 12ms/step - loss: 0.9013 - accuracy: 0.6270 - val_loss: 0.8973 - val_accuracy: 0.6359\n",
            "Epoch 26/150\n",
            "7635/7638 [============================>.] - ETA: 0s - loss: 0.8991 - accuracy: 0.6283\n",
            "Epoch 26: val_accuracy did not improve from 0.63676\n",
            "7638/7638 [==============================] - 90s 12ms/step - loss: 0.8990 - accuracy: 0.6283 - val_loss: 0.8877 - val_accuracy: 0.6354\n",
            "Epoch 27/150\n",
            "7634/7638 [============================>.] - ETA: 0s - loss: 0.8999 - accuracy: 0.6270\n",
            "Epoch 27: val_accuracy did not improve from 0.63676\n",
            "7638/7638 [==============================] - 90s 12ms/step - loss: 0.8999 - accuracy: 0.6270 - val_loss: 0.8911 - val_accuracy: 0.6325\n",
            "Epoch 28/150\n",
            "7637/7638 [============================>.] - ETA: 0s - loss: 0.8995 - accuracy: 0.6278\n",
            "Epoch 28: val_accuracy did not improve from 0.63676\n",
            "7638/7638 [==============================] - 89s 12ms/step - loss: 0.8995 - accuracy: 0.6278 - val_loss: 0.8853 - val_accuracy: 0.6279\n",
            "Epoch 29/150\n",
            "7635/7638 [============================>.] - ETA: 0s - loss: 0.8983 - accuracy: 0.6278\n",
            "Epoch 29: val_accuracy did not improve from 0.63676\n",
            "7638/7638 [==============================] - 91s 12ms/step - loss: 0.8983 - accuracy: 0.6278 - val_loss: 0.8788 - val_accuracy: 0.6321\n",
            "Epoch 30/150\n",
            "7636/7638 [============================>.] - ETA: 0s - loss: 0.8978 - accuracy: 0.6274\n",
            "Epoch 30: val_accuracy did not improve from 0.63676\n",
            "7638/7638 [==============================] - 91s 12ms/step - loss: 0.8978 - accuracy: 0.6274 - val_loss: 0.8790 - val_accuracy: 0.6366\n"
          ]
        }
      ]
    },
    {
      "cell_type": "code",
      "source": [
        "plt.plot(history_1.history['accuracy'])\n",
        "plt.plot(history_1.history['val_accuracy'])\n",
        "plt.title('model accuracy')\n",
        "plt.ylabel('accuracy')\n",
        "plt.xlabel('epoch')\n",
        "plt.legend(['train', 'valid'], loc='upper left')\n",
        "plt.show()"
      ],
      "metadata": {
        "id": "O05h9sS2hHyr",
        "colab": {
          "base_uri": "https://localhost:8080/",
          "height": 460
        },
        "outputId": "fb3e45fc-aa73-4452-f9cf-97e6e4d3356c",
        "execution": {
          "iopub.status.busy": "2023-03-07T19:02:03.097750Z",
          "iopub.status.idle": "2023-03-07T19:02:03.098242Z",
          "shell.execute_reply.started": "2023-03-07T19:02:03.098017Z",
          "shell.execute_reply": "2023-03-07T19:02:03.098043Z"
        },
        "trusted": true
      },
      "execution_count": null,
      "outputs": [
        {
          "output_type": "display_data",
          "data": {
            "text/plain": [
              "<Figure size 1440x576 with 1 Axes>"
            ],
            "image/png": "[encoded data removed]"
          },
          "metadata": {
            "needs_background": "light"
          }
        }
      ]
    },
    {
      "cell_type": "markdown",
      "source": [
        "## Modelo 1 de LSTM"
      ],
      "metadata": {
        "id": "FKlEhGBTiPyd"
      }
    },
    {
      "cell_type": "code",
      "source": [
        "str(type(classificador_1.layers[0])) == \"<class 'keras.layers.rnn.lstm.LSTM'>\""
      ],
      "metadata": {
        "id": "xSJjQH2AhaWr",
        "execution": {
          "iopub.status.busy": "2023-03-07T19:02:03.100247Z",
          "iopub.status.idle": "2023-03-07T19:02:03.100734Z",
          "shell.execute_reply.started": "2023-03-07T19:02:03.100499Z",
          "shell.execute_reply": "2023-03-07T19:02:03.100524Z"
        },
        "trusted": true
      },
      "execution_count": null,
      "outputs": []
    },
    {
      "cell_type": "code",
      "source": [
        "model_weights_1 =[]\n",
        "for i in classificador_1.layers:\n",
        "  model_weights_1.append(i.get_weights())"
      ],
      "metadata": {
        "id": "_T_ik1irhz_i",
        "execution": {
          "iopub.status.busy": "2023-03-07T19:02:03.101903Z",
          "iopub.status.idle": "2023-03-07T19:02:03.102495Z",
          "shell.execute_reply.started": "2023-03-07T19:02:03.102251Z",
          "shell.execute_reply": "2023-03-07T19:02:03.102276Z"
        },
        "trusted": true
      },
      "execution_count": null,
      "outputs": []
    },
    {
      "cell_type": "code",
      "source": [
        "model_1 = Sequential()\n",
        "\n",
        "model_1.add(LSTM(units=128, return_sequences = True,\n",
        "                       dropout=0.22, recurrent_dropout=0.44, input_shape=(1, inp_shape)\n",
        "                       ))\n",
        "\n",
        "model_1.add(LSTM(units=128, return_sequences = True, dropout=0.35, recurrent_dropout=0.36))\n",
        "\n",
        "model_1.add(Flatten())\n",
        "\n",
        "model_1.add(Dense(256, activation='relu'))\n",
        "model_1.add(Dropout(0.25))"
      ],
      "metadata": {
        "id": "dukpqGeFiHK9",
        "execution": {
          "iopub.status.busy": "2023-03-08T02:14:11.136486Z",
          "iopub.execute_input": "2023-03-08T02:14:11.137550Z",
          "iopub.status.idle": "2023-03-08T02:14:11.778059Z",
          "shell.execute_reply.started": "2023-03-08T02:14:11.137492Z",
          "shell.execute_reply": "2023-03-08T02:14:11.776441Z"
        },
        "trusted": true
      },
      "execution_count": 116,
      "outputs": []
    },
    {
      "cell_type": "code",
      "source": [
        "count = 0\n",
        "for i in model_1.layers:\n",
        "  i.set_weights(model_weights_1[count])\n",
        "  count += 1"
      ],
      "metadata": {
        "id": "3lmqxE2vi4re",
        "execution": {
          "iopub.status.busy": "2023-03-07T19:02:03.107796Z",
          "iopub.status.idle": "2023-03-07T19:02:03.108278Z",
          "shell.execute_reply.started": "2023-03-07T19:02:03.108062Z",
          "shell.execute_reply": "2023-03-07T19:02:03.108086Z"
        },
        "trusted": true
      },
      "execution_count": null,
      "outputs": []
    },
    {
      "cell_type": "code",
      "source": [
        "# model_1.save('drive/MyDrive/CNN_Chagas/Physionet/cnn-1d/add_dense')\n",
        "model_1 = load_model('drive/MyDrive/CNN_Chagas/Physionet/cnn-1d/add_dense')"
      ],
      "metadata": {
        "colab": {
          "base_uri": "https://localhost:8080/"
        },
        "id": "MmPRrcSD5lrp",
        "outputId": "8d45830d-1ba5-4fd3-a167-d3f71f5dad1a",
        "execution": {
          "iopub.status.busy": "2023-03-08T02:14:11.780236Z",
          "iopub.execute_input": "2023-03-08T02:14:11.780701Z",
          "iopub.status.idle": "2023-03-08T02:14:14.642678Z",
          "shell.execute_reply.started": "2023-03-08T02:14:11.780658Z",
          "shell.execute_reply": "2023-03-08T02:14:14.639888Z"
        },
        "trusted": true
      },
      "execution_count": 118,
      "outputs": [
        {
          "output_type": "stream",
          "name": "stderr",
          "text": [
            "WARNING:tensorflow:No training configuration found in save file, so the model was *not* compiled. Compile it manually.\n"
          ]
        }
      ]
    },
    {
      "cell_type": "code",
      "source": [
        "model_1.layers"
      ],
      "metadata": {
        "colab": {
          "base_uri": "https://localhost:8080/"
        },
        "id": "T24q7VTHPCyM",
        "outputId": "ba4013fb-d50d-4b1e-fa0d-ba032c75867d",
        "execution": {
          "iopub.status.busy": "2023-03-08T02:14:14.656532Z",
          "iopub.execute_input": "2023-03-08T02:14:14.657526Z",
          "iopub.status.idle": "2023-03-08T02:14:14.665479Z",
          "shell.execute_reply.started": "2023-03-08T02:14:14.657475Z",
          "shell.execute_reply": "2023-03-08T02:14:14.664467Z"
        },
        "trusted": true
      },
      "execution_count": 119,
      "outputs": [
        {
          "output_type": "execute_result",
          "data": {
            "text/plain": [
              "[<keras.layers.rnn.lstm.LSTM at 0x7f4420934760>,\n",
              " <keras.layers.rnn.lstm.LSTM at 0x7f439008ad90>,\n",
              " <keras.layers.reshaping.flatten.Flatten at 0x7f4391fc88e0>,\n",
              " <keras.layers.core.dense.Dense at 0x7f4391fc8b50>,\n",
              " <keras.layers.regularization.dropout.Dropout at 0x7f4391fc81c0>]"
            ]
          },
          "metadata": {},
          "execution_count": 119
        }
      ]
    },
    {
      "cell_type": "markdown",
      "source": [
        "## Cobinação dos modelos"
      ],
      "metadata": {
        "id": "nAu0iwtfkqJa"
      }
    },
    {
      "cell_type": "code",
      "source": [
        "def pooling(array, type):\n",
        "  array_size = array.shape[1]\n",
        "  array_qnt = array.shape[0]\n",
        "  mp_vector = []\n",
        "\n",
        "  for j in range(0, array_size):\n",
        "    aux = []\n",
        "\n",
        "    for i in range(0, array_qnt):\n",
        "      aux.append(array[i][j])\n",
        "      \n",
        "    if type == \"max\":\n",
        "      mp_vector.append(max(aux))\n",
        "\n",
        "    elif  type == \"avg\":\n",
        "      mp_vector.append(np.mean(aux))\n",
        "\n",
        "  return mp_vector"
      ],
      "metadata": {
        "id": "0FrHJBx-0G60",
        "execution": {
          "iopub.status.busy": "2023-03-08T02:14:14.667049Z",
          "iopub.execute_input": "2023-03-08T02:14:14.667635Z",
          "iopub.status.idle": "2023-03-08T02:14:14.678028Z",
          "shell.execute_reply.started": "2023-03-08T02:14:14.667594Z",
          "shell.execute_reply": "2023-03-08T02:14:14.676611Z"
        },
        "trusted": true
      },
      "execution_count": 120,
      "outputs": []
    },
    {
      "cell_type": "code",
      "source": [
        "def combine_windows(df, model_1, lsup, linf):\n",
        "\n",
        "  get_final_output_1 = K.function([model_1.layers[0].input],\n",
        "                                  [model_1.layers[-1].output])\n",
        "\n",
        "  new_inputs = []\n",
        "    \n",
        "  for element in df[\"signals\"]:\n",
        "    samples = window(element, lsup, linf)\n",
        "    outputs_1 = []\n",
        "\n",
        "    samples = norm_len(samples)\n",
        "\n",
        "    for sample in samples:\n",
        "      sample = np.array(list(sample))\n",
        "      sample = sample.reshape(1, 1, sample.shape[1])\n",
        "      \n",
        "      output_1 = get_final_output_1(sample)\n",
        "      outputs_1.append(output_1)\n",
        "\n",
        "    outputs_1 = np.array(outputs_1)\n",
        "    outputs_1 = outputs_1.reshape(outputs_1.shape[0], outputs_1.shape[-1])\n",
        "\n",
        "    max_p = pooling(outputs_1, \"max\")\n",
        "    avg_p = pooling(outputs_1, \"avg\")\n",
        "\n",
        "    #print(print(max_p))\n",
        "    #print(type(avg_p))\n",
        "    #print(print(outputs_2))\n",
        "\n",
        "    new_inputs.append(max_p + avg_p)\n",
        "\n",
        "  return new_inputs\n"
      ],
      "metadata": {
        "id": "lrk54UcjVoKS",
        "execution": {
          "iopub.status.busy": "2023-03-08T02:14:14.680379Z",
          "iopub.execute_input": "2023-03-08T02:14:14.680963Z",
          "iopub.status.idle": "2023-03-08T02:14:14.693880Z",
          "shell.execute_reply.started": "2023-03-08T02:14:14.680897Z",
          "shell.execute_reply": "2023-03-08T02:14:14.692429Z"
        },
        "trusted": true
      },
      "execution_count": 121,
      "outputs": []
    },
    {
      "cell_type": "code",
      "source": [
        "new_inputs = combine_windows(d_aux_train, model_1, lsup, linf)"
      ],
      "metadata": {
        "id": "ExUgwfGs1fWa",
        "execution": {
          "iopub.status.busy": "2023-03-08T02:14:14.695229Z",
          "iopub.execute_input": "2023-03-08T02:14:14.696377Z"
        },
        "trusted": true
      },
      "execution_count": 122,
      "outputs": []
    },
    {
      "cell_type": "code",
      "source": [
        "!pip install xgboost"
      ],
      "metadata": {
        "colab": {
          "base_uri": "https://localhost:8080/"
        },
        "id": "thEDAXVOT86K",
        "outputId": "6c7093f2-8a57-4289-e5ef-48f9da7adc15"
      },
      "execution_count": 123,
      "outputs": [
        {
          "output_type": "stream",
          "name": "stdout",
          "text": [
            "Looking in indexes: https://pypi.org/simple, https://us-python.pkg.dev/colab-wheels/public/simple/\n",
            "Requirement already satisfied: xgboost in /usr/local/lib/python3.9/dist-packages (1.7.4)\n",
            "Requirement already satisfied: scipy in /usr/local/lib/python3.9/dist-packages (from xgboost) (1.10.1)\n",
            "Requirement already satisfied: numpy in /usr/local/lib/python3.9/dist-packages (from xgboost) (1.22.4)\n"
          ]
        }
      ]
    },
    {
      "cell_type": "code",
      "source": [
        "import xgboost as xgb"
      ],
      "metadata": {
        "id": "ABSQ0pP21gdq",
        "trusted": true
      },
      "execution_count": 124,
      "outputs": []
    },
    {
      "cell_type": "code",
      "source": [
        "y_new = d_aux_train[\"classes\"]\n",
        "y_new = pd.get_dummies(y_new)\n",
        "y_new = np.array(y_new)"
      ],
      "metadata": {
        "id": "t4xwd3HF1lTc",
        "trusted": true
      },
      "execution_count": 125,
      "outputs": []
    },
    {
      "cell_type": "code",
      "source": [
        "new_inputs = np.array(new_inputs)"
      ],
      "metadata": {
        "id": "S3cQpvor1ogj",
        "trusted": true
      },
      "execution_count": 126,
      "outputs": []
    },
    {
      "cell_type": "code",
      "source": [
        "np.save(\"drive/MyDrive/CNN_Chagas/Physionet/cnn-1d/nt2_inputs\", new_inputs)"
      ],
      "metadata": {
        "id": "V0HA14bH12Zw",
        "trusted": true
      },
      "execution_count": 127,
      "outputs": []
    },
    {
      "cell_type": "code",
      "source": [
        "new_inputs = np.load('drive/MyDrive/CNN_Chagas/Physionet/cnn-1d/nt_inputs.npy', allow_pickle=True)"
      ],
      "metadata": {
        "id": "ZdxrOOR01qr9",
        "trusted": true
      },
      "execution_count": 128,
      "outputs": []
    },
    {
      "cell_type": "code",
      "source": [
        "def rm_invalid(new_inputs, y_new):\n",
        "    aux = []\n",
        "    aux_2 = []\n",
        "    for i,x in enumerate(new_inputs):\n",
        "        if len(x) != 0:\n",
        "            aux.append(x)\n",
        "            aux_2.append(y_new[i])\n",
        "    \n",
        "    return np.array(aux), np.array(aux_2)"
      ],
      "metadata": {
        "id": "TVGVmFYA1reJ",
        "trusted": true
      },
      "execution_count": 129,
      "outputs": []
    },
    {
      "cell_type": "code",
      "source": [
        "new_inputs, y_new = rm_invalid(new_inputs, y_new)"
      ],
      "metadata": {
        "id": "CWn-PM1R1rvk",
        "trusted": true
      },
      "execution_count": 130,
      "outputs": []
    },
    {
      "cell_type": "code",
      "source": [
        "xgb_cl = xgb.XGBClassifier()\n",
        "xgb_cl.fit(new_inputs, y_new)"
      ],
      "metadata": {
        "id": "0qlfD6tC1sCZ",
        "trusted": true,
        "colab": {
          "base_uri": "https://localhost:8080/",
          "height": 249
        },
        "outputId": "2c3ef6b5-d47d-4701-e445-383484257628"
      },
      "execution_count": 131,
      "outputs": [
        {
          "output_type": "execute_result",
          "data": {
            "text/plain": [
              "XGBClassifier(base_score=None, booster=None, callbacks=None,\n",
              "              colsample_bylevel=None, colsample_bynode=None,\n",
              "              colsample_bytree=None, early_stopping_rounds=None,\n",
              "              enable_categorical=False, eval_metric=None, feature_types=None,\n",
              "              gamma=None, gpu_id=None, grow_policy=None, importance_type=None,\n",
              "              interaction_constraints=None, learning_rate=None, max_bin=None,\n",
              "              max_cat_threshold=None, max_cat_to_onehot=None,\n",
              "              max_delta_step=None, max_depth=None, max_leaves=None,\n",
              "              min_child_weight=None, missing=nan, monotone_constraints=None,\n",
              "              n_estimators=100, n_jobs=None, num_parallel_tree=None,\n",
              "              predictor=None, random_state=None, ...)"
            ],
            "text/html": [
              "<style>#sk-container-id-2 {color: black;background-color: white;}#sk-container-id-2 pre{padding: 0;}#sk-container-id-2 div.sk-toggleable {background-color: white;}#sk-container-id-2 label.sk-toggleable__label {cursor: pointer;display: block;width: 100%;margin-bottom: 0;padding: 0.3em;box-sizing: border-box;text-align: center;}#sk-container-id-2 label.sk-toggleable__label-arrow:before {content: \"▸\";float: left;margin-right: 0.25em;color: #696969;}#sk-container-id-2 label.sk-toggleable__label-arrow:hover:before {color: black;}#sk-container-id-2 div.sk-estimator:hover label.sk-toggleable__label-arrow:before {color: black;}#sk-container-id-2 div.sk-toggleable__content {max-height: 0;max-width: 0;overflow: hidden;text-align: left;background-color: #f0f8ff;}#sk-container-id-2 div.sk-toggleable__content pre {margin: 0.2em;color: black;border-radius: 0.25em;background-color: #f0f8ff;}#sk-container-id-2 input.sk-toggleable__control:checked~div.sk-toggleable__content {max-height: 200px;max-width: 100%;overflow: auto;}#sk-container-id-2 input.sk-toggleable__control:checked~label.sk-toggleable__label-arrow:before {content: \"▾\";}#sk-container-id-2 div.sk-estimator input.sk-toggleable__control:checked~label.sk-toggleable__label {background-color: #d4ebff;}#sk-container-id-2 div.sk-label input.sk-toggleable__control:checked~label.sk-toggleable__label {background-color: #d4ebff;}#sk-container-id-2 input.sk-hidden--visually {border: 0;clip: rect(1px 1px 1px 1px);clip: rect(1px, 1px, 1px, 1px);height: 1px;margin: -1px;overflow: hidden;padding: 0;position: absolute;width: 1px;}#sk-container-id-2 div.sk-estimator {font-family: monospace;background-color: #f0f8ff;border: 1px dotted black;border-radius: 0.25em;box-sizing: border-box;margin-bottom: 0.5em;}#sk-container-id-2 div.sk-estimator:hover {background-color: #d4ebff;}#sk-container-id-2 div.sk-parallel-item::after {content: \"\";width: 100%;border-bottom: 1px solid gray;flex-grow: 1;}#sk-container-id-2 div.sk-label:hover label.sk-toggleable__label {background-color: #d4ebff;}#sk-container-id-2 div.sk-serial::before {content: \"\";position: absolute;border-left: 1px solid gray;box-sizing: border-box;top: 0;bottom: 0;left: 50%;z-index: 0;}#sk-container-id-2 div.sk-serial {display: flex;flex-direction: column;align-items: center;background-color: white;padding-right: 0.2em;padding-left: 0.2em;position: relative;}#sk-container-id-2 div.sk-item {position: relative;z-index: 1;}#sk-container-id-2 div.sk-parallel {display: flex;align-items: stretch;justify-content: center;background-color: white;position: relative;}#sk-container-id-2 div.sk-item::before, #sk-container-id-2 div.sk-parallel-item::before {content: \"\";position: absolute;border-left: 1px solid gray;box-sizing: border-box;top: 0;bottom: 0;left: 50%;z-index: -1;}#sk-container-id-2 div.sk-parallel-item {display: flex;flex-direction: column;z-index: 1;position: relative;background-color: white;}#sk-container-id-2 div.sk-parallel-item:first-child::after {align-self: flex-end;width: 50%;}#sk-container-id-2 div.sk-parallel-item:last-child::after {align-self: flex-start;width: 50%;}#sk-container-id-2 div.sk-parallel-item:only-child::after {width: 0;}#sk-container-id-2 div.sk-dashed-wrapped {border: 1px dashed gray;margin: 0 0.4em 0.5em 0.4em;box-sizing: border-box;padding-bottom: 0.4em;background-color: white;}#sk-container-id-2 div.sk-label label {font-family: monospace;font-weight: bold;display: inline-block;line-height: 1.2em;}#sk-container-id-2 div.sk-label-container {text-align: center;}#sk-container-id-2 div.sk-container {/* jupyter's `normalize.less` sets `[hidden] { display: none; }` but bootstrap.min.css set `[hidden] { display: none !important; }` so we also need the `!important` here to be able to override the default hidden behavior on the sphinx rendered scikit-learn.org. See: https://github.com/scikit-learn/scikit-learn/issues/21755 */display: inline-block !important;position: relative;}#sk-container-id-2 div.sk-text-repr-fallback {display: none;}</style><div id=\"sk-container-id-2\" class=\"sk-top-container\"><div class=\"sk-text-repr-fallback\"><pre>XGBClassifier(base_score=None, booster=None, callbacks=None,\n",
              "              colsample_bylevel=None, colsample_bynode=None,\n",
              "              colsample_bytree=None, early_stopping_rounds=None,\n",
              "              enable_categorical=False, eval_metric=None, feature_types=None,\n",
              "              gamma=None, gpu_id=None, grow_policy=None, importance_type=None,\n",
              "              interaction_constraints=None, learning_rate=None, max_bin=None,\n",
              "              max_cat_threshold=None, max_cat_to_onehot=None,\n",
              "              max_delta_step=None, max_depth=None, max_leaves=None,\n",
              "              min_child_weight=None, missing=nan, monotone_constraints=None,\n",
              "              n_estimators=100, n_jobs=None, num_parallel_tree=None,\n",
              "              predictor=None, random_state=None, ...)</pre><b>In a Jupyter environment, please rerun this cell to show the HTML representation or trust the notebook. <br />On GitHub, the HTML representation is unable to render, please try loading this page with nbviewer.org.</b></div><div class=\"sk-container\" hidden><div class=\"sk-item\"><div class=\"sk-estimator sk-toggleable\"><input class=\"sk-toggleable__control sk-hidden--visually\" id=\"sk-estimator-id-2\" type=\"checkbox\" checked><label for=\"sk-estimator-id-2\" class=\"sk-toggleable__label sk-toggleable__label-arrow\">XGBClassifier</label><div class=\"sk-toggleable__content\"><pre>XGBClassifier(base_score=None, booster=None, callbacks=None,\n",
              "              colsample_bylevel=None, colsample_bynode=None,\n",
              "              colsample_bytree=None, early_stopping_rounds=None,\n",
              "              enable_categorical=False, eval_metric=None, feature_types=None,\n",
              "              gamma=None, gpu_id=None, grow_policy=None, importance_type=None,\n",
              "              interaction_constraints=None, learning_rate=None, max_bin=None,\n",
              "              max_cat_threshold=None, max_cat_to_onehot=None,\n",
              "              max_delta_step=None, max_depth=None, max_leaves=None,\n",
              "              min_child_weight=None, missing=nan, monotone_constraints=None,\n",
              "              n_estimators=100, n_jobs=None, num_parallel_tree=None,\n",
              "              predictor=None, random_state=None, ...)</pre></div></div></div></div></div>"
            ]
          },
          "metadata": {},
          "execution_count": 131
        }
      ]
    },
    {
      "cell_type": "code",
      "source": [
        "valid_inp = combine_windows(d_aux_valid, model_1, lsup, linf)\n",
        "valid_inp = np.array(valid_inp)"
      ],
      "metadata": {
        "id": "KKhOuaLYftad"
      },
      "execution_count": 138,
      "outputs": []
    },
    {
      "cell_type": "code",
      "source": [
        "np.save(\"drive/MyDrive/CNN_Chagas/Physionet/cnn-1d/lstm_valid\", valid_inp)\n",
        "np.save(\"drive/MyDrive/CNN_Chagas/Physionet/cnn-1d/lstm_train\", new_inputs)"
      ],
      "metadata": {
        "id": "1L12aSyEfyOI"
      },
      "execution_count": 141,
      "outputs": []
    },
    {
      "cell_type": "code",
      "source": [
        "y_new_val = d_aux_valid[\"classes\"]\n",
        "y_new_val = pd.get_dummies(y_new_val)\n",
        "y_new_val = np.array(y_new_val)\n",
        "\n",
        "valid_inp = np.array(valid_inp)\n",
        "\n",
        "valid_inp, y_new_val = rm_invalid(valid_inp, y_new_val)\n",
        "\n",
        "y_pred = xgb_cl.predict(valid_inp)"
      ],
      "metadata": {
        "id": "8pJmgi3of1p7"
      },
      "execution_count": 142,
      "outputs": []
    },
    {
      "cell_type": "code",
      "source": [
        "# y_pred = pd.DataFrame(y_pred)\n",
        "y_new_val = pd.DataFrame(y_new_val)\n",
        "\n",
        "# y_pred.columns = ['A', 'N', 'O', '~']\n",
        "y_new_val.columns = ['A', 'N', 'O', '~']\n",
        "\n",
        "y_new_val = y_new_val.idxmax(axis=1)\n",
        "# y_pred = y_pred.idxmax(axis=1)"
      ],
      "metadata": {
        "id": "Y_skEKo3l4LQ"
      },
      "execution_count": 148,
      "outputs": []
    },
    {
      "cell_type": "code",
      "source": [
        "from sklearn.metrics import confusion_matrix\n",
        "from sklearn import metrics\n",
        "\n",
        "cf_matrix = confusion_matrix(y_new_val, y_pred)\n",
        "cm_display = metrics.ConfusionMatrixDisplay(confusion_matrix = cf_matrix, display_labels = ['A', 'N', 'O', '~'])\n",
        "cm_display.plot()\n",
        "# plt.savefig(\"test.png\")"
      ],
      "metadata": {
        "colab": {
          "base_uri": "https://localhost:8080/",
          "height": 532
        },
        "id": "AU9cDaJ9gFSr",
        "outputId": "3d5b0c03-fda9-44b0-88ba-95c2beebf124"
      },
      "execution_count": 149,
      "outputs": [
        {
          "output_type": "execute_result",
          "data": {
            "text/plain": [
              "<sklearn.metrics._plot.confusion_matrix.ConfusionMatrixDisplay at 0x7f44209d3190>"
            ]
          },
          "metadata": {},
          "execution_count": 149
        },
        {
          "output_type": "display_data",
          "data": {
            "text/plain": [
              "<Figure size 1440x576 with 2 Axes>"
            ],
            "image/png": "[encoded data removed]"
          },
          "metadata": {
            "needs_background": "light"
          }
        }
      ]
    },
    {
      "cell_type": "code",
      "source": [
        "from sklearn.metrics import classification_report \n",
        " \n",
        "relatorio = classification_report(y_new_val, y_pred, target_names = ['N', 'O', 'A', '~']) \n",
        "print(relatorio)"
      ],
      "metadata": {
        "colab": {
          "base_uri": "https://localhost:8080/"
        },
        "id": "oiGKQTawgIWT",
        "outputId": "6fc87835-4bbc-4166-8670-e702e63f2854"
      },
      "execution_count": 150,
      "outputs": [
        {
          "output_type": "stream",
          "name": "stdout",
          "text": [
            "              precision    recall  f1-score   support\n",
            "\n",
            "           N       0.10      0.15      0.12       130\n",
            "           O       0.58      0.73      0.65       724\n",
            "           A       0.38      0.14      0.21       380\n",
            "           ~       0.05      0.02      0.03        46\n",
            "\n",
            "    accuracy                           0.47      1280\n",
            "   macro avg       0.28      0.26      0.25      1280\n",
            "weighted avg       0.45      0.47      0.44      1280\n",
            "\n"
          ]
        }
      ]
    },
    {
      "cell_type": "code",
      "source": [],
      "metadata": {
        "id": "q-NS34FZ1sTb",
        "trusted": true
      },
      "execution_count": null,
      "outputs": []
    },
    {
      "cell_type": "code",
      "source": [],
      "metadata": {
        "id": "TN6pfzzz2L6U",
        "trusted": true
      },
      "execution_count": null,
      "outputs": []
    },
    {
      "cell_type": "code",
      "source": [],
      "metadata": {
        "id": "kvgcuT3R2P5S",
        "trusted": true
      },
      "execution_count": null,
      "outputs": []
    },
    {
      "cell_type": "code",
      "source": [],
      "metadata": {
        "id": "HLPv4eqm2REu",
        "trusted": true
      },
      "execution_count": null,
      "outputs": []
    },
    {
      "cell_type": "code",
      "source": [],
      "metadata": {
        "id": "PPmFwweV2RgP",
        "trusted": true
      },
      "execution_count": null,
      "outputs": []
    },
    {
      "cell_type": "code",
      "source": [],
      "metadata": {
        "id": "Rk7__ImK2R0Z",
        "trusted": true
      },
      "execution_count": null,
      "outputs": []
    },
    {
      "cell_type": "code",
      "source": [
        "# while True:pass"
      ],
      "metadata": {
        "id": "zAUuotiIV6h6"
      },
      "execution_count": 132,
      "outputs": []
    }
  ]
}