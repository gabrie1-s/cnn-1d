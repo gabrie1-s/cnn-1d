{
  "nbformat": 4,
  "nbformat_minor": 0,
  "metadata": {
    "colab": {
      "provenance": [],
      "authorship_tag": "ABX9TyN+pdKIlM2hqehCG+OBGqqS",
      "include_colab_link": true
    },
    "kernelspec": {
      "name": "python3",
      "display_name": "Python 3"
    },
    "language_info": {
      "name": "python"
    },
    "gpuClass": "standard"
  },
  "cells": [
    {
      "cell_type": "markdown",
      "metadata": {
        "id": "view-in-github",
        "colab_type": "text"
      },
      "source": [
        "<a href=\"https://colab.research.google.com/github/gabrie1-s/cnn-1d/blob/combined_approaches/Sensible_features.ipynb\" target=\"_parent\"><img src=\"https://colab.research.google.com/assets/colab-badge.svg\" alt=\"Open In Colab\"/></a>"
      ]
    },
    {
      "cell_type": "code",
      "execution_count": 1,
      "metadata": {
        "id": "gdpZymG_t6qs"
      },
      "outputs": [],
      "source": [
        "from google.colab import drive\n",
        "from pathlib import Path\n",
        "import scipy.io\n",
        "from glob import glob\n",
        "import os\n",
        "import matplotlib.pyplot as plt\n",
        "import numpy as np\n",
        "import math\n",
        "import random\n",
        "import pandas as pd\n",
        "from sklearn.preprocessing import normalize, label_binarize\n",
        "from sklearn.model_selection import train_test_split, cross_val_score, KFold\n",
        "from scipy.stats import zscore\n",
        "import seaborn as sns\n",
        "from sklearn.metrics import make_scorer, f1_score"
      ]
    },
    {
      "cell_type": "code",
      "source": [
        "drive.mount('/content/drive')"
      ],
      "metadata": {
        "colab": {
          "base_uri": "https://localhost:8080/"
        },
        "id": "A8RO72wYKfsn",
        "outputId": "8302ad47-8ccc-4915-ca4e-1d6ff25d1792"
      },
      "execution_count": 2,
      "outputs": [
        {
          "output_type": "stream",
          "name": "stdout",
          "text": [
            "Mounted at /content/drive\n"
          ]
        }
      ]
    },
    {
      "cell_type": "code",
      "source": [
        "df = pd.read_csv('drive/MyDrive/CNN_Chagas/Physionet/cnn-1d/Resultado_Processamento_v2.csv')"
      ],
      "metadata": {
        "id": "XAg6YnfzK2Ov"
      },
      "execution_count": 3,
      "outputs": []
    },
    {
      "cell_type": "code",
      "source": [
        "df"
      ],
      "metadata": {
        "colab": {
          "base_uri": "https://localhost:8080/",
          "height": 523
        },
        "id": "WDJ7472-LS9e",
        "outputId": "49a27898-345e-423d-adac-7f18ab6d19fc"
      },
      "execution_count": 4,
      "outputs": [
        {
          "output_type": "execute_result",
          "data": {
            "text/plain": [
              "      Dur_Sinal(s)  #QRS  Media Amp QRS  Std Amp QRS  Median Amp QRS  \\\n",
              "0        24.600000    33     836.419603    85.831472      831.877704   \n",
              "1        24.280000    26     898.558684   379.684805      760.503584   \n",
              "2        54.413333    74    -441.007864   174.339863     -463.457897   \n",
              "3        24.083333    26    1235.090843   112.169859     1258.864700   \n",
              "4        52.720000    99    1024.641289   103.292198     1021.379466   \n",
              "...            ...   ...            ...          ...             ...   \n",
              "8523     24.350000    29     296.845203    16.603457      295.855678   \n",
              "8524     24.030000    36    -839.505476   447.158133     -988.710393   \n",
              "8525     34.836667    43     890.801644   131.515162      925.172333   \n",
              "8526     24.506667    43     450.832147   272.511305      437.161554   \n",
              "8527     22.780000    25     656.597755    51.033729      661.886723   \n",
              "\n",
              "      Media RR (s)  Std RR (s)  Median RR (s)  Media Dur_QRS (s)  \\\n",
              "0         0.766146    0.033453       0.765000           0.092929   \n",
              "1         0.968133    0.475049       1.016667           0.089487   \n",
              "2         0.744247    0.043095       0.740000           0.085811   \n",
              "3         0.960000    0.188063       0.923333           0.098974   \n",
              "4         0.537041    0.223627       0.443333           0.082357   \n",
              "...            ...         ...            ...                ...   \n",
              "8523      0.866190    0.027722       0.866667           0.103448   \n",
              "8524      0.682381    0.107660       0.686667           0.136204   \n",
              "8525      0.827540    0.063044       0.831667           0.086357   \n",
              "8526      0.582698    0.093104       0.606667           0.069767   \n",
              "8527      0.946250    0.032278       0.948333           0.096400   \n",
              "\n",
              "      Std Dur_QRS (s)  ...  Estat_A8_8  Estat_A8_9  Estat_A8_10  Estat_A8_11  \\\n",
              "0            0.010761  ...  -26.298908  -21.354659    -8.540299     1.040276   \n",
              "1            0.025345  ...  -63.713815  -41.019342   -18.886175    -2.531223   \n",
              "2            0.016690  ...  -49.505647  -33.130233    -7.611446    -0.331462   \n",
              "3            0.015657  ...  -21.765775  -11.838527    -5.959067     1.254213   \n",
              "4            0.011926  ...  -50.898650  -38.675635   -15.309947     1.134889   \n",
              "...               ...  ...         ...         ...          ...          ...   \n",
              "8523         0.013583  ...  -24.980985  -16.412939    -7.466233     0.000243   \n",
              "8524         0.016565  ...  -72.617034  -55.136136   -29.351067    -8.660475   \n",
              "8525         0.010435  ...  -57.278665  -40.848680   -22.595483    -0.611382   \n",
              "8526         0.015386  ...  -78.475511  -55.234433   -23.792759     4.228913   \n",
              "8527         0.010315  ...  -32.076757  -19.711277   -11.372522    -1.470605   \n",
              "\n",
              "      Estat_A8_12  Estat_A8_13  Estat_A8_14  Estat_A8_15  Estat_A8_16  Classe  \n",
              "0        7.025327    16.925916    38.003758    60.524885    80.457494       1  \n",
              "1       23.868779    36.430681    52.330689    61.675409    86.493207       1  \n",
              "2       10.485241    28.535933    54.983604    78.092660    93.922501       1  \n",
              "3        6.580426    17.478032    28.314614    72.372072   110.821600       2  \n",
              "4       14.478074    40.776089    51.727968    76.243152    80.596417       2  \n",
              "...           ...          ...          ...          ...          ...     ...  \n",
              "8523     9.653857    16.145173    19.820713    28.646123    29.334085       1  \n",
              "8524    23.340607    72.002703    84.253433   102.269232   115.199885       3  \n",
              "8525    18.588751    46.321316    74.263442   103.889577   111.960099       1  \n",
              "8526    27.782416    63.342404    82.277468   103.347309   114.517537       1  \n",
              "8527    11.222143    19.700393    29.592818    67.495442    77.640333       1  \n",
              "\n",
              "[8528 rows x 184 columns]"
            ],
            "text/html": [
              "\n",
              "  <div id=\"df-6a697bc7-0717-4b9f-97aa-b9b496e6f8f1\">\n",
              "    <div class=\"colab-df-container\">\n",
              "      <div>\n",
              "<style scoped>\n",
              "    .dataframe tbody tr th:only-of-type {\n",
              "        vertical-align: middle;\n",
              "    }\n",
              "\n",
              "    .dataframe tbody tr th {\n",
              "        vertical-align: top;\n",
              "    }\n",
              "\n",
              "    .dataframe thead th {\n",
              "        text-align: right;\n",
              "    }\n",
              "</style>\n",
              "<table border=\"1\" class=\"dataframe\">\n",
              "  <thead>\n",
              "    <tr style=\"text-align: right;\">\n",
              "      <th></th>\n",
              "      <th>Dur_Sinal(s)</th>\n",
              "      <th>#QRS</th>\n",
              "      <th>Media Amp QRS</th>\n",
              "      <th>Std Amp QRS</th>\n",
              "      <th>Median Amp QRS</th>\n",
              "      <th>Media RR (s)</th>\n",
              "      <th>Std RR (s)</th>\n",
              "      <th>Median RR (s)</th>\n",
              "      <th>Media Dur_QRS (s)</th>\n",
              "      <th>Std Dur_QRS (s)</th>\n",
              "      <th>...</th>\n",
              "      <th>Estat_A8_8</th>\n",
              "      <th>Estat_A8_9</th>\n",
              "      <th>Estat_A8_10</th>\n",
              "      <th>Estat_A8_11</th>\n",
              "      <th>Estat_A8_12</th>\n",
              "      <th>Estat_A8_13</th>\n",
              "      <th>Estat_A8_14</th>\n",
              "      <th>Estat_A8_15</th>\n",
              "      <th>Estat_A8_16</th>\n",
              "      <th>Classe</th>\n",
              "    </tr>\n",
              "  </thead>\n",
              "  <tbody>\n",
              "    <tr>\n",
              "      <th>0</th>\n",
              "      <td>24.600000</td>\n",
              "      <td>33</td>\n",
              "      <td>836.419603</td>\n",
              "      <td>85.831472</td>\n",
              "      <td>831.877704</td>\n",
              "      <td>0.766146</td>\n",
              "      <td>0.033453</td>\n",
              "      <td>0.765000</td>\n",
              "      <td>0.092929</td>\n",
              "      <td>0.010761</td>\n",
              "      <td>...</td>\n",
              "      <td>-26.298908</td>\n",
              "      <td>-21.354659</td>\n",
              "      <td>-8.540299</td>\n",
              "      <td>1.040276</td>\n",
              "      <td>7.025327</td>\n",
              "      <td>16.925916</td>\n",
              "      <td>38.003758</td>\n",
              "      <td>60.524885</td>\n",
              "      <td>80.457494</td>\n",
              "      <td>1</td>\n",
              "    </tr>\n",
              "    <tr>\n",
              "      <th>1</th>\n",
              "      <td>24.280000</td>\n",
              "      <td>26</td>\n",
              "      <td>898.558684</td>\n",
              "      <td>379.684805</td>\n",
              "      <td>760.503584</td>\n",
              "      <td>0.968133</td>\n",
              "      <td>0.475049</td>\n",
              "      <td>1.016667</td>\n",
              "      <td>0.089487</td>\n",
              "      <td>0.025345</td>\n",
              "      <td>...</td>\n",
              "      <td>-63.713815</td>\n",
              "      <td>-41.019342</td>\n",
              "      <td>-18.886175</td>\n",
              "      <td>-2.531223</td>\n",
              "      <td>23.868779</td>\n",
              "      <td>36.430681</td>\n",
              "      <td>52.330689</td>\n",
              "      <td>61.675409</td>\n",
              "      <td>86.493207</td>\n",
              "      <td>1</td>\n",
              "    </tr>\n",
              "    <tr>\n",
              "      <th>2</th>\n",
              "      <td>54.413333</td>\n",
              "      <td>74</td>\n",
              "      <td>-441.007864</td>\n",
              "      <td>174.339863</td>\n",
              "      <td>-463.457897</td>\n",
              "      <td>0.744247</td>\n",
              "      <td>0.043095</td>\n",
              "      <td>0.740000</td>\n",
              "      <td>0.085811</td>\n",
              "      <td>0.016690</td>\n",
              "      <td>...</td>\n",
              "      <td>-49.505647</td>\n",
              "      <td>-33.130233</td>\n",
              "      <td>-7.611446</td>\n",
              "      <td>-0.331462</td>\n",
              "      <td>10.485241</td>\n",
              "      <td>28.535933</td>\n",
              "      <td>54.983604</td>\n",
              "      <td>78.092660</td>\n",
              "      <td>93.922501</td>\n",
              "      <td>1</td>\n",
              "    </tr>\n",
              "    <tr>\n",
              "      <th>3</th>\n",
              "      <td>24.083333</td>\n",
              "      <td>26</td>\n",
              "      <td>1235.090843</td>\n",
              "      <td>112.169859</td>\n",
              "      <td>1258.864700</td>\n",
              "      <td>0.960000</td>\n",
              "      <td>0.188063</td>\n",
              "      <td>0.923333</td>\n",
              "      <td>0.098974</td>\n",
              "      <td>0.015657</td>\n",
              "      <td>...</td>\n",
              "      <td>-21.765775</td>\n",
              "      <td>-11.838527</td>\n",
              "      <td>-5.959067</td>\n",
              "      <td>1.254213</td>\n",
              "      <td>6.580426</td>\n",
              "      <td>17.478032</td>\n",
              "      <td>28.314614</td>\n",
              "      <td>72.372072</td>\n",
              "      <td>110.821600</td>\n",
              "      <td>2</td>\n",
              "    </tr>\n",
              "    <tr>\n",
              "      <th>4</th>\n",
              "      <td>52.720000</td>\n",
              "      <td>99</td>\n",
              "      <td>1024.641289</td>\n",
              "      <td>103.292198</td>\n",
              "      <td>1021.379466</td>\n",
              "      <td>0.537041</td>\n",
              "      <td>0.223627</td>\n",
              "      <td>0.443333</td>\n",
              "      <td>0.082357</td>\n",
              "      <td>0.011926</td>\n",
              "      <td>...</td>\n",
              "      <td>-50.898650</td>\n",
              "      <td>-38.675635</td>\n",
              "      <td>-15.309947</td>\n",
              "      <td>1.134889</td>\n",
              "      <td>14.478074</td>\n",
              "      <td>40.776089</td>\n",
              "      <td>51.727968</td>\n",
              "      <td>76.243152</td>\n",
              "      <td>80.596417</td>\n",
              "      <td>2</td>\n",
              "    </tr>\n",
              "    <tr>\n",
              "      <th>...</th>\n",
              "      <td>...</td>\n",
              "      <td>...</td>\n",
              "      <td>...</td>\n",
              "      <td>...</td>\n",
              "      <td>...</td>\n",
              "      <td>...</td>\n",
              "      <td>...</td>\n",
              "      <td>...</td>\n",
              "      <td>...</td>\n",
              "      <td>...</td>\n",
              "      <td>...</td>\n",
              "      <td>...</td>\n",
              "      <td>...</td>\n",
              "      <td>...</td>\n",
              "      <td>...</td>\n",
              "      <td>...</td>\n",
              "      <td>...</td>\n",
              "      <td>...</td>\n",
              "      <td>...</td>\n",
              "      <td>...</td>\n",
              "      <td>...</td>\n",
              "    </tr>\n",
              "    <tr>\n",
              "      <th>8523</th>\n",
              "      <td>24.350000</td>\n",
              "      <td>29</td>\n",
              "      <td>296.845203</td>\n",
              "      <td>16.603457</td>\n",
              "      <td>295.855678</td>\n",
              "      <td>0.866190</td>\n",
              "      <td>0.027722</td>\n",
              "      <td>0.866667</td>\n",
              "      <td>0.103448</td>\n",
              "      <td>0.013583</td>\n",
              "      <td>...</td>\n",
              "      <td>-24.980985</td>\n",
              "      <td>-16.412939</td>\n",
              "      <td>-7.466233</td>\n",
              "      <td>0.000243</td>\n",
              "      <td>9.653857</td>\n",
              "      <td>16.145173</td>\n",
              "      <td>19.820713</td>\n",
              "      <td>28.646123</td>\n",
              "      <td>29.334085</td>\n",
              "      <td>1</td>\n",
              "    </tr>\n",
              "    <tr>\n",
              "      <th>8524</th>\n",
              "      <td>24.030000</td>\n",
              "      <td>36</td>\n",
              "      <td>-839.505476</td>\n",
              "      <td>447.158133</td>\n",
              "      <td>-988.710393</td>\n",
              "      <td>0.682381</td>\n",
              "      <td>0.107660</td>\n",
              "      <td>0.686667</td>\n",
              "      <td>0.136204</td>\n",
              "      <td>0.016565</td>\n",
              "      <td>...</td>\n",
              "      <td>-72.617034</td>\n",
              "      <td>-55.136136</td>\n",
              "      <td>-29.351067</td>\n",
              "      <td>-8.660475</td>\n",
              "      <td>23.340607</td>\n",
              "      <td>72.002703</td>\n",
              "      <td>84.253433</td>\n",
              "      <td>102.269232</td>\n",
              "      <td>115.199885</td>\n",
              "      <td>3</td>\n",
              "    </tr>\n",
              "    <tr>\n",
              "      <th>8525</th>\n",
              "      <td>34.836667</td>\n",
              "      <td>43</td>\n",
              "      <td>890.801644</td>\n",
              "      <td>131.515162</td>\n",
              "      <td>925.172333</td>\n",
              "      <td>0.827540</td>\n",
              "      <td>0.063044</td>\n",
              "      <td>0.831667</td>\n",
              "      <td>0.086357</td>\n",
              "      <td>0.010435</td>\n",
              "      <td>...</td>\n",
              "      <td>-57.278665</td>\n",
              "      <td>-40.848680</td>\n",
              "      <td>-22.595483</td>\n",
              "      <td>-0.611382</td>\n",
              "      <td>18.588751</td>\n",
              "      <td>46.321316</td>\n",
              "      <td>74.263442</td>\n",
              "      <td>103.889577</td>\n",
              "      <td>111.960099</td>\n",
              "      <td>1</td>\n",
              "    </tr>\n",
              "    <tr>\n",
              "      <th>8526</th>\n",
              "      <td>24.506667</td>\n",
              "      <td>43</td>\n",
              "      <td>450.832147</td>\n",
              "      <td>272.511305</td>\n",
              "      <td>437.161554</td>\n",
              "      <td>0.582698</td>\n",
              "      <td>0.093104</td>\n",
              "      <td>0.606667</td>\n",
              "      <td>0.069767</td>\n",
              "      <td>0.015386</td>\n",
              "      <td>...</td>\n",
              "      <td>-78.475511</td>\n",
              "      <td>-55.234433</td>\n",
              "      <td>-23.792759</td>\n",
              "      <td>4.228913</td>\n",
              "      <td>27.782416</td>\n",
              "      <td>63.342404</td>\n",
              "      <td>82.277468</td>\n",
              "      <td>103.347309</td>\n",
              "      <td>114.517537</td>\n",
              "      <td>1</td>\n",
              "    </tr>\n",
              "    <tr>\n",
              "      <th>8527</th>\n",
              "      <td>22.780000</td>\n",
              "      <td>25</td>\n",
              "      <td>656.597755</td>\n",
              "      <td>51.033729</td>\n",
              "      <td>661.886723</td>\n",
              "      <td>0.946250</td>\n",
              "      <td>0.032278</td>\n",
              "      <td>0.948333</td>\n",
              "      <td>0.096400</td>\n",
              "      <td>0.010315</td>\n",
              "      <td>...</td>\n",
              "      <td>-32.076757</td>\n",
              "      <td>-19.711277</td>\n",
              "      <td>-11.372522</td>\n",
              "      <td>-1.470605</td>\n",
              "      <td>11.222143</td>\n",
              "      <td>19.700393</td>\n",
              "      <td>29.592818</td>\n",
              "      <td>67.495442</td>\n",
              "      <td>77.640333</td>\n",
              "      <td>1</td>\n",
              "    </tr>\n",
              "  </tbody>\n",
              "</table>\n",
              "<p>8528 rows × 184 columns</p>\n",
              "</div>\n",
              "      <button class=\"colab-df-convert\" onclick=\"convertToInteractive('df-6a697bc7-0717-4b9f-97aa-b9b496e6f8f1')\"\n",
              "              title=\"Convert this dataframe to an interactive table.\"\n",
              "              style=\"display:none;\">\n",
              "        \n",
              "  <svg xmlns=\"http://www.w3.org/2000/svg\" height=\"24px\"viewBox=\"0 0 24 24\"\n",
              "       width=\"24px\">\n",
              "    <path d=\"M0 0h24v24H0V0z\" fill=\"none\"/>\n",
              "    <path d=\"M18.56 5.44l.94 2.06.94-2.06 2.06-.94-2.06-.94-.94-2.06-.94 2.06-2.06.94zm-11 1L8.5 8.5l.94-2.06 2.06-.94-2.06-.94L8.5 2.5l-.94 2.06-2.06.94zm10 10l.94 2.06.94-2.06 2.06-.94-2.06-.94-.94-2.06-.94 2.06-2.06.94z\"/><path d=\"M17.41 7.96l-1.37-1.37c-.4-.4-.92-.59-1.43-.59-.52 0-1.04.2-1.43.59L10.3 9.45l-7.72 7.72c-.78.78-.78 2.05 0 2.83L4 21.41c.39.39.9.59 1.41.59.51 0 1.02-.2 1.41-.59l7.78-7.78 2.81-2.81c.8-.78.8-2.07 0-2.86zM5.41 20L4 18.59l7.72-7.72 1.47 1.35L5.41 20z\"/>\n",
              "  </svg>\n",
              "      </button>\n",
              "      \n",
              "  <style>\n",
              "    .colab-df-container {\n",
              "      display:flex;\n",
              "      flex-wrap:wrap;\n",
              "      gap: 12px;\n",
              "    }\n",
              "\n",
              "    .colab-df-convert {\n",
              "      background-color: #E8F0FE;\n",
              "      border: none;\n",
              "      border-radius: 50%;\n",
              "      cursor: pointer;\n",
              "      display: none;\n",
              "      fill: #1967D2;\n",
              "      height: 32px;\n",
              "      padding: 0 0 0 0;\n",
              "      width: 32px;\n",
              "    }\n",
              "\n",
              "    .colab-df-convert:hover {\n",
              "      background-color: #E2EBFA;\n",
              "      box-shadow: 0px 1px 2px rgba(60, 64, 67, 0.3), 0px 1px 3px 1px rgba(60, 64, 67, 0.15);\n",
              "      fill: #174EA6;\n",
              "    }\n",
              "\n",
              "    [theme=dark] .colab-df-convert {\n",
              "      background-color: #3B4455;\n",
              "      fill: #D2E3FC;\n",
              "    }\n",
              "\n",
              "    [theme=dark] .colab-df-convert:hover {\n",
              "      background-color: #434B5C;\n",
              "      box-shadow: 0px 1px 3px 1px rgba(0, 0, 0, 0.15);\n",
              "      filter: drop-shadow(0px 1px 2px rgba(0, 0, 0, 0.3));\n",
              "      fill: #FFFFFF;\n",
              "    }\n",
              "  </style>\n",
              "\n",
              "      <script>\n",
              "        const buttonEl =\n",
              "          document.querySelector('#df-6a697bc7-0717-4b9f-97aa-b9b496e6f8f1 button.colab-df-convert');\n",
              "        buttonEl.style.display =\n",
              "          google.colab.kernel.accessAllowed ? 'block' : 'none';\n",
              "\n",
              "        async function convertToInteractive(key) {\n",
              "          const element = document.querySelector('#df-6a697bc7-0717-4b9f-97aa-b9b496e6f8f1');\n",
              "          const dataTable =\n",
              "            await google.colab.kernel.invokeFunction('convertToInteractive',\n",
              "                                                     [key], {});\n",
              "          if (!dataTable) return;\n",
              "\n",
              "          const docLinkHtml = 'Like what you see? Visit the ' +\n",
              "            '<a target=\"_blank\" href=https://colab.research.google.com/notebooks/data_table.ipynb>data table notebook</a>'\n",
              "            + ' to learn more about interactive tables.';\n",
              "          element.innerHTML = '';\n",
              "          dataTable['output_type'] = 'display_data';\n",
              "          await google.colab.output.renderOutput(dataTable, element);\n",
              "          const docLink = document.createElement('div');\n",
              "          docLink.innerHTML = docLinkHtml;\n",
              "          element.appendChild(docLink);\n",
              "        }\n",
              "      </script>\n",
              "    </div>\n",
              "  </div>\n",
              "  "
            ]
          },
          "metadata": {},
          "execution_count": 4
        }
      ]
    },
    {
      "cell_type": "code",
      "source": [
        "x = df.iloc[:, 0:-1]\n",
        "y = df[\"Classe\"]"
      ],
      "metadata": {
        "id": "BiToZNsPSli3"
      },
      "execution_count": 5,
      "outputs": []
    },
    {
      "cell_type": "code",
      "source": [
        "x_train, x_valid, y_train, y_valid = train_test_split(x, y, test_size=0.15, shuffle=False)"
      ],
      "metadata": {
        "id": "Ut0pq1QxLW1I"
      },
      "execution_count": 6,
      "outputs": []
    },
    {
      "cell_type": "code",
      "source": [
        "y_train = [i-1 for i in y_train]\n",
        "y_valid = [i-1 for i in y_valid]"
      ],
      "metadata": {
        "id": "NcbFq9HIaGnr"
      },
      "execution_count": 7,
      "outputs": []
    },
    {
      "cell_type": "code",
      "source": [
        "import xgboost as xgb\n",
        "\n",
        "\n",
        "xgb_cl = xgb.XGBClassifier(max_depth=5, gamma=2.0, learning_rate=0.1,\n",
        "                           subsample=0.8, num_boost_round=100, min_child_weight=7)\n",
        "\n",
        "# kfold = KFold(n_splits=200, random_state=7, shuffle=True)\n",
        "# results = cross_val_score(xgb_cl, x_train, y_train, cv=kfold, scoring='f1_macro', n_jobs=6)\n",
        "\n",
        "xgb_cl.fit(x_train, y_train)"
      ],
      "metadata": {
        "id": "hsu3khhgTAPt",
        "colab": {
          "base_uri": "https://localhost:8080/",
          "height": 321
        },
        "outputId": "c27d469e-9d46-476d-cc62-57a8276c6c64"
      },
      "execution_count": 9,
      "outputs": [
        {
          "output_type": "error",
          "ename": "TypeError",
          "evalue": "ignored",
          "traceback": [
            "\u001b[0;31m---------------------------------------------------------------------------\u001b[0m",
            "\u001b[0;31mTypeError\u001b[0m                                 Traceback (most recent call last)",
            "\u001b[0;32m<ipython-input-9-15c227ea7683>\u001b[0m in \u001b[0;36m<module>\u001b[0;34m\u001b[0m\n\u001b[1;32m      8\u001b[0m \u001b[0;31m# results = cross_val_score(xgb_cl, x_train, y_train, cv=kfold, scoring='f1_macro', n_jobs=6)\u001b[0m\u001b[0;34m\u001b[0m\u001b[0;34m\u001b[0m\u001b[0m\n\u001b[1;32m      9\u001b[0m \u001b[0;34m\u001b[0m\u001b[0m\n\u001b[0;32m---> 10\u001b[0;31m \u001b[0mxgb_cl\u001b[0m\u001b[0;34m.\u001b[0m\u001b[0mfit\u001b[0m\u001b[0;34m(\u001b[0m\u001b[0mx_train\u001b[0m\u001b[0;34m,\u001b[0m \u001b[0my_train\u001b[0m\u001b[0;34m,\u001b[0m \u001b[0mscoring\u001b[0m\u001b[0;34m=\u001b[0m\u001b[0;34m'f1'\u001b[0m\u001b[0;34m)\u001b[0m\u001b[0;34m\u001b[0m\u001b[0;34m\u001b[0m\u001b[0m\n\u001b[0m",
            "\u001b[0;32m/usr/local/lib/python3.9/dist-packages/xgboost/core.py\u001b[0m in \u001b[0;36minner_f\u001b[0;34m(*args, **kwargs)\u001b[0m\n\u001b[1;32m    618\u001b[0m             \u001b[0;32mfor\u001b[0m \u001b[0mk\u001b[0m\u001b[0;34m,\u001b[0m \u001b[0marg\u001b[0m \u001b[0;32min\u001b[0m \u001b[0mzip\u001b[0m\u001b[0;34m(\u001b[0m\u001b[0msig\u001b[0m\u001b[0;34m.\u001b[0m\u001b[0mparameters\u001b[0m\u001b[0;34m,\u001b[0m \u001b[0margs\u001b[0m\u001b[0;34m)\u001b[0m\u001b[0;34m:\u001b[0m\u001b[0;34m\u001b[0m\u001b[0;34m\u001b[0m\u001b[0m\n\u001b[1;32m    619\u001b[0m                 \u001b[0mkwargs\u001b[0m\u001b[0;34m[\u001b[0m\u001b[0mk\u001b[0m\u001b[0;34m]\u001b[0m \u001b[0;34m=\u001b[0m \u001b[0marg\u001b[0m\u001b[0;34m\u001b[0m\u001b[0;34m\u001b[0m\u001b[0m\n\u001b[0;32m--> 620\u001b[0;31m             \u001b[0;32mreturn\u001b[0m \u001b[0mfunc\u001b[0m\u001b[0;34m(\u001b[0m\u001b[0;34m**\u001b[0m\u001b[0mkwargs\u001b[0m\u001b[0;34m)\u001b[0m\u001b[0;34m\u001b[0m\u001b[0;34m\u001b[0m\u001b[0m\n\u001b[0m\u001b[1;32m    621\u001b[0m \u001b[0;34m\u001b[0m\u001b[0m\n\u001b[1;32m    622\u001b[0m         \u001b[0;32mreturn\u001b[0m \u001b[0minner_f\u001b[0m\u001b[0;34m\u001b[0m\u001b[0;34m\u001b[0m\u001b[0m\n",
            "\u001b[0;31mTypeError\u001b[0m: fit() got an unexpected keyword argument 'scoring'"
          ]
        }
      ]
    },
    {
      "cell_type": "code",
      "source": [
        "y_pred = xgb_cl.predict(x_valid)"
      ],
      "metadata": {
        "id": "TIhB2L_XUCbX"
      },
      "execution_count": null,
      "outputs": []
    },
    {
      "cell_type": "code",
      "source": [
        "from sklearn.metrics import confusion_matrix\n",
        "from sklearn import metrics\n",
        "\n",
        "plt.rcParams['figure.figsize']=(20,5)\n",
        "plt.rcParams.update({'font.size': 20})\n",
        "\n",
        "cf_matrix = confusion_matrix(y_valid, y_pred)\n",
        "cm_display = metrics.ConfusionMatrixDisplay(confusion_matrix = cf_matrix, display_labels = ['N', 'A', 'O', '~'])\n",
        "cm_display.plot()"
      ],
      "metadata": {
        "id": "KjHXC9_GXYuY"
      },
      "execution_count": null,
      "outputs": []
    },
    {
      "cell_type": "code",
      "source": [
        "from sklearn.metrics import classification_report \n",
        " \n",
        "relatorio = classification_report(y_valid, y_pred, target_names = ['N', 'A', 'O', '~']) \n",
        "print(relatorio)"
      ],
      "metadata": {
        "id": "sW8W4sJIXnYk"
      },
      "execution_count": null,
      "outputs": []
    },
    {
      "cell_type": "code",
      "source": [
        "np.save(\"drive/MyDrive/CNN_Chagas/Physionet/cnn-1d/sensible_train\", x_train)\n",
        "np.save(\"drive/MyDrive/CNN_Chagas/Physionet/cnn-1d/sensible_valid\", x_valid)"
      ],
      "metadata": {
        "id": "hb0XOVbkle41"
      },
      "execution_count": null,
      "outputs": []
    },
    {
      "cell_type": "markdown",
      "source": [
        "# Aplicando PCA"
      ],
      "metadata": {
        "id": "ckXfSzgdBAHl"
      }
    },
    {
      "cell_type": "code",
      "source": [
        "from sklearn.decomposition import PCA\n",
        "from sklearn.preprocessing import StandardScaler"
      ],
      "metadata": {
        "id": "SiJ3uVGfA-7k"
      },
      "execution_count": null,
      "outputs": []
    },
    {
      "cell_type": "code",
      "source": [
        "scaler = StandardScaler()\n",
        "scaler.fit(x)\n",
        "x_new = scaler.transform(x)    \n",
        "pca = PCA()\n",
        "x_new = pca.fit_transform(x_new)"
      ],
      "metadata": {
        "id": "9xIjpgtZA-7l"
      },
      "execution_count": null,
      "outputs": []
    },
    {
      "cell_type": "code",
      "source": [
        "var = np.cumsum(np.round(pca.explained_variance_ratio_, decimals=4)*100)\n",
        "var"
      ],
      "metadata": {
        "id": "CAMopyC9A-7m"
      },
      "execution_count": null,
      "outputs": []
    },
    {
      "cell_type": "code",
      "source": [
        "for i, v in enumerate(var):\n",
        "  if v >= 90.:\n",
        "    break\n",
        "\n",
        "x_new  = x_new[:, :(i+1)]"
      ],
      "metadata": {
        "id": "0NNJ13RPA-7m"
      },
      "execution_count": null,
      "outputs": []
    },
    {
      "cell_type": "code",
      "source": [
        "len(x_new[0])"
      ],
      "metadata": {
        "id": "RMhwc6kuECWd"
      },
      "execution_count": null,
      "outputs": []
    },
    {
      "cell_type": "code",
      "source": [
        "d = pd.DataFrame(x_new)"
      ],
      "metadata": {
        "id": "3FefLwpFEbfn"
      },
      "execution_count": null,
      "outputs": []
    },
    {
      "cell_type": "code",
      "source": [
        "for col in d:\n",
        "  val  = d[col]/(max(d[col]) - min(d[col]))\n",
        "  d[col] = val"
      ],
      "metadata": {
        "id": "JiwNciCvEgb-"
      },
      "execution_count": null,
      "outputs": []
    },
    {
      "cell_type": "code",
      "source": [
        "x_new = d"
      ],
      "metadata": {
        "id": "kwDz812VHWfU"
      },
      "execution_count": null,
      "outputs": []
    },
    {
      "cell_type": "code",
      "source": [
        "x_train, x_valid, y_train, y_valid = train_test_split(x_new, y, test_size=0.15)"
      ],
      "metadata": {
        "id": "C_r2kGvYA-7n"
      },
      "execution_count": null,
      "outputs": []
    },
    {
      "cell_type": "code",
      "source": [
        "y_train = [i-1 for i in y_train]\n",
        "y_valid = [i-1 for i in y_valid]"
      ],
      "metadata": {
        "id": "o909p6nyngWA"
      },
      "execution_count": null,
      "outputs": []
    },
    {
      "cell_type": "code",
      "source": [
        "import xgboost as xgb\n",
        "\n",
        "xgb_cl = xgb.XGBClassifier(max_depth=5, gamma=2.0, learning_rate=0.1,\n",
        "                           subsample=0.8, num_boost_round=100, min_child_weight=7)\n",
        "xgb_cl.fit(x_train, y_train)"
      ],
      "metadata": {
        "id": "BhuT40ojA-7n"
      },
      "execution_count": null,
      "outputs": []
    },
    {
      "cell_type": "code",
      "source": [
        "y_pred = xgb_cl.predict(x_valid)"
      ],
      "metadata": {
        "id": "zfre4RwNA-7o"
      },
      "execution_count": null,
      "outputs": []
    },
    {
      "cell_type": "code",
      "source": [
        "from sklearn.metrics import confusion_matrix\n",
        "from sklearn import metrics\n",
        "\n",
        "plt.rcParams['figure.figsize']=(20,5)\n",
        "plt.rcParams.update({'font.size': 20})\n",
        "\n",
        "cf_matrix = confusion_matrix(y_valid, y_pred)\n",
        "cm_display = metrics.ConfusionMatrixDisplay(confusion_matrix = cf_matrix, display_labels = ['N', 'A', 'O', '~'])\n",
        "cm_display.plot()"
      ],
      "metadata": {
        "id": "ADn6PfYIA-7o"
      },
      "execution_count": null,
      "outputs": []
    },
    {
      "cell_type": "code",
      "source": [
        "from sklearn.metrics import classification_report \n",
        " \n",
        "relatorio = classification_report(y_valid, y_pred, target_names = ['N', 'A', 'O', '~']) \n",
        "print(relatorio)"
      ],
      "metadata": {
        "id": "hPmkQfALA-7p"
      },
      "execution_count": null,
      "outputs": []
    }
  ]
}