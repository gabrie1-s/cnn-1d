{
 "cells": [
  {
   "cell_type": "code",
   "execution_count": 1,
   "id": "cf1d84f5",
   "metadata": {
    "execution": {
     "iopub.execute_input": "2023-03-03T15:03:17.873777Z",
     "iopub.status.busy": "2023-03-03T15:03:17.872883Z",
     "iopub.status.idle": "2023-03-03T15:03:19.505225Z",
     "shell.execute_reply": "2023-03-03T15:03:19.504178Z"
    },
    "id": "zktLrLf6iCu5",
    "papermill": {
     "duration": 1.649305,
     "end_time": "2023-03-03T15:03:19.508375",
     "exception": false,
     "start_time": "2023-03-03T15:03:17.859070",
     "status": "completed"
    },
    "tags": []
   },
   "outputs": [],
   "source": [
    "from pathlib import Path\n",
    "import scipy.io\n",
    "from glob import glob\n",
    "import os\n",
    "import matplotlib.pyplot as plt\n",
    "import numpy as np\n",
    "import math\n",
    "import random\n",
    "import pandas as pd\n",
    "from sklearn.preprocessing import normalize, label_binarize\n",
    "from sklearn.model_selection import train_test_split, cross_val_score\n",
    "from scipy.stats import zscore"
   ]
  },
  {
   "cell_type": "markdown",
   "id": "58c05d87",
   "metadata": {
    "id": "LVTiQgFbGFS8",
    "papermill": {
     "duration": 0.00979,
     "end_time": "2023-03-03T15:03:19.528349",
     "exception": false,
     "start_time": "2023-03-03T15:03:19.518559",
     "status": "completed"
    },
    "tags": []
   },
   "source": [
    "#1. Aquisição dos Dados"
   ]
  },
  {
   "cell_type": "code",
   "execution_count": 2,
   "id": "1ae9bc3c",
   "metadata": {
    "execution": {
     "iopub.execute_input": "2023-03-03T15:03:19.549959Z",
     "iopub.status.busy": "2023-03-03T15:03:19.549571Z",
     "iopub.status.idle": "2023-03-03T15:04:50.563977Z",
     "shell.execute_reply": "2023-03-03T15:04:50.562840Z"
    },
    "id": "4juuk4_TiRvW",
    "papermill": {
     "duration": 91.028793,
     "end_time": "2023-03-03T15:04:50.566938",
     "exception": false,
     "start_time": "2023-03-03T15:03:19.538145",
     "status": "completed"
    },
    "tags": []
   },
   "outputs": [],
   "source": [
    "data = Path('/kaggle/input/physionet-2017/data')\n",
    "\n",
    "signals = []\n",
    "classes =[]\n",
    "\n",
    "for value in sorted(data.glob('*.mat')):\n",
    "  signal = scipy.io.loadmat(value)\n",
    "  signal = np.array(signal[\"val\"], dtype='float')[0]\n",
    "  signals.append(signal)\n",
    "  # print(value)"
   ]
  },
  {
   "cell_type": "code",
   "execution_count": 3,
   "id": "4ac9495b",
   "metadata": {
    "execution": {
     "iopub.execute_input": "2023-03-03T15:04:50.590486Z",
     "iopub.status.busy": "2023-03-03T15:04:50.589376Z",
     "iopub.status.idle": "2023-03-03T15:04:50.621025Z",
     "shell.execute_reply": "2023-03-03T15:04:50.620034Z"
    },
    "id": "EpNZgpvfis1M",
    "papermill": {
     "duration": 0.046346,
     "end_time": "2023-03-03T15:04:50.623519",
     "exception": false,
     "start_time": "2023-03-03T15:04:50.577173",
     "status": "completed"
    },
    "tags": []
   },
   "outputs": [],
   "source": [
    "classification_path = os.path.join(data, \"classification.txt\")\n",
    "with open(classification_path) as f:\n",
    "    classes = f.readlines()\n",
    "\n",
    "for i in range(0, len(classes)):\n",
    "  classes[i] = classes[i][classes[i].find(','):]\n",
    "  classes[i] = classes[i][: classes[i].find('\\n')]\n",
    "  classes[i] = classes[i].replace(\",\", \"\")\n",
    "\n",
    "# classes = classes[0: -1]"
   ]
  },
  {
   "cell_type": "markdown",
   "id": "bbd41bf5",
   "metadata": {
    "id": "JfrBd2SrG4-Z",
    "papermill": {
     "duration": 0.009734,
     "end_time": "2023-03-03T15:04:50.643391",
     "exception": false,
     "start_time": "2023-03-03T15:04:50.633657",
     "status": "completed"
    },
    "tags": []
   },
   "source": [
    "#2. Preprocessamento"
   ]
  },
  {
   "cell_type": "markdown",
   "id": "e746463d",
   "metadata": {
    "id": "-3mQ3QWQP1id",
    "papermill": {
     "duration": 0.009926,
     "end_time": "2023-03-03T15:04:50.663352",
     "exception": false,
     "start_time": "2023-03-03T15:04:50.653426",
     "status": "completed"
    },
    "tags": []
   },
   "source": [
    "### 2.1 Análise da distribuição das classes"
   ]
  },
  {
   "cell_type": "code",
   "execution_count": 4,
   "id": "255f5e04",
   "metadata": {
    "execution": {
     "iopub.execute_input": "2023-03-03T15:04:50.685478Z",
     "iopub.status.busy": "2023-03-03T15:04:50.685110Z",
     "iopub.status.idle": "2023-03-03T15:04:50.706503Z",
     "shell.execute_reply": "2023-03-03T15:04:50.705524Z"
    },
    "id": "EMDav0-ZREVS",
    "papermill": {
     "duration": 0.035242,
     "end_time": "2023-03-03T15:04:50.708770",
     "exception": false,
     "start_time": "2023-03-03T15:04:50.673528",
     "status": "completed"
    },
    "tags": []
   },
   "outputs": [],
   "source": [
    "d = {'signals': signals, 'classes': classes}\n",
    "df = pd.DataFrame(data=d)\n",
    "a = df.groupby('classes')"
   ]
  },
  {
   "cell_type": "code",
   "execution_count": 5,
   "id": "41b180d5",
   "metadata": {
    "execution": {
     "iopub.execute_input": "2023-03-03T15:04:50.730181Z",
     "iopub.status.busy": "2023-03-03T15:04:50.729827Z",
     "iopub.status.idle": "2023-03-03T15:04:50.756059Z",
     "shell.execute_reply": "2023-03-03T15:04:50.754900Z"
    },
    "id": "jXPAsb09S3rA",
    "outputId": "b4a73323-43ff-4aba-b321-17333bde2ebd",
    "papermill": {
     "duration": 0.040768,
     "end_time": "2023-03-03T15:04:50.759441",
     "exception": false,
     "start_time": "2023-03-03T15:04:50.718673",
     "status": "completed"
    },
    "tags": []
   },
   "outputs": [
    {
     "name": "stdout",
     "output_type": "stream",
     "text": [
      "N\n",
      "Média: 9633.38\n",
      "Std: 2991.84\n",
      "Qntd: 5076\n",
      "Min: 2714\n",
      "---------------\n",
      "O\n",
      "Média: 10288.52\n",
      "Std: 3528.74\n",
      "Qntd: 2415\n",
      "Min: 2738\n",
      "---------------\n",
      "A\n",
      "Média: 9703.41\n",
      "Std: 3694.64\n",
      "Qntd: 758\n",
      "Min: 2996\n",
      "---------------\n",
      "~\n",
      "Média: 7313.63\n",
      "Std: 3122.42\n",
      "Qntd: 279\n",
      "Min: 2808\n",
      "---------------\n"
     ]
    }
   ],
   "source": [
    "for i in ['N', 'O', 'A', '~']:\n",
    "  print(i)\n",
    "  aux = []\n",
    "\n",
    "  for j in a.get_group(i)[\"signals\"]:\n",
    "    aux.append(len(j))\n",
    "\n",
    "  print('Média:', round(np.mean(aux), 2))\n",
    "  print(\"Std:\", round(np.std(aux), 2))\n",
    "  print(\"Qntd:\", len(aux))\n",
    "  print(\"Min:\", min(aux))\n",
    "  print(\"---------------\")"
   ]
  },
  {
   "cell_type": "code",
   "execution_count": 6,
   "id": "2a50c649",
   "metadata": {
    "execution": {
     "iopub.execute_input": "2023-03-03T15:04:50.782659Z",
     "iopub.status.busy": "2023-03-03T15:04:50.781607Z",
     "iopub.status.idle": "2023-03-03T15:04:51.031319Z",
     "shell.execute_reply": "2023-03-03T15:04:51.030180Z"
    },
    "id": "lwr76JbnMcTV",
    "outputId": "2bb61c3c-45b1-4fae-8094-5e1c2c659976",
    "papermill": {
     "duration": 0.263398,
     "end_time": "2023-03-03T15:04:51.033777",
     "exception": false,
     "start_time": "2023-03-03T15:04:50.770379",
     "status": "completed"
    },
    "tags": []
   },
   "outputs": [
    {
     "data": {
      "image/png": "[encoded data removed]",
      "text/plain": [
       "<Figure size 800x600 with 1 Axes>"
      ]
     },
     "metadata": {},
     "output_type": "display_data"
    }
   ],
   "source": [
    "plt.rcParams.update({'font.size': 20})\n",
    "\n",
    "df[\"classes\"].hist(\n",
    "    figsize=(8, 6),\n",
    "    grid = False,\n",
    "    bins = 10,\n",
    ")\n",
    "plt.xticks(range(4))\n",
    "# plt.savefig('init_distri.png')\n",
    "plt.show()"
   ]
  },
  {
   "cell_type": "markdown",
   "id": "511942e9",
   "metadata": {
    "id": "mNnc5P6RRwkn",
    "papermill": {
     "duration": 0.010086,
     "end_time": "2023-03-03T15:04:51.054321",
     "exception": false,
     "start_time": "2023-03-03T15:04:51.044235",
     "status": "completed"
    },
    "tags": []
   },
   "source": [
    "### 2.3 Wavelet helping functions"
   ]
  },
  {
   "cell_type": "code",
   "execution_count": 7,
   "id": "fff849b8",
   "metadata": {
    "execution": {
     "iopub.execute_input": "2023-03-03T15:04:51.077841Z",
     "iopub.status.busy": "2023-03-03T15:04:51.076648Z",
     "iopub.status.idle": "2023-03-03T15:04:51.084744Z",
     "shell.execute_reply": "2023-03-03T15:04:51.083724Z"
    },
    "id": "9xWfP192Q9OQ",
    "papermill": {
     "duration": 0.022343,
     "end_time": "2023-03-03T15:04:51.087152",
     "exception": false,
     "start_time": "2023-03-03T15:04:51.064809",
     "status": "completed"
    },
    "tags": []
   },
   "outputs": [],
   "source": [
    "def gera_filtro_MH(Escala):\n",
    "  passo = 1/Escala;\n",
    "  X = []\n",
    "  a = -5\n",
    "  X.append(a)\n",
    "  while a <= 5:\n",
    "    a=a+passo\n",
    "    X.append(a)\n",
    "  Y = []\n",
    "  for i in range(0,len(X)):\n",
    "    Y.append(2.1741*(1/math.sqrt(2*math.pi) * (1 - X[i]**2) * np.exp(-X[i]**2/(2))))\n",
    "  return Y"
   ]
  },
  {
   "cell_type": "code",
   "execution_count": 8,
   "id": "54a5ecec",
   "metadata": {
    "execution": {
     "iopub.execute_input": "2023-03-03T15:04:51.110389Z",
     "iopub.status.busy": "2023-03-03T15:04:51.109476Z",
     "iopub.status.idle": "2023-03-03T15:04:51.114698Z",
     "shell.execute_reply": "2023-03-03T15:04:51.113619Z"
    },
    "id": "IWdVC901RO6C",
    "papermill": {
     "duration": 0.019259,
     "end_time": "2023-03-03T15:04:51.117001",
     "exception": false,
     "start_time": "2023-03-03T15:04:51.097742",
     "status": "completed"
    },
    "tags": []
   },
   "outputs": [],
   "source": [
    "def apply_wavelet(signal, level):\n",
    "  Filtro = gera_filtro_MH(level)\n",
    "  y = np.convolve(signal,Filtro)\n",
    "  return y"
   ]
  },
  {
   "cell_type": "markdown",
   "id": "f2044a85",
   "metadata": {
    "id": "O9i_wClSFDL1",
    "papermill": {
     "duration": 0.01004,
     "end_time": "2023-03-03T15:04:51.137434",
     "exception": false,
     "start_time": "2023-03-03T15:04:51.127394",
     "status": "completed"
    },
    "tags": []
   },
   "source": [
    "###2.4 Aplicação da tranformada Wavelet"
   ]
  },
  {
   "cell_type": "markdown",
   "id": "4c414a6b",
   "metadata": {
    "id": "Esm2O_1cY1ls",
    "papermill": {
     "duration": 0.010172,
     "end_time": "2023-03-03T15:04:51.158126",
     "exception": false,
     "start_time": "2023-03-03T15:04:51.147954",
     "status": "completed"
    },
    "tags": []
   },
   "source": [
    "### 2.2 Janelamento dos dados de treino"
   ]
  },
  {
   "cell_type": "code",
   "execution_count": 9,
   "id": "daea88be",
   "metadata": {
    "execution": {
     "iopub.execute_input": "2023-03-03T15:04:51.181272Z",
     "iopub.status.busy": "2023-03-03T15:04:51.179997Z",
     "iopub.status.idle": "2023-03-03T15:04:51.186208Z",
     "shell.execute_reply": "2023-03-03T15:04:51.185200Z"
    },
    "id": "0huQBxtdY9Pc",
    "papermill": {
     "duration": 0.020142,
     "end_time": "2023-03-03T15:04:51.188394",
     "exception": false,
     "start_time": "2023-03-03T15:04:51.168252",
     "status": "completed"
    },
    "tags": []
   },
   "outputs": [],
   "source": [
    "intersection = 100\n",
    "window_size = 500\n",
    "windows_array = [\"max\",\"max\",\"max\", \"max\"]\n",
    "classes_array = ['N', 'O', 'A', '~']"
   ]
  },
  {
   "cell_type": "code",
   "execution_count": 10,
   "id": "964184fb",
   "metadata": {
    "execution": {
     "iopub.execute_input": "2023-03-03T15:04:51.211688Z",
     "iopub.status.busy": "2023-03-03T15:04:51.209904Z",
     "iopub.status.idle": "2023-03-03T15:04:51.217413Z",
     "shell.execute_reply": "2023-03-03T15:04:51.216440Z"
    },
    "id": "S9cPB1Lq_ucf",
    "papermill": {
     "duration": 0.021043,
     "end_time": "2023-03-03T15:04:51.219642",
     "exception": false,
     "start_time": "2023-03-03T15:04:51.198599",
     "status": "completed"
    },
    "tags": []
   },
   "outputs": [],
   "source": [
    "def window(signal, intersection, window_size, n):\n",
    "  s_size = len(signal)\n",
    "  max_n = (s_size-intersection)/(window_size - intersection)\n",
    "  samples = []\n",
    "  \n",
    "  if  n == \"max\" or n > max_n:\n",
    "    n = max_n\n",
    "    n = math.floor(n)\n",
    "    \n",
    "  max_begin = s_size - (n*(window_size) - (n-1)*intersection) + 1\n",
    "  init = random.randrange(max_begin)\n",
    "  for i in range(0, n):\n",
    "    begin = init + i*window_size - i*intersection\n",
    "    end = begin + window_size\n",
    "    samples.append(signal[begin:end])\n",
    "\n",
    "  \n",
    "  return samples"
   ]
  },
  {
   "cell_type": "code",
   "execution_count": 11,
   "id": "27d48926",
   "metadata": {
    "execution": {
     "iopub.execute_input": "2023-03-03T15:04:51.242113Z",
     "iopub.status.busy": "2023-03-03T15:04:51.241353Z",
     "iopub.status.idle": "2023-03-03T15:04:51.249585Z",
     "shell.execute_reply": "2023-03-03T15:04:51.248628Z"
    },
    "id": "YZr7BUydRh99",
    "papermill": {
     "duration": 0.021819,
     "end_time": "2023-03-03T15:04:51.251803",
     "exception": false,
     "start_time": "2023-03-03T15:04:51.229984",
     "status": "completed"
    },
    "tags": []
   },
   "outputs": [],
   "source": [
    "def embalance_data(df, classes_array, windows_array, intersection, window_size):\n",
    "\n",
    "  a = df.groupby('classes')\n",
    "  d_train = df.copy()\n",
    "  d_train = d_train.iloc[0:0]\n",
    "\n",
    "\n",
    "  idx = -1\n",
    "  for i in classes_array:\n",
    "    aux = []\n",
    "    idx += 1\n",
    "\n",
    "    for index, row in a.get_group(i).iterrows():\n",
    "      samples = window(row[\"signals\"], intersection, window_size,  windows_array[idx])\n",
    "      \n",
    "      for k in range(len(samples)):\n",
    "        d_train = d_train.append({'signals': samples[k], 'classes': i}, ignore_index=True)\n",
    "\n",
    "  return d_train"
   ]
  },
  {
   "cell_type": "code",
   "execution_count": 12,
   "id": "de30d32b",
   "metadata": {
    "execution": {
     "iopub.execute_input": "2023-03-03T15:04:51.274892Z",
     "iopub.status.busy": "2023-03-03T15:04:51.273931Z",
     "iopub.status.idle": "2023-03-03T15:15:44.607316Z",
     "shell.execute_reply": "2023-03-03T15:15:44.602793Z"
    },
    "id": "wnxkAcA-MQLx",
    "outputId": "2d476d15-e0d9-42d7-81d5-682f7611c7e7",
    "papermill": {
     "duration": 653.355926,
     "end_time": "2023-03-03T15:15:44.617963",
     "exception": false,
     "start_time": "2023-03-03T15:04:51.262037",
     "status": "completed"
    },
    "tags": []
   },
   "outputs": [
    {
     "name": "stdout",
     "output_type": "stream",
     "text": [
      "N\n",
      "Média: 500.0\n",
      "Std: 0.0\n",
      "Qntd: 101695\n",
      "Min: 500\n",
      "---------------\n",
      "O\n",
      "Média: 500.0\n",
      "Std: 0.0\n",
      "Qntd: 50938\n",
      "Min: 500\n",
      "---------------\n",
      "A\n",
      "Média: 500.0\n",
      "Std: 0.0\n",
      "Qntd: 15474\n",
      "Min: 500\n",
      "---------------\n",
      "~\n",
      "Média: 500.0\n",
      "Std: 0.0\n",
      "Qntd: 4066\n",
      "Min: 500\n",
      "---------------\n"
     ]
    }
   ],
   "source": [
    "#x_rem, x_test, y_rem, y_test = train_test_split(df[\"signals\"], df[\"classes\"], test_size=0.25)\n",
    "x_train, x_valid, y_train, y_valid = train_test_split(df[\"signals\"], df[\"classes\"], test_size=0.15)\n",
    "\n",
    "d_aux_train = pd.DataFrame({'signals': x_train, 'classes': y_train})\n",
    "d_train = embalance_data(d_aux_train, classes_array, windows_array, intersection, window_size)\n",
    "\n",
    "d_aux_valid = pd.DataFrame({'signals': x_valid, 'classes': y_valid})\n",
    "d_valid = embalance_data(d_aux_valid, classes_array, windows_array, intersection, window_size)\n",
    "\n",
    "b = d_train.groupby('classes')\n",
    "\n",
    "for i in ['N','O', 'A', '~']:\n",
    "  print(i)\n",
    "  aux = []\n",
    "\n",
    "  for j in b.get_group(i)[\"signals\"]:\n",
    "    aux.append(len(j))\n",
    "\n",
    "  print('Média:', round(np.mean(aux), 2))\n",
    "  print(\"Std:\", round(np.std(aux), 2))\n",
    "  print(\"Qntd:\", len(aux))\n",
    "  print(\"Min:\", min(aux))\n",
    "  print(\"---------------\")"
   ]
  },
  {
   "cell_type": "code",
   "execution_count": 13,
   "id": "98d48663",
   "metadata": {
    "execution": {
     "iopub.execute_input": "2023-03-03T15:15:44.641994Z",
     "iopub.status.busy": "2023-03-03T15:15:44.641614Z",
     "iopub.status.idle": "2023-03-03T15:15:44.904629Z",
     "shell.execute_reply": "2023-03-03T15:15:44.903589Z"
    },
    "id": "fCd8O9-XX0uO",
    "outputId": "2db54fe1-48e3-445a-8e9c-55f4e7da5d07",
    "papermill": {
     "duration": 0.277475,
     "end_time": "2023-03-03T15:15:44.906978",
     "exception": false,
     "start_time": "2023-03-03T15:15:44.629503",
     "status": "completed"
    },
    "tags": []
   },
   "outputs": [
    {
     "data": {
      "image/png": "[encoded data removed]",
      "text/plain": [
       "<Figure size 800x600 with 1 Axes>"
      ]
     },
     "metadata": {},
     "output_type": "display_data"
    }
   ],
   "source": [
    "plt.rcParams.update({'font.size': 20})\n",
    "\n",
    "d_train[\"classes\"].hist(\n",
    "    figsize=(8, 6),\n",
    "    grid = False,\n",
    "    bins = 10,\n",
    ")\n",
    "plt.xticks(range(4))\n",
    "# plt.savefig('end_distri.png')\n",
    "plt.show()"
   ]
  },
  {
   "cell_type": "markdown",
   "id": "d78942f3",
   "metadata": {
    "id": "dqB3aO1hFW4G",
    "papermill": {
     "duration": 0.010909,
     "end_time": "2023-03-03T15:15:44.928869",
     "exception": false,
     "start_time": "2023-03-03T15:15:44.917960",
     "status": "completed"
    },
    "tags": []
   },
   "source": [
    "###2.4 \"Normalização\" do tamanho dos sinais"
   ]
  },
  {
   "cell_type": "code",
   "execution_count": 14,
   "id": "b1c475cc",
   "metadata": {
    "execution": {
     "iopub.execute_input": "2023-03-03T15:15:44.952393Z",
     "iopub.status.busy": "2023-03-03T15:15:44.952019Z",
     "iopub.status.idle": "2023-03-03T15:15:44.957428Z",
     "shell.execute_reply": "2023-03-03T15:15:44.955547Z"
    },
    "id": "8eLAtXlgVRZP",
    "papermill": {
     "duration": 0.020108,
     "end_time": "2023-03-03T15:15:44.959804",
     "exception": false,
     "start_time": "2023-03-03T15:15:44.939696",
     "status": "completed"
    },
    "tags": []
   },
   "outputs": [],
   "source": [
    "# for i in range(0, len(x)):\n",
    "#   val = normalize([x[i]])\n",
    "#   x[i] = val[0]"
   ]
  },
  {
   "cell_type": "markdown",
   "id": "6790113e",
   "metadata": {
    "id": "x18mtyZHFiqS",
    "papermill": {
     "duration": 0.010413,
     "end_time": "2023-03-03T15:15:44.981055",
     "exception": false,
     "start_time": "2023-03-03T15:15:44.970642",
     "status": "completed"
    },
    "tags": []
   },
   "source": [
    "#3. Implementação da CNN"
   ]
  },
  {
   "cell_type": "markdown",
   "id": "bac74323",
   "metadata": {
    "id": "Hyc0tgeHFnYJ",
    "papermill": {
     "duration": 0.010391,
     "end_time": "2023-03-03T15:15:45.002446",
     "exception": false,
     "start_time": "2023-03-03T15:15:44.992055",
     "status": "completed"
    },
    "tags": []
   },
   "source": [
    "##3.1 Descoberta dos hyperparâmetros (Otimização Bayseana)"
   ]
  },
  {
   "cell_type": "code",
   "execution_count": 15,
   "id": "a704b63e",
   "metadata": {
    "execution": {
     "iopub.execute_input": "2023-03-03T15:15:45.027187Z",
     "iopub.status.busy": "2023-03-03T15:15:45.026800Z",
     "iopub.status.idle": "2023-03-03T15:15:59.084231Z",
     "shell.execute_reply": "2023-03-03T15:15:59.083104Z"
    },
    "id": "aPUq6qnaGEQ6",
    "papermill": {
     "duration": 14.073052,
     "end_time": "2023-03-03T15:15:59.086910",
     "exception": false,
     "start_time": "2023-03-03T15:15:45.013858",
     "status": "completed"
    },
    "tags": []
   },
   "outputs": [],
   "source": [
    "from keras.models import Sequential\n",
    "from keras.layers import Dense, Flatten\n",
    "from keras.layers import Conv1D, MaxPooling1D\n",
    "\n",
    "from keras.layers import Dense, BatchNormalization, Dropout\n",
    "from tensorflow.keras.optimizers import Adam, SGD, RMSprop, Adadelta, Adagrad, Adamax, Nadam, Ftrl"
   ]
  },
  {
   "cell_type": "code",
   "execution_count": 16,
   "id": "4cdb74db",
   "metadata": {
    "execution": {
     "iopub.execute_input": "2023-03-03T15:15:59.111171Z",
     "iopub.status.busy": "2023-03-03T15:15:59.110383Z",
     "iopub.status.idle": "2023-03-03T15:15:59.607931Z",
     "shell.execute_reply": "2023-03-03T15:15:59.606812Z"
    },
    "id": "fNfOyTiX_R5e",
    "papermill": {
     "duration": 0.513186,
     "end_time": "2023-03-03T15:15:59.611190",
     "exception": false,
     "start_time": "2023-03-03T15:15:59.098004",
     "status": "completed"
    },
    "tags": []
   },
   "outputs": [],
   "source": [
    "y_train = pd.get_dummies(d_train[\"classes\"])\n",
    "y_valid = pd.get_dummies(d_valid[\"classes\"])\n",
    "\n",
    "x_train = list(d_train[\"signals\"])\n",
    "x_valid = list(d_valid[\"signals\"])\n",
    "\n",
    "x_train = np.array(x_train)\n",
    "x_valid = np.array(x_valid)\n",
    "#x_test = np.array(x_test)"
   ]
  },
  {
   "cell_type": "code",
   "execution_count": 17,
   "id": "89a3e4e4",
   "metadata": {
    "execution": {
     "iopub.execute_input": "2023-03-03T15:15:59.644512Z",
     "iopub.status.busy": "2023-03-03T15:15:59.644113Z",
     "iopub.status.idle": "2023-03-03T15:15:59.649608Z",
     "shell.execute_reply": "2023-03-03T15:15:59.648693Z"
    },
    "id": "XuHlQiLjwe_H",
    "papermill": {
     "duration": 0.026675,
     "end_time": "2023-03-03T15:15:59.654154",
     "exception": false,
     "start_time": "2023-03-03T15:15:59.627479",
     "status": "completed"
    },
    "tags": []
   },
   "outputs": [],
   "source": [
    "x_train = x_train.reshape(x_train.shape[0], x_train.shape[1], 1)\n",
    "# x_test = x_test.reshape(x_test.shape[0], x_test.shape[1], 1)\n",
    "x_valid = x_valid.reshape(x_valid.shape[0], x_valid.shape[1], 1)"
   ]
  },
  {
   "cell_type": "code",
   "execution_count": 18,
   "id": "794a6c9d",
   "metadata": {
    "execution": {
     "iopub.execute_input": "2023-03-03T15:15:59.687735Z",
     "iopub.status.busy": "2023-03-03T15:15:59.687250Z",
     "iopub.status.idle": "2023-03-03T15:15:59.699612Z",
     "shell.execute_reply": "2023-03-03T15:15:59.698653Z"
    },
    "id": "mt5BSTOL_NJw",
    "papermill": {
     "duration": 0.032388,
     "end_time": "2023-03-03T15:15:59.702610",
     "exception": false,
     "start_time": "2023-03-03T15:15:59.670222",
     "status": "completed"
    },
    "tags": []
   },
   "outputs": [],
   "source": [
    "# Import packages\n",
    "from sklearn.model_selection import cross_val_score\n",
    "from tensorflow.keras.models import Sequential\n",
    "from tensorflow.keras.layers import Dense, BatchNormalization, Dropout\n",
    "from tensorflow.keras.callbacks import EarlyStopping, ModelCheckpoint\n",
    "from tensorflow.keras.wrappers.scikit_learn import KerasClassifier\n",
    "from math import floor\n",
    "from sklearn.metrics import make_scorer, accuracy_score\n",
    "\n",
    "pd.set_option(\"display.max_columns\", None)\n",
    "\n",
    "from sklearn import metrics\n",
    "import tensorflow as tf"
   ]
  },
  {
   "cell_type": "code",
   "execution_count": 19,
   "id": "ad53c486",
   "metadata": {
    "execution": {
     "iopub.execute_input": "2023-03-03T15:15:59.737453Z",
     "iopub.status.busy": "2023-03-03T15:15:59.737046Z",
     "iopub.status.idle": "2023-03-03T15:15:59.741982Z",
     "shell.execute_reply": "2023-03-03T15:15:59.741024Z"
    },
    "id": "vl0bvDqYaIyk",
    "papermill": {
     "duration": 0.027063,
     "end_time": "2023-03-03T15:15:59.746619",
     "exception": false,
     "start_time": "2023-03-03T15:15:59.719556",
     "status": "completed"
    },
    "tags": []
   },
   "outputs": [],
   "source": [
    "from keras import backend as K"
   ]
  },
  {
   "cell_type": "code",
   "execution_count": 20,
   "id": "8195bd33",
   "metadata": {
    "execution": {
     "iopub.execute_input": "2023-03-03T15:15:59.788869Z",
     "iopub.status.busy": "2023-03-03T15:15:59.788284Z",
     "iopub.status.idle": "2023-03-03T15:15:59.798497Z",
     "shell.execute_reply": "2023-03-03T15:15:59.796894Z"
    },
    "id": "xeBdDNrVaDHj",
    "papermill": {
     "duration": 0.036998,
     "end_time": "2023-03-03T15:15:59.801838",
     "exception": false,
     "start_time": "2023-03-03T15:15:59.764840",
     "status": "completed"
    },
    "tags": []
   },
   "outputs": [],
   "source": [
    "def f1(y_true, y_pred):\n",
    "    def recall(y_true, y_pred):\n",
    "        \"\"\"Recall metric.\n",
    "\n",
    "        Only computes a batch-wise average of recall.\n",
    "\n",
    "        Computes the recall, a metric for multi-label classification of\n",
    "        how many relevant items are selected.\n",
    "        \"\"\"\n",
    "        true_positives = K.sum(K.round(K.clip(y_true * y_pred, 0, 1)))\n",
    "        possible_positives = K.sum(K.round(K.clip(y_true, 0, 1)))\n",
    "        recall = true_positives / (possible_positives + K.epsilon())\n",
    "        return recall\n",
    "\n",
    "    def precision(y_true, y_pred):\n",
    "        \"\"\"Precision metric.\n",
    "\n",
    "        Only computes a batch-wise average of precision.\n",
    "\n",
    "        Computes the precision, a metric for multi-label classification of\n",
    "        how many selected items are relevant.\n",
    "        \"\"\"\n",
    "        true_positives = K.sum(K.round(K.clip(y_true * y_pred, 0, 1)))\n",
    "        predicted_positives = K.sum(K.round(K.clip(y_pred, 0, 1)))\n",
    "        precision = true_positives / (predicted_positives + K.epsilon())\n",
    "        return precision\n",
    "    precision = precision(y_true, y_pred)\n",
    "    recall = recall(y_true, y_pred)\n",
    "    return 2*((precision*recall)/(precision+recall+K.epsilon()))"
   ]
  },
  {
   "cell_type": "code",
   "execution_count": 21,
   "id": "390a9dd2",
   "metadata": {
    "execution": {
     "iopub.execute_input": "2023-03-03T15:15:59.829216Z",
     "iopub.status.busy": "2023-03-03T15:15:59.828864Z",
     "iopub.status.idle": "2023-03-03T15:15:59.833681Z",
     "shell.execute_reply": "2023-03-03T15:15:59.832522Z"
    },
    "id": "G8tG4TX2MpGQ",
    "papermill": {
     "duration": 0.019374,
     "end_time": "2023-03-03T15:15:59.836332",
     "exception": false,
     "start_time": "2023-03-03T15:15:59.816958",
     "status": "completed"
    },
    "tags": []
   },
   "outputs": [],
   "source": [
    "score_acc = make_scorer(accuracy_score)"
   ]
  },
  {
   "cell_type": "code",
   "execution_count": 22,
   "id": "62e17714",
   "metadata": {
    "execution": {
     "iopub.execute_input": "2023-03-03T15:15:59.859271Z",
     "iopub.status.busy": "2023-03-03T15:15:59.858930Z",
     "iopub.status.idle": "2023-03-03T15:15:59.865648Z",
     "shell.execute_reply": "2023-03-03T15:15:59.864568Z"
    },
    "id": "AUA1Xgsb1UZZ",
    "outputId": "d150bf36-9ea0-4d95-f23f-c6df85f2cebf",
    "papermill": {
     "duration": 0.0208,
     "end_time": "2023-03-03T15:15:59.867853",
     "exception": false,
     "start_time": "2023-03-03T15:15:59.847053",
     "status": "completed"
    },
    "tags": []
   },
   "outputs": [
    {
     "data": {
      "text/plain": [
       "500"
      ]
     },
     "execution_count": 22,
     "metadata": {},
     "output_type": "execute_result"
    }
   ],
   "source": [
    "len(x_train[0])"
   ]
  },
  {
   "cell_type": "code",
   "execution_count": 23,
   "id": "da806793",
   "metadata": {
    "execution": {
     "iopub.execute_input": "2023-03-03T15:15:59.891379Z",
     "iopub.status.busy": "2023-03-03T15:15:59.890471Z",
     "iopub.status.idle": "2023-03-03T15:30:47.760052Z",
     "shell.execute_reply": "2023-03-03T15:30:47.758856Z"
    },
    "id": "l_FZ6CDpdhIK",
    "outputId": "c12087c0-4df2-469a-f771-47721d3014d5",
    "papermill": {
     "duration": 887.88377,
     "end_time": "2023-03-03T15:30:47.762480",
     "exception": false,
     "start_time": "2023-03-03T15:15:59.878710",
     "status": "completed"
    },
    "tags": []
   },
   "outputs": [
    {
     "name": "stdout",
     "output_type": "stream",
     "text": [
      "Epoch 1/150\n",
      "1346/1346 [==============================] - ETA: 0s - loss: 0.8480 - f1: 0.6139\n",
      "Epoch 1: val_f1 improved from -inf to 0.61295, saving model to _pesos_cnn1d.hdf5\n",
      "1346/1346 [==============================] - 42s 17ms/step - loss: 0.8480 - f1: 0.6139 - val_loss: 0.8113 - val_f1: 0.6129\n",
      "Epoch 2/150\n",
      "1346/1346 [==============================] - ETA: 0s - loss: 0.7529 - f1: 0.6725\n",
      "Epoch 2: val_f1 improved from 0.61295 to 0.64994, saving model to _pesos_cnn1d.hdf5\n",
      "1346/1346 [==============================] - 20s 15ms/step - loss: 0.7529 - f1: 0.6725 - val_loss: 0.8050 - val_f1: 0.6499\n",
      "Epoch 3/150\n",
      "1345/1346 [============================>.] - ETA: 0s - loss: 0.7302 - f1: 0.6864\n",
      "Epoch 3: val_f1 did not improve from 0.64994\n",
      "1346/1346 [==============================] - 20s 15ms/step - loss: 0.7302 - f1: 0.6863 - val_loss: 0.7859 - val_f1: 0.6408\n",
      "Epoch 4/150\n",
      "1344/1346 [============================>.] - ETA: 0s - loss: 0.7163 - f1: 0.6939\n",
      "Epoch 4: val_f1 did not improve from 0.64994\n",
      "1346/1346 [==============================] - 20s 15ms/step - loss: 0.7164 - f1: 0.6939 - val_loss: 0.7565 - val_f1: 0.6407\n",
      "Epoch 5/150\n",
      "1343/1346 [============================>.] - ETA: 0s - loss: 0.7052 - f1: 0.7021\n",
      "Epoch 5: val_f1 improved from 0.64994 to 0.65838, saving model to _pesos_cnn1d.hdf5\n",
      "1346/1346 [==============================] - 20s 15ms/step - loss: 0.7051 - f1: 0.7020 - val_loss: 0.7731 - val_f1: 0.6584\n",
      "Epoch 6/150\n",
      "1346/1346 [==============================] - ETA: 0s - loss: 0.6948 - f1: 0.7072\n",
      "Epoch 6: val_f1 improved from 0.65838 to 0.66224, saving model to _pesos_cnn1d.hdf5\n",
      "1346/1346 [==============================] - 20s 15ms/step - loss: 0.6948 - f1: 0.7072 - val_loss: 0.7533 - val_f1: 0.6622\n",
      "Epoch 7/150\n",
      "1345/1346 [============================>.] - ETA: 0s - loss: 0.6858 - f1: 0.7122\n",
      "Epoch 7: val_f1 did not improve from 0.66224\n",
      "1346/1346 [==============================] - 20s 15ms/step - loss: 0.6858 - f1: 0.7121 - val_loss: 0.7815 - val_f1: 0.6529\n",
      "Epoch 8/150\n",
      "1343/1346 [============================>.] - ETA: 0s - loss: 0.6786 - f1: 0.7153\n",
      "Epoch 8: val_f1 improved from 0.66224 to 0.66332, saving model to _pesos_cnn1d.hdf5\n",
      "1346/1346 [==============================] - 21s 15ms/step - loss: 0.6786 - f1: 0.7154 - val_loss: 0.7581 - val_f1: 0.6633\n",
      "Epoch 9/150\n",
      "1346/1346 [==============================] - ETA: 0s - loss: 0.6710 - f1: 0.7185\n",
      "Epoch 9: val_f1 improved from 0.66332 to 0.66981, saving model to _pesos_cnn1d.hdf5\n",
      "1346/1346 [==============================] - 21s 16ms/step - loss: 0.6710 - f1: 0.7185 - val_loss: 0.7806 - val_f1: 0.6698\n",
      "Epoch 10/150\n",
      "1343/1346 [============================>.] - ETA: 0s - loss: 0.6619 - f1: 0.7238\n",
      "Epoch 10: val_f1 improved from 0.66981 to 0.66992, saving model to _pesos_cnn1d.hdf5\n",
      "1346/1346 [==============================] - 21s 16ms/step - loss: 0.6619 - f1: 0.7239 - val_loss: 0.7747 - val_f1: 0.6699\n",
      "Epoch 11/150\n",
      "1345/1346 [============================>.] - ETA: 0s - loss: 0.6577 - f1: 0.7262\n",
      "Epoch 11: val_f1 did not improve from 0.66992\n",
      "1346/1346 [==============================] - 21s 15ms/step - loss: 0.6577 - f1: 0.7263 - val_loss: 0.7537 - val_f1: 0.6592\n",
      "Epoch 12/150\n",
      "1344/1346 [============================>.] - ETA: 0s - loss: 0.6511 - f1: 0.7298\n",
      "Epoch 12: val_f1 improved from 0.66992 to 0.67066, saving model to _pesos_cnn1d.hdf5\n",
      "1346/1346 [==============================] - 22s 16ms/step - loss: 0.6511 - f1: 0.7299 - val_loss: 0.7624 - val_f1: 0.6707\n",
      "Epoch 13/150\n",
      "1346/1346 [==============================] - ETA: 0s - loss: 0.6467 - f1: 0.7310\n",
      "Epoch 13: val_f1 did not improve from 0.67066\n",
      "1346/1346 [==============================] - 21s 15ms/step - loss: 0.6467 - f1: 0.7310 - val_loss: 0.7907 - val_f1: 0.6657\n",
      "Epoch 14/150\n",
      "1344/1346 [============================>.] - ETA: 0s - loss: 0.6383 - f1: 0.7361\n",
      "Epoch 14: val_f1 did not improve from 0.67066\n",
      "1346/1346 [==============================] - 20s 15ms/step - loss: 0.6384 - f1: 0.7361 - val_loss: 0.7600 - val_f1: 0.6680\n",
      "Epoch 15/150\n",
      "1345/1346 [============================>.] - ETA: 0s - loss: 0.6344 - f1: 0.7377\n",
      "Epoch 15: val_f1 improved from 0.67066 to 0.67506, saving model to _pesos_cnn1d.hdf5\n",
      "1346/1346 [==============================] - 20s 15ms/step - loss: 0.6344 - f1: 0.7377 - val_loss: 0.7892 - val_f1: 0.6751\n",
      "Epoch 16/150\n",
      "1345/1346 [============================>.] - ETA: 0s - loss: 0.6295 - f1: 0.7393\n",
      "Epoch 16: val_f1 did not improve from 0.67506\n",
      "1346/1346 [==============================] - 20s 15ms/step - loss: 0.6295 - f1: 0.7393 - val_loss: 0.7773 - val_f1: 0.6707\n",
      "Epoch 17/150\n",
      "1345/1346 [============================>.] - ETA: 0s - loss: 0.6237 - f1: 0.7440\n",
      "Epoch 17: val_f1 did not improve from 0.67506\n",
      "1346/1346 [==============================] - 21s 16ms/step - loss: 0.6237 - f1: 0.7439 - val_loss: 0.7854 - val_f1: 0.6690\n",
      "Epoch 18/150\n",
      "1345/1346 [============================>.] - ETA: 0s - loss: 0.6166 - f1: 0.7468\n",
      "Epoch 18: val_f1 did not improve from 0.67506\n",
      "1346/1346 [==============================] - 20s 15ms/step - loss: 0.6165 - f1: 0.7468 - val_loss: 0.8226 - val_f1: 0.6713\n",
      "Epoch 19/150\n",
      "1343/1346 [============================>.] - ETA: 0s - loss: 0.6147 - f1: 0.7484\n",
      "Epoch 19: val_f1 did not improve from 0.67506\n",
      "1346/1346 [==============================] - 20s 15ms/step - loss: 0.6146 - f1: 0.7485 - val_loss: 0.8129 - val_f1: 0.6732\n",
      "Epoch 20/150\n",
      "1345/1346 [============================>.] - ETA: 0s - loss: 0.6113 - f1: 0.7494\n",
      "Epoch 20: val_f1 improved from 0.67506 to 0.67544, saving model to _pesos_cnn1d.hdf5\n",
      "1346/1346 [==============================] - 20s 15ms/step - loss: 0.6113 - f1: 0.7495 - val_loss: 0.7906 - val_f1: 0.6754\n",
      "Epoch 21/150\n",
      "1344/1346 [============================>.] - ETA: 0s - loss: 0.6054 - f1: 0.7513\n",
      "Epoch 21: val_f1 did not improve from 0.67544\n",
      "1346/1346 [==============================] - 20s 15ms/step - loss: 0.6054 - f1: 0.7512 - val_loss: 0.8043 - val_f1: 0.6719\n",
      "Epoch 22/150\n",
      "1346/1346 [==============================] - ETA: 0s - loss: 0.5993 - f1: 0.7545\n",
      "Epoch 22: val_f1 did not improve from 0.67544\n",
      "1346/1346 [==============================] - 20s 15ms/step - loss: 0.5993 - f1: 0.7545 - val_loss: 0.7911 - val_f1: 0.6717\n",
      "Epoch 23/150\n",
      "1344/1346 [============================>.] - ETA: 0s - loss: 0.5957 - f1: 0.7565\n",
      "Epoch 23: val_f1 did not improve from 0.67544\n",
      "1346/1346 [==============================] - 21s 15ms/step - loss: 0.5957 - f1: 0.7565 - val_loss: 0.7789 - val_f1: 0.6690\n",
      "Epoch 24/150\n",
      "1343/1346 [============================>.] - ETA: 0s - loss: 0.5934 - f1: 0.7579\n",
      "Epoch 24: val_f1 did not improve from 0.67544\n",
      "1346/1346 [==============================] - 20s 15ms/step - loss: 0.5934 - f1: 0.7579 - val_loss: 0.8029 - val_f1: 0.6730\n",
      "Epoch 25/150\n",
      "1346/1346 [==============================] - ETA: 0s - loss: 0.5909 - f1: 0.7580\n",
      "Epoch 25: val_f1 did not improve from 0.67544\n",
      "1346/1346 [==============================] - 20s 15ms/step - loss: 0.5909 - f1: 0.7580 - val_loss: 0.7860 - val_f1: 0.6720\n",
      "Epoch 26/150\n",
      "1343/1346 [============================>.] - ETA: 0s - loss: 0.5854 - f1: 0.7615\n",
      "Epoch 26: val_f1 did not improve from 0.67544\n",
      "1346/1346 [==============================] - 21s 15ms/step - loss: 0.5853 - f1: 0.7615 - val_loss: 0.8153 - val_f1: 0.6697\n",
      "Epoch 27/150\n",
      "1346/1346 [==============================] - ETA: 0s - loss: 0.5808 - f1: 0.7641\n",
      "Epoch 27: val_f1 improved from 0.67544 to 0.67702, saving model to _pesos_cnn1d.hdf5\n",
      "1346/1346 [==============================] - 22s 16ms/step - loss: 0.5808 - f1: 0.7641 - val_loss: 0.8170 - val_f1: 0.6770\n",
      "Epoch 28/150\n",
      "1344/1346 [============================>.] - ETA: 0s - loss: 0.5784 - f1: 0.7638\n",
      "Epoch 28: val_f1 did not improve from 0.67702\n",
      "1346/1346 [==============================] - 20s 15ms/step - loss: 0.5784 - f1: 0.7639 - val_loss: 0.8178 - val_f1: 0.6750\n",
      "Epoch 29/150\n",
      "1344/1346 [============================>.] - ETA: 0s - loss: 0.5724 - f1: 0.7658\n",
      "Epoch 29: val_f1 did not improve from 0.67702\n",
      "1346/1346 [==============================] - 20s 15ms/step - loss: 0.5725 - f1: 0.7659 - val_loss: 0.8267 - val_f1: 0.6703\n",
      "Epoch 30/150\n",
      "1343/1346 [============================>.] - ETA: 0s - loss: 0.5702 - f1: 0.7683\n",
      "Epoch 30: val_f1 did not improve from 0.67702\n",
      "1346/1346 [==============================] - 21s 15ms/step - loss: 0.5699 - f1: 0.7685 - val_loss: 0.8497 - val_f1: 0.6749\n",
      "Epoch 31/150\n",
      "1344/1346 [============================>.] - ETA: 0s - loss: 0.5683 - f1: 0.7697\n",
      "Epoch 31: val_f1 did not improve from 0.67702\n",
      "1346/1346 [==============================] - 21s 16ms/step - loss: 0.5683 - f1: 0.7697 - val_loss: 0.8586 - val_f1: 0.6633\n",
      "Epoch 32/150\n",
      "1346/1346 [==============================] - ETA: 0s - loss: 0.5632 - f1: 0.7713\n",
      "Epoch 32: val_f1 did not improve from 0.67702\n",
      "1346/1346 [==============================] - 21s 16ms/step - loss: 0.5632 - f1: 0.7713 - val_loss: 0.8312 - val_f1: 0.6678\n",
      "Epoch 33/150\n",
      "1346/1346 [==============================] - ETA: 0s - loss: 0.5599 - f1: 0.7724\n",
      "Epoch 33: val_f1 did not improve from 0.67702\n",
      "1346/1346 [==============================] - 20s 15ms/step - loss: 0.5599 - f1: 0.7724 - val_loss: 0.8385 - val_f1: 0.6704\n",
      "Epoch 34/150\n",
      "1345/1346 [============================>.] - ETA: 0s - loss: 0.5575 - f1: 0.7731\n",
      "Epoch 34: val_f1 did not improve from 0.67702\n",
      "1346/1346 [==============================] - 20s 15ms/step - loss: 0.5575 - f1: 0.7731 - val_loss: 0.8566 - val_f1: 0.6745\n",
      "Epoch 35/150\n",
      "1344/1346 [============================>.] - ETA: 0s - loss: 0.5531 - f1: 0.7757\n",
      "Epoch 35: val_f1 did not improve from 0.67702\n",
      "1346/1346 [==============================] - 20s 15ms/step - loss: 0.5531 - f1: 0.7757 - val_loss: 0.8632 - val_f1: 0.6615\n",
      "Epoch 36/150\n",
      "1346/1346 [==============================] - ETA: 0s - loss: 0.5492 - f1: 0.7765\n",
      "Epoch 36: val_f1 did not improve from 0.67702\n",
      "1346/1346 [==============================] - 20s 15ms/step - loss: 0.5492 - f1: 0.7765 - val_loss: 0.8233 - val_f1: 0.6667\n",
      "Epoch 37/150\n",
      "1343/1346 [============================>.] - ETA: 0s - loss: 0.5461 - f1: 0.7789\n",
      "Epoch 37: val_f1 did not improve from 0.67702\n",
      "1346/1346 [==============================] - 20s 15ms/step - loss: 0.5461 - f1: 0.7787 - val_loss: 0.8414 - val_f1: 0.6706\n",
      "Epoch 38/150\n",
      "1344/1346 [============================>.] - ETA: 0s - loss: 0.5445 - f1: 0.7797\n",
      "Epoch 38: val_f1 did not improve from 0.67702\n",
      "1346/1346 [==============================] - 20s 15ms/step - loss: 0.5445 - f1: 0.7797 - val_loss: 0.8410 - val_f1: 0.6628\n",
      "Epoch 39/150\n",
      "1343/1346 [============================>.] - ETA: 0s - loss: 0.5386 - f1: 0.7825\n",
      "Epoch 39: val_f1 did not improve from 0.67702\n",
      "1346/1346 [==============================] - 20s 15ms/step - loss: 0.5387 - f1: 0.7824 - val_loss: 0.8765 - val_f1: 0.6730\n",
      "Epoch 40/150\n",
      "1346/1346 [==============================] - ETA: 0s - loss: 0.5342 - f1: 0.7849\n",
      "Epoch 40: val_f1 did not improve from 0.67702\n",
      "1346/1346 [==============================] - 20s 15ms/step - loss: 0.5342 - f1: 0.7849 - val_loss: 0.8168 - val_f1: 0.6687\n",
      "Epoch 41/150\n",
      "1344/1346 [============================>.] - ETA: 0s - loss: 0.5353 - f1: 0.7839\n",
      "Epoch 41: val_f1 did not improve from 0.67702\n",
      "1346/1346 [==============================] - 21s 16ms/step - loss: 0.5352 - f1: 0.7840 - val_loss: 0.9137 - val_f1: 0.6732\n",
      "Epoch 42/150\n",
      "1343/1346 [============================>.] - ETA: 0s - loss: 0.5329 - f1: 0.7846\n",
      "Epoch 42: val_f1 did not improve from 0.67702\n",
      "1346/1346 [==============================] - 22s 16ms/step - loss: 0.5329 - f1: 0.7847 - val_loss: 0.8637 - val_f1: 0.6618\n"
     ]
    }
   ],
   "source": [
    "input_shape = len(x_train[0])\n",
    "k1 = 5\n",
    "k2 = 3\n",
    "n = math.floor(input_shape/(k1+k2-2))\n",
    "nn_input = input_shape % (k1+k2-2)\n",
    "\n",
    "classificador = Sequential()\n",
    "\n",
    "for i  in range(0, 5):\n",
    "  if i == 0:\n",
    "    classificador.add(Conv1D(filters=32, kernel_size = k1, input_shape = (input_shape, 1), activation = \"relu\"))\n",
    "  else:\n",
    "      classificador.add(Conv1D(filters=32, kernel_size = k1, activation = \"relu\"))\n",
    "  # BatchNormalization()\n",
    "  \n",
    "  classificador.add(Conv1D(filters=64, kernel_size = k2, activation = \"relu\"))\n",
    "  # BatchNormalization()\n",
    "  # classificador.add(Conv1D(filters=32, kernel_size = k2, activation = \"relu\"))\n",
    "  classificador.add(MaxPooling1D(pool_size=2))\n",
    "\n",
    "classificador.add(Flatten())\n",
    "\n",
    "classificador.add(Dense(units=64, activation='relu'))\n",
    "classificador.add(Dense(units=32, activation='relu'))\n",
    "classificador.add(Dense(units=16, activation='relu'))\n",
    "\n",
    "classificador.add(Dense(4, activation=\"softmax\"))\n",
    "\n",
    "classificador.compile(loss='categorical_crossentropy', optimizer=Adamax(learning_rate=0.01), metrics=[f1])\n",
    "\n",
    "es = EarlyStopping(monitor=\"val_f1\", mode='max', verbose=0, patience=15)\n",
    "\n",
    "checkpoint = ModelCheckpoint('_pesos_cnn1d.hdf5', monitor=\"val_f1\", verbose=1, \n",
    "                                  save_best_only=True, mode='max') \n",
    "\n",
    "history = classificador.fit(x_train, y_train, validation_data=(x_valid, y_valid), epochs=150,\n",
    "                            batch_size=128, callbacks=[es, checkpoint], verbose=1)\n",
    "\n"
   ]
  },
  {
   "cell_type": "code",
   "execution_count": 24,
   "id": "20f1fabf",
   "metadata": {
    "execution": {
     "iopub.execute_input": "2023-03-03T15:30:49.451365Z",
     "iopub.status.busy": "2023-03-03T15:30:49.450828Z",
     "iopub.status.idle": "2023-03-03T15:31:30.809736Z",
     "shell.execute_reply": "2023-03-03T15:31:30.808589Z"
    },
    "id": "DEXhkG1AAMMF",
    "outputId": "0823487b-4a31-491a-bffc-92d77e26d36f",
    "papermill": {
     "duration": 43.05905,
     "end_time": "2023-03-03T15:31:31.624996",
     "exception": false,
     "start_time": "2023-03-03T15:30:48.565946",
     "status": "completed"
    },
    "tags": []
   },
   "outputs": [
    {
     "data": {
      "image/png": "[encoded data removed]",
      "text/plain": [
       "<Figure size 640x480 with 1 Axes>"
      ]
     },
     "metadata": {},
     "output_type": "display_data"
    }
   ],
   "source": [
    "plt.plot(history.history['f1'])\n",
    "plt.plot(history.history['val_f1'])\n",
    "plt.title('model f1')\n",
    "plt.ylabel('f1')\n",
    "plt.xlabel('epoch')\n",
    "plt.legend(['train', 'valid'], loc='upper left')\n",
    "plt.savefig(\"history.png\")\n",
    "plt.show()"
   ]
  },
  {
   "cell_type": "code",
   "execution_count": 25,
   "id": "da7c4643",
   "metadata": {
    "execution": {
     "iopub.execute_input": "2023-03-03T15:31:33.372304Z",
     "iopub.status.busy": "2023-03-03T15:31:33.371915Z",
     "iopub.status.idle": "2023-03-03T15:31:33.379022Z",
     "shell.execute_reply": "2023-03-03T15:31:33.377980Z"
    },
    "id": "UhElHVjloFes",
    "outputId": "6bc0b464-fbcb-4c91-b09e-c6f2792d5d89",
    "papermill": {
     "duration": 0.880659,
     "end_time": "2023-03-03T15:31:33.381408",
     "exception": false,
     "start_time": "2023-03-03T15:31:32.500749",
     "status": "completed"
    },
    "tags": []
   },
   "outputs": [
    {
     "data": {
      "text/plain": [
       "True"
      ]
     },
     "execution_count": 25,
     "metadata": {},
     "output_type": "execute_result"
    }
   ],
   "source": [
    "str(type(classificador.layers[0])) == \"<class 'keras.layers.convolutional.conv1d.Conv1D'>\""
   ]
  },
  {
   "cell_type": "code",
   "execution_count": 26,
   "id": "b019c18b",
   "metadata": {
    "execution": {
     "iopub.execute_input": "2023-03-03T15:31:35.276111Z",
     "iopub.status.busy": "2023-03-03T15:31:35.275735Z",
     "iopub.status.idle": "2023-03-03T15:31:35.289205Z",
     "shell.execute_reply": "2023-03-03T15:31:35.288187Z"
    },
    "id": "gq2Umwlfq6oB",
    "papermill": {
     "duration": 1.078785,
     "end_time": "2023-03-03T15:31:35.291462",
     "exception": false,
     "start_time": "2023-03-03T15:31:34.212677",
     "status": "completed"
    },
    "tags": []
   },
   "outputs": [],
   "source": [
    "model_weights =[]\n",
    "for i in classificador.layers:\n",
    "  layer = \"<class 'keras.layers.convolutional.conv1d.Conv1D'>\"\n",
    "  if str(type(i)) == layer:\n",
    "    model_weights.append(i.get_weights())"
   ]
  },
  {
   "cell_type": "code",
   "execution_count": 27,
   "id": "1cafbb0d",
   "metadata": {
    "execution": {
     "iopub.execute_input": "2023-03-03T15:31:36.976535Z",
     "iopub.status.busy": "2023-03-03T15:31:36.975515Z",
     "iopub.status.idle": "2023-03-03T15:31:37.159149Z",
     "shell.execute_reply": "2023-03-03T15:31:37.158164Z"
    },
    "id": "VgC-ZI9xSLFK",
    "papermill": {
     "duration": 1.052105,
     "end_time": "2023-03-03T15:31:37.161981",
     "exception": false,
     "start_time": "2023-03-03T15:31:36.109876",
     "status": "completed"
    },
    "tags": []
   },
   "outputs": [],
   "source": [
    "input_shape = len(x_train[0])\n",
    "k1 = 5\n",
    "k2 = 3\n",
    "n = math.floor(input_shape/(k1+k2-2))\n",
    "nn_input = input_shape % (k1+k2-2)\n",
    "\n",
    "model = Sequential()\n",
    "\n",
    "for i  in range(0, 5):\n",
    "  if i == 0:\n",
    "    model.add(Conv1D(filters=32, kernel_size = k1, input_shape = (input_shape, 1), activation = \"relu\"))\n",
    "  else:\n",
    "    model.add(Conv1D(filters=32, kernel_size = k1, activation = \"relu\"))\n",
    "  \n",
    "  model.add(Conv1D(filters=64, kernel_size = k2, activation = \"relu\"))\n",
    "  model.add(MaxPooling1D(pool_size=2))\n",
    "\n",
    "model.add(Flatten())"
   ]
  },
  {
   "cell_type": "code",
   "execution_count": 28,
   "id": "f95d73cc",
   "metadata": {
    "execution": {
     "iopub.execute_input": "2023-03-03T15:31:38.826936Z",
     "iopub.status.busy": "2023-03-03T15:31:38.825888Z",
     "iopub.status.idle": "2023-03-03T15:31:38.848527Z",
     "shell.execute_reply": "2023-03-03T15:31:38.847471Z"
    },
    "id": "USm8R1ioT5V-",
    "papermill": {
     "duration": 0.889615,
     "end_time": "2023-03-03T15:31:38.851138",
     "exception": false,
     "start_time": "2023-03-03T15:31:37.961523",
     "status": "completed"
    },
    "tags": []
   },
   "outputs": [],
   "source": [
    "count = 0\n",
    "for i in model.layers:\n",
    "  layer = \"<class 'keras.layers.convolutional.conv1d.Conv1D'>\"\n",
    "  if str(type(i)) == layer:\n",
    "    i.set_weights(model_weights[count])\n",
    "    count += 1"
   ]
  },
  {
   "cell_type": "code",
   "execution_count": 29,
   "id": "41c8e62e",
   "metadata": {
    "execution": {
     "iopub.execute_input": "2023-03-03T15:31:40.507076Z",
     "iopub.status.busy": "2023-03-03T15:31:40.505880Z",
     "iopub.status.idle": "2023-03-03T15:31:40.520163Z",
     "shell.execute_reply": "2023-03-03T15:31:40.519127Z"
    },
    "id": "vTvrD6c3U9Kr",
    "outputId": "78e37407-b51a-4d35-b8c9-a04c88fba032",
    "papermill": {
     "duration": 0.875309,
     "end_time": "2023-03-03T15:31:40.522619",
     "exception": false,
     "start_time": "2023-03-03T15:31:39.647310",
     "status": "completed"
    },
    "tags": []
   },
   "outputs": [
    {
     "data": {
      "text/plain": [
       "[array([[[-0.05627424,  0.07298977,  0.03425824,  0.05267674,\n",
       "           0.00934707,  0.01376224, -0.01996159, -0.00787687,\n",
       "           0.09052918, -0.0596035 ,  0.00736311, -0.03443879,\n",
       "          -0.02541424,  0.03757089, -0.08402701, -0.02737899,\n",
       "          -0.07742242,  0.03079225, -0.01456032, -0.05514851,\n",
       "           0.02790729,  0.03585063,  0.06323465,  0.05471785,\n",
       "          -0.035082  ,  0.03464035,  0.01836651,  0.07181685,\n",
       "           0.04842688,  0.03341015, -0.03116485,  0.05291649]],\n",
       " \n",
       "        [[ 0.01600363, -0.08166338, -0.03103256, -0.04479377,\n",
       "          -0.04966716, -0.07566753, -0.09523614,  0.01980064,\n",
       "          -0.11846986,  0.01159191, -0.06834181, -0.02028738,\n",
       "           0.03036242, -0.15995058,  0.11560227,  0.00973288,\n",
       "          -0.2003618 ,  0.076809  ,  0.17369553,  0.12970474,\n",
       "           0.10706223, -0.06563172, -0.13141665,  0.00444784,\n",
       "           0.07064608, -0.05631448,  0.12912856, -0.06834958,\n",
       "           0.01317219, -0.04931878,  0.19151953, -0.09914478]],\n",
       " \n",
       "        [[ 0.03609437,  0.05532767,  0.05398733, -0.10747347,\n",
       "           0.13595644,  0.07815917, -0.0115302 ,  0.04129165,\n",
       "          -0.02405795,  0.0022607 ,  0.0056991 , -0.03078785,\n",
       "           0.06070862,  0.13680078,  0.26554433,  0.03732753,\n",
       "          -0.20120084, -0.10390935, -0.01497603, -0.06628353,\n",
       "          -0.04575759,  0.0301632 ,  0.09023588,  0.02951135,\n",
       "          -0.01957446,  0.02653445, -0.1296562 , -0.09814479,\n",
       "          -0.05488824,  0.06032874, -0.07176963,  0.00983143]],\n",
       " \n",
       "        [[-0.15000285, -0.0151149 , -0.02659112,  0.05679807,\n",
       "          -0.17020166,  0.01593288,  0.06582747, -0.16588864,\n",
       "           0.12800501, -0.08131192,  0.02651444,  0.05437122,\n",
       "          -0.1880789 ,  0.06058717,  0.11619934,  0.00729911,\n",
       "          -0.11195491,  0.05566278, -0.18982962, -0.06510618,\n",
       "          -0.1000317 ,  0.04179456, -0.02071625, -0.02014714,\n",
       "          -0.11295625, -0.02820973,  0.0244431 ,  0.07721976,\n",
       "           0.21723324, -0.12926136, -0.1127402 ,  0.09909587]],\n",
       " \n",
       "        [[ 0.12022605,  0.0121362 , -0.03828864, -0.02956635,\n",
       "           0.0766236 , -0.00236319, -0.03548019,  0.13221045,\n",
       "          -0.0816975 ,  0.02890842, -0.01621878, -0.03725151,\n",
       "           0.0868561 , -0.04615976,  0.00931833,  0.0067943 ,\n",
       "           0.00815151, -0.02160279,  0.09377967,  0.07833454,\n",
       "           0.10220236, -0.0155014 , -0.00313823,  0.01868171,\n",
       "           0.06760545,  0.01419875, -0.00308616, -0.0099001 ,\n",
       "          -0.09703586,  0.06621448,  0.07375065, -0.11283766]]],\n",
       "       dtype=float32),\n",
       " array([-5.0473833 , -1.7456725 , -2.996009  , -3.8760877 , -2.4471374 ,\n",
       "         0.23368062, -4.0239363 , -4.266876  , -3.737809  , -2.8444583 ,\n",
       "        -2.0937803 , -4.2038    , -0.24687205, -4.600668  , -0.48018152,\n",
       "        -3.9704986 , -1.7121785 , -2.5989032 , -4.7848063 , -4.0223303 ,\n",
       "        -4.3099246 , -3.9977891 , -4.6751165 , -4.3283706 , -5.142445  ,\n",
       "        -5.1789985 , -4.260551  , -2.381545  , -2.8574677 , -0.39983395,\n",
       "        -3.5720112 , -2.8885155 ], dtype=float32)]"
      ]
     },
     "execution_count": 29,
     "metadata": {},
     "output_type": "execute_result"
    }
   ],
   "source": [
    "model.layers[0].get_weights()"
   ]
  },
  {
   "cell_type": "code",
   "execution_count": 30,
   "id": "9b425d81",
   "metadata": {
    "execution": {
     "iopub.execute_input": "2023-03-03T15:31:42.354195Z",
     "iopub.status.busy": "2023-03-03T15:31:42.353675Z",
     "iopub.status.idle": "2023-03-03T15:31:42.363048Z",
     "shell.execute_reply": "2023-03-03T15:31:42.362025Z"
    },
    "id": "1b1o2FfTJRJq",
    "papermill": {
     "duration": 1.020188,
     "end_time": "2023-03-03T15:31:42.370057",
     "exception": false,
     "start_time": "2023-03-03T15:31:41.349869",
     "status": "completed"
    },
    "tags": []
   },
   "outputs": [],
   "source": [
    "def pooling(array, type):\n",
    "  array_size = array.shape[1]\n",
    "  array_qnt = array.shape[0]\n",
    "  mp_vector = []\n",
    "\n",
    "  for j in range(0, array_size):\n",
    "    aux = []\n",
    "\n",
    "    for i in range(0, array_qnt):\n",
    "      aux.append(array[i][j])\n",
    "      \n",
    "    if type == \"max\":\n",
    "      mp_vector.append(max(aux))\n",
    "\n",
    "    elif  type == \"avg\":\n",
    "      mp_vector.append(np.mean(aux))\n",
    "\n",
    "  return mp_vector"
   ]
  },
  {
   "cell_type": "code",
   "execution_count": 31,
   "id": "604270b5",
   "metadata": {
    "execution": {
     "iopub.execute_input": "2023-03-03T15:31:44.318532Z",
     "iopub.status.busy": "2023-03-03T15:31:44.317558Z",
     "iopub.status.idle": "2023-03-03T15:31:44.325719Z",
     "shell.execute_reply": "2023-03-03T15:31:44.324627Z"
    },
    "id": "lrk54UcjVoKS",
    "papermill": {
     "duration": 0.803187,
     "end_time": "2023-03-03T15:31:44.327833",
     "exception": false,
     "start_time": "2023-03-03T15:31:43.524646",
     "status": "completed"
    },
    "tags": []
   },
   "outputs": [],
   "source": [
    "def combine_windows(df):\n",
    "\n",
    "  get_final_output = K.function([model.layers[0].input],\n",
    "                                  [model.layers[-1].output])\n",
    "\n",
    "  new_inputs = []\n",
    "\n",
    "  for element in df[\"signals\"]:\n",
    "    samples = window(element, intersection, window_size, \"max\")\n",
    "    outputs = []\n",
    "\n",
    "    for sample in samples:\n",
    "      sample = np.array(list(sample))\n",
    "      sample = sample.reshape(1, sample.shape[0], 1)\n",
    "      \n",
    "      output = get_final_output(sample)\n",
    "      outputs.append(output)\n",
    "\n",
    "\n",
    "    outputs = np.array(outputs)\n",
    "    outputs = outputs.reshape(outputs.shape[0], outputs.shape[-1])\n",
    "\n",
    "    max_p = pooling(outputs, \"max\")\n",
    "    avg_p = pooling(outputs, \"avg\")\n",
    "    new_inputs.append(max_p + avg_p)\n",
    "\n",
    "  return new_inputs\n"
   ]
  },
  {
   "cell_type": "code",
   "execution_count": 32,
   "id": "a5b2c106",
   "metadata": {
    "execution": {
     "iopub.execute_input": "2023-03-03T15:31:46.259363Z",
     "iopub.status.busy": "2023-03-03T15:31:46.258958Z",
     "iopub.status.idle": "2023-03-03T15:31:57.680772Z",
     "shell.execute_reply": "2023-03-03T15:31:57.679433Z"
    },
    "id": "_PKaCHbgZEBN",
    "outputId": "d4e46ae4-0e46-4240-8bd6-07255fd9fbde",
    "papermill": {
     "duration": 12.466208,
     "end_time": "2023-03-03T15:31:57.683426",
     "exception": false,
     "start_time": "2023-03-03T15:31:45.217218",
     "status": "completed"
    },
    "tags": []
   },
   "outputs": [
    {
     "name": "stdout",
     "output_type": "stream",
     "text": [
      "Requirement already satisfied: xgboost in /opt/conda/lib/python3.7/site-packages (1.6.2)\r\n",
      "Requirement already satisfied: numpy in /opt/conda/lib/python3.7/site-packages (from xgboost) (1.21.6)\r\n",
      "Requirement already satisfied: scipy in /opt/conda/lib/python3.7/site-packages (from xgboost) (1.7.3)\r\n",
      "\u001b[33mWARNING: Running pip as the 'root' user can result in broken permissions and conflicting behaviour with the system package manager. It is recommended to use a virtual environment instead: https://pip.pypa.io/warnings/venv\u001b[0m\u001b[33m\r\n",
      "\u001b[0mNote: you may need to restart the kernel to use updated packages.\n"
     ]
    }
   ],
   "source": [
    "pip install xgboost"
   ]
  },
  {
   "cell_type": "code",
   "execution_count": 33,
   "id": "da90f78f",
   "metadata": {
    "execution": {
     "iopub.execute_input": "2023-03-03T15:31:59.330729Z",
     "iopub.status.busy": "2023-03-03T15:31:59.329552Z",
     "iopub.status.idle": "2023-03-03T15:31:59.337054Z",
     "shell.execute_reply": "2023-03-03T15:31:59.336101Z"
    },
    "papermill": {
     "duration": 0.86579,
     "end_time": "2023-03-03T15:31:59.339192",
     "exception": false,
     "start_time": "2023-03-03T15:31:58.473402",
     "status": "completed"
    },
    "tags": []
   },
   "outputs": [],
   "source": [
    "def encoder(vec):\n",
    "    classes = []\n",
    "    for i in vec:\n",
    "        if i not in classes:\n",
    "            classes.append(i)\n",
    "    \n",
    "    new_array = []\n",
    "    for k in vec:\n",
    "        for i,x in enumerate(classes):\n",
    "            if x == k:\n",
    "                new_array.append(i)\n",
    "                \n",
    "    return np.array(new_array)"
   ]
  },
  {
   "cell_type": "code",
   "execution_count": 34,
   "id": "1b553f8e",
   "metadata": {
    "execution": {
     "iopub.execute_input": "2023-03-03T15:32:00.988301Z",
     "iopub.status.busy": "2023-03-03T15:32:00.987931Z",
     "iopub.status.idle": "2023-03-03T15:32:01.194056Z",
     "shell.execute_reply": "2023-03-03T15:32:01.192979Z"
    },
    "id": "Cuz2MKzccqZL",
    "outputId": "6e17f37e-5ee6-41b1-d52d-585a462ac365",
    "papermill": {
     "duration": 1.00672,
     "end_time": "2023-03-03T15:32:01.197124",
     "exception": false,
     "start_time": "2023-03-03T15:32:00.190404",
     "status": "completed"
    },
    "tags": []
   },
   "outputs": [],
   "source": [
    "import xgboost as xgb"
   ]
  },
  {
   "cell_type": "code",
   "execution_count": 35,
   "id": "916156c2",
   "metadata": {
    "execution": {
     "iopub.execute_input": "2023-03-03T15:32:02.854377Z",
     "iopub.status.busy": "2023-03-03T15:32:02.853705Z",
     "iopub.status.idle": "2023-03-03T15:32:02.868381Z",
     "shell.execute_reply": "2023-03-03T15:32:02.867386Z"
    },
    "id": "Cuz2MKzccqZL",
    "outputId": "6e17f37e-5ee6-41b1-d52d-585a462ac365",
    "papermill": {
     "duration": 0.821855,
     "end_time": "2023-03-03T15:32:02.870632",
     "exception": false,
     "start_time": "2023-03-03T15:32:02.048777",
     "status": "completed"
    },
    "tags": []
   },
   "outputs": [],
   "source": [
    "y_new = d_aux_train[\"classes\"]\n",
    "y_new = encoder(y_new)"
   ]
  },
  {
   "cell_type": "code",
   "execution_count": 36,
   "id": "2505e0ce",
   "metadata": {
    "execution": {
     "iopub.execute_input": "2023-03-03T15:32:04.557132Z",
     "iopub.status.busy": "2023-03-03T15:32:04.556758Z",
     "iopub.status.idle": "2023-03-03T16:16:12.344929Z",
     "shell.execute_reply": "2023-03-03T16:16:12.343657Z"
    },
    "id": "Cuz2MKzccqZL",
    "outputId": "6e17f37e-5ee6-41b1-d52d-585a462ac365",
    "papermill": {
     "duration": 2648.63427,
     "end_time": "2023-03-03T16:16:12.347904",
     "exception": false,
     "start_time": "2023-03-03T15:32:03.713634",
     "status": "completed"
    },
    "tags": []
   },
   "outputs": [],
   "source": [
    "new_inputs = combine_windows(d_aux_train)\n",
    "new_inputs = np.array(new_inputs)\n",
    "new_inputs = new_inputs.reshape(new_inputs.shape[0], new_inputs.shape[1])"
   ]
  },
  {
   "cell_type": "code",
   "execution_count": 37,
   "id": "8d52c9de",
   "metadata": {
    "execution": {
     "iopub.execute_input": "2023-03-03T16:16:14.023180Z",
     "iopub.status.busy": "2023-03-03T16:16:14.022794Z",
     "iopub.status.idle": "2023-03-03T16:16:14.029976Z",
     "shell.execute_reply": "2023-03-03T16:16:14.028982Z"
    },
    "papermill": {
     "duration": 0.893229,
     "end_time": "2023-03-03T16:16:14.031990",
     "exception": false,
     "start_time": "2023-03-03T16:16:13.138761",
     "status": "completed"
    },
    "tags": []
   },
   "outputs": [
    {
     "data": {
      "text/plain": [
       "array([0, 0, 0, ..., 0, 0, 0])"
      ]
     },
     "execution_count": 37,
     "metadata": {},
     "output_type": "execute_result"
    }
   ],
   "source": [
    "y_new"
   ]
  },
  {
   "cell_type": "code",
   "execution_count": 38,
   "id": "f285308e",
   "metadata": {
    "execution": {
     "iopub.execute_input": "2023-03-03T16:16:15.938083Z",
     "iopub.status.busy": "2023-03-03T16:16:15.937722Z",
     "iopub.status.idle": "2023-03-03T16:22:52.488991Z",
     "shell.execute_reply": "2023-03-03T16:22:52.487641Z"
    },
    "id": "Cuz2MKzccqZL",
    "outputId": "6e17f37e-5ee6-41b1-d52d-585a462ac365",
    "papermill": {
     "duration": 398.233021,
     "end_time": "2023-03-03T16:22:53.367477",
     "exception": false,
     "start_time": "2023-03-03T16:16:15.134456",
     "status": "completed"
    },
    "tags": []
   },
   "outputs": [
    {
     "data": {
      "text/plain": [
       "XGBClassifier(base_score=0.5, booster='gbtree', callbacks=None,\n",
       "              colsample_bylevel=1, colsample_bynode=1, colsample_bytree=1,\n",
       "              early_stopping_rounds=None, enable_categorical=False,\n",
       "              eval_metric=None, gamma=0, gpu_id=-1, grow_policy='depthwise',\n",
       "              importance_type=None, interaction_constraints='',\n",
       "              learning_rate=0.300000012, max_bin=256, max_cat_to_onehot=4,\n",
       "              max_delta_step=0, max_depth=6, max_leaves=0, min_child_weight=1,\n",
       "              missing=nan, monotone_constraints='()', n_estimators=100,\n",
       "              n_jobs=0, num_parallel_tree=1, objective='multi:softprob',\n",
       "              predictor='auto', random_state=0, reg_alpha=0, ...)"
      ]
     },
     "execution_count": 38,
     "metadata": {},
     "output_type": "execute_result"
    }
   ],
   "source": [
    "xgb_cl = xgb.XGBClassifier()\n",
    "xgb_cl.fit(new_inputs, y_new)"
   ]
  },
  {
   "cell_type": "code",
   "execution_count": 39,
   "id": "44a71ce0",
   "metadata": {
    "execution": {
     "iopub.execute_input": "2023-03-03T16:22:55.023088Z",
     "iopub.status.busy": "2023-03-03T16:22:55.022681Z",
     "iopub.status.idle": "2023-03-03T16:22:55.030528Z",
     "shell.execute_reply": "2023-03-03T16:22:55.029493Z"
    },
    "papermill": {
     "duration": 0.869715,
     "end_time": "2023-03-03T16:22:55.032626",
     "exception": false,
     "start_time": "2023-03-03T16:22:54.162911",
     "status": "completed"
    },
    "tags": []
   },
   "outputs": [
    {
     "data": {
      "text/plain": [
       "array([0, 0, 0, ..., 0, 0, 0])"
      ]
     },
     "execution_count": 39,
     "metadata": {},
     "output_type": "execute_result"
    }
   ],
   "source": [
    "y_new"
   ]
  },
  {
   "cell_type": "code",
   "execution_count": 40,
   "id": "ca81dee5",
   "metadata": {
    "execution": {
     "iopub.execute_input": "2023-03-03T16:22:56.698409Z",
     "iopub.status.busy": "2023-03-03T16:22:56.697218Z",
     "iopub.status.idle": "2023-03-03T16:30:48.172702Z",
     "shell.execute_reply": "2023-03-03T16:30:48.171740Z"
    },
    "id": "hvT0MJLyhGtF",
    "papermill": {
     "duration": 472.345222,
     "end_time": "2023-03-03T16:30:48.175538",
     "exception": false,
     "start_time": "2023-03-03T16:22:55.830316",
     "status": "completed"
    },
    "tags": []
   },
   "outputs": [],
   "source": [
    "valid_inp = combine_windows(d_aux_valid)\n",
    "\n",
    "y_new_val = d_aux_valid[\"classes\"]\n",
    "y_new_val = encoder(y_new_val)\n",
    "\n",
    "valid_inp = np.array(valid_inp)\n",
    "valid_inp = valid_inp.reshape(valid_inp.shape[0], valid_inp.shape[1])\n",
    "\n",
    "y_pred = xgb_cl.predict(valid_inp)"
   ]
  },
  {
   "cell_type": "code",
   "execution_count": 41,
   "id": "8edf329e",
   "metadata": {
    "execution": {
     "iopub.execute_input": "2023-03-03T16:30:49.830446Z",
     "iopub.status.busy": "2023-03-03T16:30:49.830055Z",
     "iopub.status.idle": "2023-03-03T16:30:49.840295Z",
     "shell.execute_reply": "2023-03-03T16:30:49.839288Z"
    },
    "id": "S3sm7Gb1h0ll",
    "outputId": "6429cfd6-90a4-4a55-aaba-49abc5c80bba",
    "papermill": {
     "duration": 0.87737,
     "end_time": "2023-03-03T16:30:49.842680",
     "exception": false,
     "start_time": "2023-03-03T16:30:48.965310",
     "status": "completed"
    },
    "tags": []
   },
   "outputs": [
    {
     "data": {
      "text/plain": [
       "0.69609375"
      ]
     },
     "execution_count": 41,
     "metadata": {},
     "output_type": "execute_result"
    }
   ],
   "source": [
    "accuracy_score(y_new_val, y_pred)"
   ]
  },
  {
   "cell_type": "code",
   "execution_count": 42,
   "id": "dd06b34e",
   "metadata": {
    "execution": {
     "iopub.execute_input": "2023-03-03T16:30:51.474214Z",
     "iopub.status.busy": "2023-03-03T16:30:51.473838Z",
     "iopub.status.idle": "2023-03-03T16:30:51.775608Z",
     "shell.execute_reply": "2023-03-03T16:30:51.774514Z"
    },
    "id": "r5760y0tiEXV",
    "outputId": "07ec6e63-8fbf-4472-ddd8-351bbf420689",
    "papermill": {
     "duration": 1.154684,
     "end_time": "2023-03-03T16:30:51.777926",
     "exception": false,
     "start_time": "2023-03-03T16:30:50.623242",
     "status": "completed"
    },
    "tags": []
   },
   "outputs": [
    {
     "data": {
      "text/plain": [
       "<sklearn.metrics._plot.confusion_matrix.ConfusionMatrixDisplay at 0x7f31d83c5310>"
      ]
     },
     "execution_count": 42,
     "metadata": {},
     "output_type": "execute_result"
    },
    {
     "data": {
      "image/png": "[encoded data removed]",
      "text/plain": [
       "<Figure size 640x480 with 2 Axes>"
      ]
     },
     "metadata": {},
     "output_type": "display_data"
    }
   ],
   "source": [
    "from sklearn.metrics import confusion_matrix\n",
    "from sklearn import metrics\n",
    "\n",
    "cf_matrix = confusion_matrix(y_new_val, y_pred)\n",
    "cm_display = metrics.ConfusionMatrixDisplay(confusion_matrix = cf_matrix, display_labels = ['O', 'A', 'N', '~'])\n",
    "cm_display.plot()\n",
    "# plt.savefig(\"test.png\")"
   ]
  },
  {
   "cell_type": "code",
   "execution_count": 43,
   "id": "f752ea80",
   "metadata": {
    "execution": {
     "iopub.execute_input": "2023-03-03T16:30:53.444128Z",
     "iopub.status.busy": "2023-03-03T16:30:53.443186Z",
     "iopub.status.idle": "2023-03-03T16:30:53.456144Z",
     "shell.execute_reply": "2023-03-03T16:30:53.454900Z"
    },
    "id": "GdL9OQS30kvZ",
    "outputId": "814455de-f694-4f2e-8f79-b1c97ae61009",
    "papermill": {
     "duration": 0.879824,
     "end_time": "2023-03-03T16:30:53.459695",
     "exception": false,
     "start_time": "2023-03-03T16:30:52.579871",
     "status": "completed"
    },
    "tags": []
   },
   "outputs": [
    {
     "name": "stdout",
     "output_type": "stream",
     "text": [
      "              precision    recall  f1-score   support\n",
      "\n",
      "           0       0.80      0.92      0.85       751\n",
      "           1       0.71      0.52      0.60       375\n",
      "           2       0.07      0.02      0.03       108\n",
      "           3       0.01      0.02      0.01        46\n",
      "\n",
      "    accuracy                           0.70      1280\n",
      "   macro avg       0.40      0.37      0.37      1280\n",
      "weighted avg       0.68      0.70      0.68      1280\n",
      "\n"
     ]
    }
   ],
   "source": [
    "from sklearn.metrics import classification_report \n",
    " \n",
    "relatorio = classification_report(y_new_val, y_pred) \n",
    "print(relatorio)"
   ]
  }
 ],
 "metadata": {
  "kernelspec": {
   "display_name": "Python 3",
   "language": "python",
   "name": "python3"
  },
  "language_info": {
   "codemirror_mode": {
    "name": "ipython",
    "version": 3
   },
   "file_extension": ".py",
   "mimetype": "text/x-python",
   "name": "python",
   "nbconvert_exporter": "python",
   "pygments_lexer": "ipython3",
   "version": "3.7.12"
  },
  "papermill": {
   "default_parameters": {},
   "duration": 5273.417491,
   "end_time": "2023-03-03T16:30:58.393523",
   "environment_variables": {},
   "exception": null,
   "input_path": "__notebook__.ipynb",
   "output_path": "__notebook__.ipynb",
   "parameters": {},
   "start_time": "2023-03-03T15:03:04.976032",
   "version": "2.4.0"
  }
 },
 "nbformat": 4,
 "nbformat_minor": 5
}
