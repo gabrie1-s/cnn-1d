{
  "cells": [
    {
      "cell_type": "markdown",
      "metadata": {
        "id": "view-in-github",
        "colab_type": "text"
      },
      "source": [
        "<a href=\"https://colab.research.google.com/github/gabrie1-s/cnn-1d/blob/combined_approaches/cnn_1d.ipynb\" target=\"_parent\"><img src=\"https://colab.research.google.com/assets/colab-badge.svg\" alt=\"Open In Colab\"/></a>"
      ]
    },
    {
      "cell_type": "code",
      "execution_count": null,
      "metadata": {
        "id": "zktLrLf6iCu5"
      },
      "outputs": [],
      "source": [
        "from google.colab import drive\n",
        "from pathlib import Path\n",
        "import scipy.io\n",
        "from glob import glob\n",
        "import os\n",
        "import matplotlib.pyplot as plt\n",
        "import numpy as np\n",
        "import math\n",
        "import random\n",
        "import pandas as pd\n",
        "from sklearn.preprocessing import normalize, label_binarize\n",
        "from sklearn.model_selection import train_test_split, cross_val_score\n",
        "from scipy.stats import zscore"
      ]
    },
    {
      "cell_type": "code",
      "execution_count": null,
      "metadata": {
        "colab": {
          "base_uri": "https://localhost:8080/"
        },
        "id": "FEw9tU79AcGV",
        "outputId": "0c0e346a-d41b-4461-fed9-81dd0ac7ec6c"
      },
      "outputs": [
        {
          "output_type": "stream",
          "name": "stdout",
          "text": [
            "Mounted at /content/drive\n"
          ]
        }
      ],
      "source": [
        "drive.mount('/content/drive')"
      ]
    },
    {
      "cell_type": "markdown",
      "metadata": {
        "id": "LVTiQgFbGFS8"
      },
      "source": [
        "#1. Aquisição dos Dados"
      ]
    },
    {
      "cell_type": "code",
      "execution_count": null,
      "metadata": {
        "id": "4juuk4_TiRvW"
      },
      "outputs": [],
      "source": [
        "data = Path('drive/MyDrive/CNN_Chagas/Physionet/cnn-1d/data')\n",
        "\n",
        "signals = []\n",
        "classes =[]\n",
        "\n",
        "for value in sorted(data.glob('*.mat')):\n",
        "  signal = scipy.io.loadmat(value)\n",
        "  signal = np.array(signal[\"val\"], dtype='float')[0]\n",
        "  signals.append(signal)\n",
        "  # print(value)"
      ]
    },
    {
      "cell_type": "code",
      "execution_count": null,
      "metadata": {
        "id": "EpNZgpvfis1M"
      },
      "outputs": [],
      "source": [
        "classification_path = os.path.join(data, \"classification.txt\")\n",
        "with open(classification_path) as f:\n",
        "    classes = f.readlines()\n",
        "\n",
        "for i in range(0, len(classes)):\n",
        "  classes[i] = classes[i][classes[i].find(','):]\n",
        "  classes[i] = classes[i][: classes[i].find('\\n')]\n",
        "  classes[i] = classes[i].replace(\",\", \"\")\n",
        "\n",
        "# classes = classes[0: -1]"
      ]
    },
    {
      "cell_type": "markdown",
      "metadata": {
        "id": "JfrBd2SrG4-Z"
      },
      "source": [
        "#2. Preprocessamento"
      ]
    },
    {
      "cell_type": "markdown",
      "metadata": {
        "id": "-3mQ3QWQP1id"
      },
      "source": [
        "### 2.1 Análise da distribuição das classes"
      ]
    },
    {
      "cell_type": "code",
      "execution_count": null,
      "metadata": {
        "id": "EMDav0-ZREVS"
      },
      "outputs": [],
      "source": [
        "d = {'signals': signals, 'classes': classes}\n",
        "df = pd.DataFrame(data=d)\n",
        "a = df.groupby('classes')"
      ]
    },
    {
      "cell_type": "code",
      "execution_count": null,
      "metadata": {
        "id": "jXPAsb09S3rA",
        "colab": {
          "base_uri": "https://localhost:8080/"
        },
        "outputId": "b4a73323-43ff-4aba-b321-17333bde2ebd"
      },
      "outputs": [
        {
          "output_type": "stream",
          "name": "stdout",
          "text": [
            "N\n",
            "Média: 9633.38\n",
            "Std: 2991.84\n",
            "Qntd: 5076\n",
            "Min: 2714\n",
            "---------------\n",
            "O\n",
            "Média: 10288.52\n",
            "Std: 3528.74\n",
            "Qntd: 2415\n",
            "Min: 2738\n",
            "---------------\n",
            "A\n",
            "Média: 9703.41\n",
            "Std: 3694.64\n",
            "Qntd: 758\n",
            "Min: 2996\n",
            "---------------\n",
            "~\n",
            "Média: 7313.63\n",
            "Std: 3122.42\n",
            "Qntd: 279\n",
            "Min: 2808\n",
            "---------------\n"
          ]
        }
      ],
      "source": [
        "for i in ['N', 'O', 'A', '~']:\n",
        "  print(i)\n",
        "  aux = []\n",
        "\n",
        "  for j in a.get_group(i)[\"signals\"]:\n",
        "    aux.append(len(j))\n",
        "\n",
        "  print('Média:', round(np.mean(aux), 2))\n",
        "  print(\"Std:\", round(np.std(aux), 2))\n",
        "  print(\"Qntd:\", len(aux))\n",
        "  print(\"Min:\", min(aux))\n",
        "  print(\"---------------\")"
      ]
    },
    {
      "cell_type": "code",
      "execution_count": null,
      "metadata": {
        "colab": {
          "base_uri": "https://localhost:8080/",
          "height": 383
        },
        "id": "lwr76JbnMcTV",
        "outputId": "2bb61c3c-45b1-4fae-8094-5e1c2c659976"
      },
      "outputs": [
        {
          "output_type": "display_data",
          "data": {
            "text/plain": [
              "<Figure size 576x432 with 1 Axes>"
            ],
            "image/png": "[encoded data removed]"
          },
          "metadata": {
            "needs_background": "light"
          }
        }
      ],
      "source": [
        "plt.rcParams.update({'font.size': 20})\n",
        "\n",
        "df[\"classes\"].hist(\n",
        "    figsize=(8, 6),\n",
        "    grid = False,\n",
        "    bins = 10,\n",
        ")\n",
        "plt.xticks(range(4))\n",
        "# plt.savefig('init_distri.png')\n",
        "plt.show()"
      ]
    },
    {
      "cell_type": "markdown",
      "metadata": {
        "id": "mNnc5P6RRwkn"
      },
      "source": [
        "### 2.3 Wavelet helping functions"
      ]
    },
    {
      "cell_type": "code",
      "execution_count": null,
      "metadata": {
        "id": "9xWfP192Q9OQ"
      },
      "outputs": [],
      "source": [
        "def gera_filtro_MH(Escala):\n",
        "  passo = 1/Escala;\n",
        "  X = []\n",
        "  a = -5\n",
        "  X.append(a)\n",
        "  while a <= 5:\n",
        "    a=a+passo\n",
        "    X.append(a)\n",
        "  Y = []\n",
        "  for i in range(0,len(X)):\n",
        "    Y.append(2.1741*(1/math.sqrt(2*math.pi) * (1 - X[i]**2) * np.exp(-X[i]**2/(2))))\n",
        "  return Y"
      ]
    },
    {
      "cell_type": "code",
      "execution_count": null,
      "metadata": {
        "id": "IWdVC901RO6C"
      },
      "outputs": [],
      "source": [
        "def apply_wavelet(signal, level):\n",
        "  Filtro = gera_filtro_MH(level)\n",
        "  y = np.convolve(signal,Filtro)\n",
        "  return y"
      ]
    },
    {
      "cell_type": "markdown",
      "metadata": {
        "id": "O9i_wClSFDL1"
      },
      "source": [
        "###2.4 Aplicação da tranformada Wavelet"
      ]
    },
    {
      "cell_type": "code",
      "execution_count": null,
      "metadata": {
        "colab": {
          "base_uri": "https://localhost:8080/",
          "height": 1000
        },
        "id": "_N-_e3pOb11t",
        "outputId": "61f5cb0a-6940-488d-d8a6-c41d22417fb4"
      },
      "outputs": [
        {
          "output_type": "display_data",
          "data": {
            "text/plain": [
              "<Figure size 1440x360 with 2 Axes>"
            ],
            "image/png": "[encoded data removed]"
          },
          "metadata": {
            "needs_background": "light"
          }
        },
        {
          "output_type": "display_data",
          "data": {
            "text/plain": [
              "<Figure size 1440x360 with 2 Axes>"
            ],
            "image/png": "[encoded data removed]"
          },
          "metadata": {
            "needs_background": "light"
          }
        },
        {
          "output_type": "display_data",
          "data": {
            "text/plain": [
              "<Figure size 1440x360 with 2 Axes>"
            ],
            "image/png": "[encoded data removed]"
          },
          "metadata": {
            "needs_background": "light"
          }
        }
      ],
      "source": [
        "plt.rcParams['figure.figsize']=(20,5)\n",
        "\n",
        "signal = df[df[\"classes\"] == 'N'].iloc[0][\"signals\"][0:500]\n",
        "fig, ax = plt.subplots(2,1)\n",
        "fig.suptitle(\"Sinusal (N)\")\n",
        "z = apply_wavelet(signal, 3)\n",
        "ax[0].plot(signal)\n",
        "ax[1].plot(z, 'r')\n",
        "plt.show()\n",
        "\n",
        "signal = df[df[\"classes\"] == 'A'].iloc[0][\"signals\"][0:500]\n",
        "fig, ax = plt.subplots(2,1)\n",
        "fig.suptitle(\"AF Rhythm (A)\")\n",
        "z = apply_wavelet(signal, 3)\n",
        "ax[0].plot(signal)\n",
        "ax[1].plot(z, 'r')\n",
        "plt.show()\n",
        "\n",
        "signal = df[df[\"classes\"] == 'O'].iloc[0][\"signals\"][0:500]\n",
        "fig, ax = plt.subplots(2,1)\n",
        "fig.suptitle(\"Other Rhythm (O)\")\n",
        "z = apply_wavelet(signal, 3)\n",
        "ax[0].plot(signal)\n",
        "ax[1].plot(z, 'r')\n",
        "plt.show()"
      ]
    },
    {
      "cell_type": "code",
      "execution_count": null,
      "metadata": {
        "id": "-t1l71DHiWDC"
      },
      "outputs": [],
      "source": [
        "x = []\n",
        "for i in df[\"signals\"]:\n",
        "  val = apply_wavelet(i, 3)\n",
        "  x.append(val)"
      ]
    },
    {
      "cell_type": "code",
      "source": [
        "# for i in range(0, len(x)):\n",
        "#   val = zscore(x[i])\n",
        "#   x[i] = val"
      ],
      "metadata": {
        "id": "LLY8iDQ60ZEM"
      },
      "execution_count": null,
      "outputs": []
    },
    {
      "cell_type": "markdown",
      "metadata": {
        "id": "Esm2O_1cY1ls"
      },
      "source": [
        "### 2.2 Janelamento dos dados de treino"
      ]
    },
    {
      "cell_type": "code",
      "execution_count": null,
      "metadata": {
        "id": "0huQBxtdY9Pc"
      },
      "outputs": [],
      "source": [
        "intersection = 100\n",
        "window_size = 500\n",
        "windows_array = [\"max\",\"max\",\"max\", \"max\"]\n",
        "classes_array = ['N', 'O', 'A', '~']"
      ]
    },
    {
      "cell_type": "code",
      "execution_count": null,
      "metadata": {
        "id": "S9cPB1Lq_ucf"
      },
      "outputs": [],
      "source": [
        "def window(signal, intersection, window_size, n):\n",
        "  s_size = len(signal)\n",
        "  max_n = (s_size-intersection)/(window_size - intersection)\n",
        "  samples = []\n",
        "  \n",
        "  if  n == \"max\" or n > max_n:\n",
        "    n = max_n\n",
        "    n = math.floor(n)\n",
        "    \n",
        "  max_begin = s_size - (n*(window_size) - (n-1)*intersection) + 1\n",
        "  init = random.randrange(max_begin)\n",
        "  for i in range(0, n):\n",
        "    begin = init + i*window_size - i*intersection\n",
        "    end = begin + window_size\n",
        "    samples.append(signal[begin:end])\n",
        "\n",
        "  \n",
        "  return samples"
      ]
    },
    {
      "cell_type": "code",
      "execution_count": null,
      "metadata": {
        "id": "YZr7BUydRh99"
      },
      "outputs": [],
      "source": [
        "def embalance_data(df, classes_array, windows_array, intersection, window_size):\n",
        "\n",
        "  a = df.groupby('classes')\n",
        "  d_train = df.copy()\n",
        "  d_train = d_train.iloc[0:0]\n",
        "\n",
        "\n",
        "  idx = -1\n",
        "  for i in classes_array:\n",
        "    aux = []\n",
        "    idx += 1\n",
        "\n",
        "    for index, row in a.get_group(i).iterrows():\n",
        "      samples = window(row[\"signals\"], intersection, window_size,  windows_array[idx])\n",
        "      \n",
        "      for k in range(len(samples)):\n",
        "        d_train = d_train.append({'signals': samples[k], 'classes': i}, ignore_index=True)\n",
        "\n",
        "  return d_train"
      ]
    },
    {
      "cell_type": "code",
      "execution_count": null,
      "metadata": {
        "id": "wnxkAcA-MQLx",
        "colab": {
          "base_uri": "https://localhost:8080/"
        },
        "outputId": "2d476d15-e0d9-42d7-81d5-682f7611c7e7"
      },
      "outputs": [
        {
          "output_type": "stream",
          "name": "stdout",
          "text": [
            "N\n",
            "Média: 500.0\n",
            "Std: 0.0\n",
            "Qntd: 80176\n",
            "Min: 500\n",
            "---------------\n",
            "O\n",
            "Média: 500.0\n",
            "Std: 0.0\n",
            "Qntd: 40251\n",
            "Min: 500\n",
            "---------------\n",
            "A\n",
            "Média: 500.0\n",
            "Std: 0.0\n",
            "Qntd: 12641\n",
            "Min: 500\n",
            "---------------\n",
            "~\n",
            "Média: 500.0\n",
            "Std: 0.0\n",
            "Qntd: 3544\n",
            "Min: 500\n",
            "---------------\n"
          ]
        }
      ],
      "source": [
        "x_rem, x_test, y_rem, y_test = train_test_split(df[\"signals\"], df[\"classes\"], test_size=0.25)\n",
        "x_train, x_valid, y_train, y_valid = train_test_split(x_rem, y_rem, test_size=0.1)\n",
        "\n",
        "d_aux_train = pd.DataFrame({'signals': x_train, 'classes': y_train})\n",
        "d_train = embalance_data(d_aux_train, classes_array, windows_array, intersection, window_size)\n",
        "\n",
        "d_aux_valid = pd.DataFrame({'signals': x_valid, 'classes': y_valid})\n",
        "d_valid = embalance_data(d_aux_valid, classes_array, windows_array, intersection, window_size)\n",
        "\n",
        "b = d_train.groupby('classes')\n",
        "\n",
        "for i in ['N','O', 'A', '~']:\n",
        "  print(i)\n",
        "  aux = []\n",
        "\n",
        "  for j in b.get_group(i)[\"signals\"]:\n",
        "    aux.append(len(j))\n",
        "\n",
        "  print('Média:', round(np.mean(aux), 2))\n",
        "  print(\"Std:\", round(np.std(aux), 2))\n",
        "  print(\"Qntd:\", len(aux))\n",
        "  print(\"Min:\", min(aux))\n",
        "  print(\"---------------\")"
      ]
    },
    {
      "cell_type": "code",
      "execution_count": null,
      "metadata": {
        "id": "fCd8O9-XX0uO",
        "colab": {
          "base_uri": "https://localhost:8080/",
          "height": 383
        },
        "outputId": "2db54fe1-48e3-445a-8e9c-55f4e7da5d07"
      },
      "outputs": [
        {
          "output_type": "display_data",
          "data": {
            "text/plain": [
              "<Figure size 576x432 with 1 Axes>"
            ],
            "image/png": "[encoded data removed]"
          },
          "metadata": {
            "needs_background": "light"
          }
        }
      ],
      "source": [
        "plt.rcParams.update({'font.size': 20})\n",
        "\n",
        "d_train[\"classes\"].hist(\n",
        "    figsize=(8, 6),\n",
        "    grid = False,\n",
        "    bins = 10,\n",
        ")\n",
        "plt.xticks(range(4))\n",
        "# plt.savefig('end_distri.png')\n",
        "plt.show()"
      ]
    },
    {
      "cell_type": "markdown",
      "metadata": {
        "id": "dqB3aO1hFW4G"
      },
      "source": [
        "###2.4 \"Normalização\" do tamanho dos sinais"
      ]
    },
    {
      "cell_type": "code",
      "execution_count": null,
      "metadata": {
        "id": "8eLAtXlgVRZP"
      },
      "outputs": [],
      "source": [
        "# for i in range(0, len(x)):\n",
        "#   val = normalize([x[i]])\n",
        "#   x[i] = val[0]"
      ]
    },
    {
      "cell_type": "markdown",
      "metadata": {
        "id": "x18mtyZHFiqS"
      },
      "source": [
        "#3. Implementação da CNN"
      ]
    },
    {
      "cell_type": "markdown",
      "metadata": {
        "id": "Hyc0tgeHFnYJ"
      },
      "source": [
        "##3.1 Descoberta dos hyperparâmetros (Otimização Bayseana)"
      ]
    },
    {
      "cell_type": "code",
      "execution_count": null,
      "metadata": {
        "id": "aPUq6qnaGEQ6"
      },
      "outputs": [],
      "source": [
        "from keras.models import Sequential\n",
        "from keras.layers import Dense, Flatten\n",
        "from keras.layers import Conv1D, MaxPooling1D\n",
        "\n",
        "from keras.layers import Dense, BatchNormalization, Dropout\n",
        "from tensorflow.keras.optimizers import Adam, SGD, RMSprop, Adadelta, Adagrad, Adamax, Nadam, Ftrl"
      ]
    },
    {
      "cell_type": "code",
      "execution_count": null,
      "metadata": {
        "id": "fNfOyTiX_R5e"
      },
      "outputs": [],
      "source": [
        "y_train = pd.get_dummies(d_train[\"classes\"])\n",
        "y_valid = pd.get_dummies(d_valid[\"classes\"])\n",
        "\n",
        "x_train = list(d_train[\"signals\"])\n",
        "x_valid = list(d_valid[\"signals\"])\n",
        "\n",
        "x_train = np.array(x_train)\n",
        "x_valid = np.array(x_valid)\n",
        "x_test = np.array(x_test)"
      ]
    },
    {
      "cell_type": "code",
      "execution_count": null,
      "metadata": {
        "id": "XuHlQiLjwe_H"
      },
      "outputs": [],
      "source": [
        "x_train = x_train.reshape(x_train.shape[0], x_train.shape[1], 1)\n",
        "# x_test = x_test.reshape(x_test.shape[0], x_test.shape[1], 1)\n",
        "x_valid = x_valid.reshape(x_valid.shape[0], x_valid.shape[1], 1)"
      ]
    },
    {
      "cell_type": "code",
      "execution_count": null,
      "metadata": {
        "id": "mt5BSTOL_NJw"
      },
      "outputs": [],
      "source": [
        "# Import packages\n",
        "from sklearn.model_selection import cross_val_score\n",
        "from tensorflow.keras.models import Sequential\n",
        "from tensorflow.keras.layers import Dense, BatchNormalization, Dropout\n",
        "from tensorflow.keras.callbacks import EarlyStopping, ModelCheckpoint\n",
        "from tensorflow.keras.wrappers.scikit_learn import KerasClassifier\n",
        "from math import floor\n",
        "from sklearn.metrics import make_scorer, accuracy_score\n",
        "\n",
        "pd.set_option(\"display.max_columns\", None)\n",
        "\n",
        "from sklearn import metrics\n",
        "import tensorflow as tf"
      ]
    },
    {
      "cell_type": "code",
      "source": [
        "from keras import backend as K"
      ],
      "metadata": {
        "id": "vl0bvDqYaIyk"
      },
      "execution_count": null,
      "outputs": []
    },
    {
      "cell_type": "code",
      "source": [
        "def f1(y_true, y_pred):\n",
        "    def recall(y_true, y_pred):\n",
        "        \"\"\"Recall metric.\n",
        "\n",
        "        Only computes a batch-wise average of recall.\n",
        "\n",
        "        Computes the recall, a metric for multi-label classification of\n",
        "        how many relevant items are selected.\n",
        "        \"\"\"\n",
        "        true_positives = K.sum(K.round(K.clip(y_true * y_pred, 0, 1)))\n",
        "        possible_positives = K.sum(K.round(K.clip(y_true, 0, 1)))\n",
        "        recall = true_positives / (possible_positives + K.epsilon())\n",
        "        return recall\n",
        "\n",
        "    def precision(y_true, y_pred):\n",
        "        \"\"\"Precision metric.\n",
        "\n",
        "        Only computes a batch-wise average of precision.\n",
        "\n",
        "        Computes the precision, a metric for multi-label classification of\n",
        "        how many selected items are relevant.\n",
        "        \"\"\"\n",
        "        true_positives = K.sum(K.round(K.clip(y_true * y_pred, 0, 1)))\n",
        "        predicted_positives = K.sum(K.round(K.clip(y_pred, 0, 1)))\n",
        "        precision = true_positives / (predicted_positives + K.epsilon())\n",
        "        return precision\n",
        "    precision = precision(y_true, y_pred)\n",
        "    recall = recall(y_true, y_pred)\n",
        "    return 2*((precision*recall)/(precision+recall+K.epsilon()))"
      ],
      "metadata": {
        "id": "xeBdDNrVaDHj"
      },
      "execution_count": null,
      "outputs": []
    },
    {
      "cell_type": "code",
      "execution_count": null,
      "metadata": {
        "id": "G8tG4TX2MpGQ"
      },
      "outputs": [],
      "source": [
        "score_acc = make_scorer(accuracy_score)"
      ]
    },
    {
      "cell_type": "code",
      "execution_count": null,
      "metadata": {
        "id": "AUA1Xgsb1UZZ",
        "colab": {
          "base_uri": "https://localhost:8080/"
        },
        "outputId": "d150bf36-9ea0-4d95-f23f-c6df85f2cebf"
      },
      "outputs": [
        {
          "data": {
            "text/plain": [
              "500"
            ]
          },
          "execution_count": 27,
          "metadata": {},
          "output_type": "execute_result"
        }
      ],
      "source": [
        "len(x_train[0])"
      ]
    },
    {
      "cell_type": "code",
      "source": [
        "path_check = 'drive/MyDrive/CNN_Chagas/Physionet/cnn-1d'"
      ],
      "metadata": {
        "id": "3ePmhpwCfEF0"
      },
      "execution_count": null,
      "outputs": []
    },
    {
      "cell_type": "code",
      "execution_count": null,
      "metadata": {
        "id": "l_FZ6CDpdhIK",
        "colab": {
          "base_uri": "https://localhost:8080/"
        },
        "outputId": "c12087c0-4df2-469a-f771-47721d3014d5"
      },
      "outputs": [
        {
          "output_type": "stream",
          "name": "stdout",
          "text": [
            "Epoch 1/150\n",
            "1064/1068 [============================>.] - ETA: 0s - loss: 0.8947 - f1: 0.5827\n",
            "Epoch 1: val_f1 improved from -inf to 0.63018, saving model to drive/MyDrive/CNN_Chagas/Physionet/cnn-1d_pesos_cnn1d.hdf5\n",
            "1068/1068 [==============================] - 20s 15ms/step - loss: 0.8944 - f1: 0.5829 - val_loss: 0.7878 - val_f1: 0.6302\n",
            "Epoch 2/150\n",
            "1067/1068 [============================>.] - ETA: 0s - loss: 0.7787 - f1: 0.6548\n",
            "Epoch 2: val_f1 improved from 0.63018 to 0.63833, saving model to drive/MyDrive/CNN_Chagas/Physionet/cnn-1d_pesos_cnn1d.hdf5\n",
            "1068/1068 [==============================] - 16s 15ms/step - loss: 0.7787 - f1: 0.6548 - val_loss: 0.7807 - val_f1: 0.6383\n",
            "Epoch 3/150\n",
            "1067/1068 [============================>.] - ETA: 0s - loss: 0.7509 - f1: 0.6730\n",
            "Epoch 3: val_f1 improved from 0.63833 to 0.66154, saving model to drive/MyDrive/CNN_Chagas/Physionet/cnn-1d_pesos_cnn1d.hdf5\n",
            "1068/1068 [==============================] - 16s 15ms/step - loss: 0.7510 - f1: 0.6729 - val_loss: 0.7463 - val_f1: 0.6615\n",
            "Epoch 4/150\n",
            "1067/1068 [============================>.] - ETA: 0s - loss: 0.7344 - f1: 0.6817\n",
            "Epoch 4: val_f1 did not improve from 0.66154\n",
            "1068/1068 [==============================] - 15s 14ms/step - loss: 0.7345 - f1: 0.6815 - val_loss: 0.7579 - val_f1: 0.6434\n",
            "Epoch 5/150\n",
            "1068/1068 [==============================] - ETA: 0s - loss: 0.7216 - f1: 0.6901\n",
            "Epoch 5: val_f1 improved from 0.66154 to 0.66731, saving model to drive/MyDrive/CNN_Chagas/Physionet/cnn-1d_pesos_cnn1d.hdf5\n",
            "1068/1068 [==============================] - 16s 15ms/step - loss: 0.7216 - f1: 0.6901 - val_loss: 0.7594 - val_f1: 0.6673\n",
            "Epoch 6/150\n",
            "1068/1068 [==============================] - ETA: 0s - loss: 0.7114 - f1: 0.6949\n",
            "Epoch 6: val_f1 did not improve from 0.66731\n",
            "1068/1068 [==============================] - 15s 14ms/step - loss: 0.7114 - f1: 0.6949 - val_loss: 0.7577 - val_f1: 0.6524\n",
            "Epoch 7/150\n",
            "1068/1068 [==============================] - ETA: 0s - loss: 0.7017 - f1: 0.7001\n",
            "Epoch 7: val_f1 did not improve from 0.66731\n",
            "1068/1068 [==============================] - 15s 14ms/step - loss: 0.7017 - f1: 0.7001 - val_loss: 0.7517 - val_f1: 0.6481\n",
            "Epoch 8/150\n",
            "1067/1068 [============================>.] - ETA: 0s - loss: 0.6909 - f1: 0.7051\n",
            "Epoch 8: val_f1 did not improve from 0.66731\n",
            "1068/1068 [==============================] - 15s 14ms/step - loss: 0.6909 - f1: 0.7051 - val_loss: 0.7554 - val_f1: 0.6607\n",
            "Epoch 9/150\n",
            "1064/1068 [============================>.] - ETA: 0s - loss: 0.6830 - f1: 0.7111\n",
            "Epoch 9: val_f1 did not improve from 0.66731\n",
            "1068/1068 [==============================] - 14s 14ms/step - loss: 0.6832 - f1: 0.7111 - val_loss: 0.7620 - val_f1: 0.6594\n",
            "Epoch 10/150\n",
            "1066/1068 [============================>.] - ETA: 0s - loss: 0.6746 - f1: 0.7141\n",
            "Epoch 10: val_f1 did not improve from 0.66731\n",
            "1068/1068 [==============================] - 15s 14ms/step - loss: 0.6746 - f1: 0.7141 - val_loss: 0.7816 - val_f1: 0.6437\n",
            "Epoch 11/150\n",
            "1067/1068 [============================>.] - ETA: 0s - loss: 0.6659 - f1: 0.7196\n",
            "Epoch 11: val_f1 did not improve from 0.66731\n",
            "1068/1068 [==============================] - 15s 14ms/step - loss: 0.6659 - f1: 0.7197 - val_loss: 0.7513 - val_f1: 0.6619\n",
            "Epoch 12/150\n",
            "1066/1068 [============================>.] - ETA: 0s - loss: 0.6602 - f1: 0.7221\n",
            "Epoch 12: val_f1 improved from 0.66731 to 0.66989, saving model to drive/MyDrive/CNN_Chagas/Physionet/cnn-1d_pesos_cnn1d.hdf5\n",
            "1068/1068 [==============================] - 16s 15ms/step - loss: 0.6602 - f1: 0.7222 - val_loss: 0.7367 - val_f1: 0.6699\n",
            "Epoch 13/150\n",
            "1065/1068 [============================>.] - ETA: 0s - loss: 0.6514 - f1: 0.7275\n",
            "Epoch 13: val_f1 did not improve from 0.66989\n",
            "1068/1068 [==============================] - 15s 14ms/step - loss: 0.6514 - f1: 0.7275 - val_loss: 0.7554 - val_f1: 0.6698\n",
            "Epoch 14/150\n",
            "1067/1068 [============================>.] - ETA: 0s - loss: 0.6459 - f1: 0.7309\n",
            "Epoch 14: val_f1 improved from 0.66989 to 0.67293, saving model to drive/MyDrive/CNN_Chagas/Physionet/cnn-1d_pesos_cnn1d.hdf5\n",
            "1068/1068 [==============================] - 15s 14ms/step - loss: 0.6459 - f1: 0.7310 - val_loss: 0.7388 - val_f1: 0.6729\n",
            "Epoch 15/150\n",
            "1067/1068 [============================>.] - ETA: 0s - loss: 0.6407 - f1: 0.7332\n",
            "Epoch 15: val_f1 improved from 0.67293 to 0.67769, saving model to drive/MyDrive/CNN_Chagas/Physionet/cnn-1d_pesos_cnn1d.hdf5\n",
            "1068/1068 [==============================] - 16s 15ms/step - loss: 0.6407 - f1: 0.7333 - val_loss: 0.7488 - val_f1: 0.6777\n",
            "Epoch 16/150\n",
            "1064/1068 [============================>.] - ETA: 0s - loss: 0.6350 - f1: 0.7366\n",
            "Epoch 16: val_f1 did not improve from 0.67769\n",
            "1068/1068 [==============================] - 15s 14ms/step - loss: 0.6350 - f1: 0.7365 - val_loss: 0.7898 - val_f1: 0.6543\n",
            "Epoch 17/150\n",
            "1068/1068 [==============================] - ETA: 0s - loss: 0.6281 - f1: 0.7382\n",
            "Epoch 17: val_f1 did not improve from 0.67769\n",
            "1068/1068 [==============================] - 15s 14ms/step - loss: 0.6281 - f1: 0.7382 - val_loss: 0.7979 - val_f1: 0.6614\n",
            "Epoch 18/150\n",
            "1068/1068 [==============================] - ETA: 0s - loss: 0.6222 - f1: 0.7425\n",
            "Epoch 18: val_f1 did not improve from 0.67769\n",
            "1068/1068 [==============================] - 15s 14ms/step - loss: 0.6222 - f1: 0.7425 - val_loss: 0.7974 - val_f1: 0.6562\n",
            "Epoch 19/150\n",
            "1065/1068 [============================>.] - ETA: 0s - loss: 0.6167 - f1: 0.7449\n",
            "Epoch 19: val_f1 did not improve from 0.67769\n",
            "1068/1068 [==============================] - 15s 14ms/step - loss: 0.6166 - f1: 0.7450 - val_loss: 0.7964 - val_f1: 0.6642\n",
            "Epoch 20/150\n",
            "1067/1068 [============================>.] - ETA: 0s - loss: 0.6119 - f1: 0.7482\n",
            "Epoch 20: val_f1 did not improve from 0.67769\n",
            "1068/1068 [==============================] - 15s 14ms/step - loss: 0.6119 - f1: 0.7482 - val_loss: 0.7703 - val_f1: 0.6676\n",
            "Epoch 21/150\n",
            "1066/1068 [============================>.] - ETA: 0s - loss: 0.6048 - f1: 0.7506\n",
            "Epoch 21: val_f1 did not improve from 0.67769\n",
            "1068/1068 [==============================] - 15s 14ms/step - loss: 0.6049 - f1: 0.7504 - val_loss: 0.7829 - val_f1: 0.6603\n",
            "Epoch 22/150\n",
            "1066/1068 [============================>.] - ETA: 0s - loss: 0.6003 - f1: 0.7529\n",
            "Epoch 22: val_f1 did not improve from 0.67769\n",
            "1068/1068 [==============================] - 15s 14ms/step - loss: 0.6004 - f1: 0.7529 - val_loss: 0.7620 - val_f1: 0.6634\n",
            "Epoch 23/150\n",
            "1066/1068 [============================>.] - ETA: 0s - loss: 0.5954 - f1: 0.7557\n",
            "Epoch 23: val_f1 did not improve from 0.67769\n",
            "1068/1068 [==============================] - 15s 14ms/step - loss: 0.5954 - f1: 0.7558 - val_loss: 0.7795 - val_f1: 0.6540\n",
            "Epoch 24/150\n",
            "1067/1068 [============================>.] - ETA: 0s - loss: 0.5916 - f1: 0.7582\n",
            "Epoch 24: val_f1 did not improve from 0.67769\n",
            "1068/1068 [==============================] - 14s 14ms/step - loss: 0.5916 - f1: 0.7583 - val_loss: 0.7890 - val_f1: 0.6591\n",
            "Epoch 25/150\n",
            "1065/1068 [============================>.] - ETA: 0s - loss: 0.5857 - f1: 0.7600\n",
            "Epoch 25: val_f1 did not improve from 0.67769\n",
            "1068/1068 [==============================] - 15s 14ms/step - loss: 0.5857 - f1: 0.7600 - val_loss: 0.8067 - val_f1: 0.6596\n",
            "Epoch 26/150\n",
            "1064/1068 [============================>.] - ETA: 0s - loss: 0.5812 - f1: 0.7613\n",
            "Epoch 26: val_f1 did not improve from 0.67769\n",
            "1068/1068 [==============================] - 15s 14ms/step - loss: 0.5810 - f1: 0.7615 - val_loss: 0.7958 - val_f1: 0.6647\n",
            "Epoch 27/150\n",
            "1064/1068 [============================>.] - ETA: 0s - loss: 0.5775 - f1: 0.7640\n",
            "Epoch 27: val_f1 did not improve from 0.67769\n",
            "1068/1068 [==============================] - 14s 14ms/step - loss: 0.5776 - f1: 0.7639 - val_loss: 0.8348 - val_f1: 0.6443\n",
            "Epoch 28/150\n",
            "1065/1068 [============================>.] - ETA: 0s - loss: 0.5730 - f1: 0.7661\n",
            "Epoch 28: val_f1 did not improve from 0.67769\n",
            "1068/1068 [==============================] - 15s 14ms/step - loss: 0.5732 - f1: 0.7659 - val_loss: 0.8227 - val_f1: 0.6487\n",
            "Epoch 29/150\n",
            "1066/1068 [============================>.] - ETA: 0s - loss: 0.5710 - f1: 0.7654\n",
            "Epoch 29: val_f1 did not improve from 0.67769\n",
            "1068/1068 [==============================] - 15s 14ms/step - loss: 0.5711 - f1: 0.7655 - val_loss: 0.8228 - val_f1: 0.6656\n",
            "Epoch 30/150\n",
            "1068/1068 [==============================] - ETA: 0s - loss: 0.5621 - f1: 0.7707\n",
            "Epoch 30: val_f1 did not improve from 0.67769\n",
            "1068/1068 [==============================] - 14s 14ms/step - loss: 0.5621 - f1: 0.7707 - val_loss: 0.7934 - val_f1: 0.6651\n",
            "Epoch 31/150\n",
            "1067/1068 [============================>.] - ETA: 0s - loss: 0.5599 - f1: 0.7724\n",
            "Epoch 31: val_f1 did not improve from 0.67769\n",
            "1068/1068 [==============================] - 15s 14ms/step - loss: 0.5599 - f1: 0.7725 - val_loss: 0.8186 - val_f1: 0.6611\n",
            "Epoch 32/150\n",
            "1065/1068 [============================>.] - ETA: 0s - loss: 0.5562 - f1: 0.7727\n",
            "Epoch 32: val_f1 did not improve from 0.67769\n",
            "1068/1068 [==============================] - 15s 14ms/step - loss: 0.5562 - f1: 0.7726 - val_loss: 0.7907 - val_f1: 0.6675\n",
            "Epoch 33/150\n",
            "1066/1068 [============================>.] - ETA: 0s - loss: 0.5542 - f1: 0.7744\n",
            "Epoch 33: val_f1 did not improve from 0.67769\n",
            "1068/1068 [==============================] - 15s 14ms/step - loss: 0.5540 - f1: 0.7746 - val_loss: 0.8462 - val_f1: 0.6585\n",
            "Epoch 34/150\n",
            "1068/1068 [==============================] - ETA: 0s - loss: 0.5499 - f1: 0.7770\n",
            "Epoch 34: val_f1 did not improve from 0.67769\n",
            "1068/1068 [==============================] - 15s 14ms/step - loss: 0.5499 - f1: 0.7770 - val_loss: 0.8461 - val_f1: 0.6580\n",
            "Epoch 35/150\n",
            "1065/1068 [============================>.] - ETA: 0s - loss: 0.5448 - f1: 0.7778\n",
            "Epoch 35: val_f1 did not improve from 0.67769\n",
            "1068/1068 [==============================] - 15s 14ms/step - loss: 0.5449 - f1: 0.7777 - val_loss: 0.8145 - val_f1: 0.6612\n",
            "Epoch 36/150\n",
            "1067/1068 [============================>.] - ETA: 0s - loss: 0.5464 - f1: 0.7783\n",
            "Epoch 36: val_f1 did not improve from 0.67769\n",
            "1068/1068 [==============================] - 15s 14ms/step - loss: 0.5464 - f1: 0.7783 - val_loss: 0.8311 - val_f1: 0.6565\n",
            "Epoch 37/150\n",
            "1065/1068 [============================>.] - ETA: 0s - loss: 0.5379 - f1: 0.7815\n",
            "Epoch 37: val_f1 did not improve from 0.67769\n",
            "1068/1068 [==============================] - 15s 14ms/step - loss: 0.5380 - f1: 0.7815 - val_loss: 0.8366 - val_f1: 0.6552\n",
            "Epoch 38/150\n",
            "1068/1068 [==============================] - ETA: 0s - loss: 0.5316 - f1: 0.7846\n",
            "Epoch 38: val_f1 did not improve from 0.67769\n",
            "1068/1068 [==============================] - 15s 14ms/step - loss: 0.5316 - f1: 0.7846 - val_loss: 0.8490 - val_f1: 0.6585\n",
            "Epoch 39/150\n",
            "1067/1068 [============================>.] - ETA: 0s - loss: 0.5297 - f1: 0.7856\n",
            "Epoch 39: val_f1 did not improve from 0.67769\n",
            "1068/1068 [==============================] - 15s 14ms/step - loss: 0.5297 - f1: 0.7857 - val_loss: 0.8557 - val_f1: 0.6582\n",
            "Epoch 40/150\n",
            "1067/1068 [============================>.] - ETA: 0s - loss: 0.5314 - f1: 0.7828\n",
            "Epoch 40: val_f1 did not improve from 0.67769\n",
            "1068/1068 [==============================] - 15s 14ms/step - loss: 0.5315 - f1: 0.7827 - val_loss: 0.9053 - val_f1: 0.6445\n",
            "Epoch 41/150\n",
            "1065/1068 [============================>.] - ETA: 0s - loss: 0.5244 - f1: 0.7879\n",
            "Epoch 41: val_f1 did not improve from 0.67769\n",
            "1068/1068 [==============================] - 15s 14ms/step - loss: 0.5246 - f1: 0.7878 - val_loss: 0.8314 - val_f1: 0.6668\n",
            "Epoch 42/150\n",
            "1067/1068 [============================>.] - ETA: 0s - loss: 0.5206 - f1: 0.7886\n",
            "Epoch 42: val_f1 did not improve from 0.67769\n",
            "1068/1068 [==============================] - 15s 14ms/step - loss: 0.5206 - f1: 0.7886 - val_loss: 0.8478 - val_f1: 0.6538\n",
            "Epoch 43/150\n",
            "1067/1068 [============================>.] - ETA: 0s - loss: 0.5174 - f1: 0.7916\n",
            "Epoch 43: val_f1 did not improve from 0.67769\n",
            "1068/1068 [==============================] - 15s 14ms/step - loss: 0.5174 - f1: 0.7916 - val_loss: 0.8777 - val_f1: 0.6556\n",
            "Epoch 44/150\n",
            "1066/1068 [============================>.] - ETA: 0s - loss: 0.5109 - f1: 0.7943\n",
            "Epoch 44: val_f1 did not improve from 0.67769\n",
            "1068/1068 [==============================] - 15s 14ms/step - loss: 0.5110 - f1: 0.7943 - val_loss: 0.8812 - val_f1: 0.6599\n",
            "Epoch 45/150\n",
            "1066/1068 [============================>.] - ETA: 0s - loss: 0.5134 - f1: 0.7933\n",
            "Epoch 45: val_f1 did not improve from 0.67769\n",
            "1068/1068 [==============================] - 15s 14ms/step - loss: 0.5135 - f1: 0.7932 - val_loss: 0.9236 - val_f1: 0.6565\n",
            "Epoch 46/150\n",
            "1067/1068 [============================>.] - ETA: 0s - loss: 0.5031 - f1: 0.7969\n",
            "Epoch 46: val_f1 did not improve from 0.67769\n",
            "1068/1068 [==============================] - 15s 14ms/step - loss: 0.5031 - f1: 0.7969 - val_loss: 0.9139 - val_f1: 0.6395\n",
            "Epoch 47/150\n",
            "1066/1068 [============================>.] - ETA: 0s - loss: 0.5073 - f1: 0.7958\n",
            "Epoch 47: val_f1 did not improve from 0.67769\n",
            "1068/1068 [==============================] - 16s 15ms/step - loss: 0.5073 - f1: 0.7958 - val_loss: 0.8661 - val_f1: 0.6623\n",
            "Epoch 48/150\n",
            "1067/1068 [============================>.] - ETA: 0s - loss: 0.5061 - f1: 0.7960\n",
            "Epoch 48: val_f1 did not improve from 0.67769\n",
            "1068/1068 [==============================] - 15s 14ms/step - loss: 0.5061 - f1: 0.7960 - val_loss: 0.8939 - val_f1: 0.6422\n",
            "Epoch 49/150\n",
            "1065/1068 [============================>.] - ETA: 0s - loss: 0.5028 - f1: 0.7971\n",
            "Epoch 49: val_f1 did not improve from 0.67769\n",
            "1068/1068 [==============================] - 15s 14ms/step - loss: 0.5029 - f1: 0.7970 - val_loss: 0.8807 - val_f1: 0.6537\n",
            "Epoch 50/150\n",
            "1068/1068 [==============================] - ETA: 0s - loss: 0.5003 - f1: 0.7996\n",
            "Epoch 50: val_f1 did not improve from 0.67769\n",
            "1068/1068 [==============================] - 15s 14ms/step - loss: 0.5003 - f1: 0.7996 - val_loss: 0.9042 - val_f1: 0.6568\n",
            "Epoch 51/150\n",
            "1065/1068 [============================>.] - ETA: 0s - loss: 0.4942 - f1: 0.8014\n",
            "Epoch 51: val_f1 did not improve from 0.67769\n",
            "1068/1068 [==============================] - 15s 14ms/step - loss: 0.4942 - f1: 0.8015 - val_loss: 0.9022 - val_f1: 0.6560\n",
            "Epoch 52/150\n",
            "1067/1068 [============================>.] - ETA: 0s - loss: 0.4927 - f1: 0.8011\n",
            "Epoch 52: val_f1 did not improve from 0.67769\n",
            "1068/1068 [==============================] - 15s 14ms/step - loss: 0.4927 - f1: 0.8010 - val_loss: 0.9351 - val_f1: 0.6367\n",
            "Epoch 53/150\n",
            "1064/1068 [============================>.] - ETA: 0s - loss: 0.4912 - f1: 0.8019\n",
            "Epoch 53: val_f1 did not improve from 0.67769\n",
            "1068/1068 [==============================] - 15s 14ms/step - loss: 0.4911 - f1: 0.8019 - val_loss: 0.9411 - val_f1: 0.6546\n",
            "Epoch 54/150\n",
            "1067/1068 [============================>.] - ETA: 0s - loss: 0.4811 - f1: 0.8072\n",
            "Epoch 54: val_f1 did not improve from 0.67769\n",
            "1068/1068 [==============================] - 15s 14ms/step - loss: 0.4811 - f1: 0.8072 - val_loss: 0.9144 - val_f1: 0.6534\n",
            "Epoch 55/150\n",
            "1067/1068 [============================>.] - ETA: 0s - loss: 0.4810 - f1: 0.8068\n",
            "Epoch 55: val_f1 did not improve from 0.67769\n",
            "1068/1068 [==============================] - 15s 14ms/step - loss: 0.4811 - f1: 0.8068 - val_loss: 0.9384 - val_f1: 0.6504\n",
            "Epoch 56/150\n",
            "1067/1068 [============================>.] - ETA: 0s - loss: 0.4811 - f1: 0.8070\n",
            "Epoch 56: val_f1 did not improve from 0.67769\n",
            "1068/1068 [==============================] - 15s 14ms/step - loss: 0.4811 - f1: 0.8071 - val_loss: 0.8761 - val_f1: 0.6649\n",
            "Epoch 57/150\n",
            "1065/1068 [============================>.] - ETA: 0s - loss: 0.4769 - f1: 0.8084\n",
            "Epoch 57: val_f1 did not improve from 0.67769\n",
            "1068/1068 [==============================] - 15s 14ms/step - loss: 0.4769 - f1: 0.8085 - val_loss: 0.9687 - val_f1: 0.6575\n",
            "Epoch 58/150\n",
            "1066/1068 [============================>.] - ETA: 0s - loss: 0.4760 - f1: 0.8094\n",
            "Epoch 58: val_f1 did not improve from 0.67769\n",
            "1068/1068 [==============================] - 15s 14ms/step - loss: 0.4759 - f1: 0.8093 - val_loss: 0.9509 - val_f1: 0.6539\n",
            "Epoch 59/150\n",
            "1064/1068 [============================>.] - ETA: 0s - loss: 0.4725 - f1: 0.8099\n",
            "Epoch 59: val_f1 did not improve from 0.67769\n",
            "1068/1068 [==============================] - 15s 14ms/step - loss: 0.4726 - f1: 0.8098 - val_loss: 0.9665 - val_f1: 0.6451\n",
            "Epoch 60/150\n",
            "1067/1068 [============================>.] - ETA: 0s - loss: 0.4740 - f1: 0.8100\n",
            "Epoch 60: val_f1 did not improve from 0.67769\n",
            "1068/1068 [==============================] - 15s 14ms/step - loss: 0.4740 - f1: 0.8100 - val_loss: 0.9914 - val_f1: 0.6388\n",
            "Epoch 61/150\n",
            "1067/1068 [============================>.] - ETA: 0s - loss: 0.4688 - f1: 0.8124\n",
            "Epoch 61: val_f1 did not improve from 0.67769\n",
            "1068/1068 [==============================] - 15s 14ms/step - loss: 0.4688 - f1: 0.8124 - val_loss: 0.9504 - val_f1: 0.6525\n",
            "Epoch 62/150\n",
            "1064/1068 [============================>.] - ETA: 0s - loss: 0.4613 - f1: 0.8166\n",
            "Epoch 62: val_f1 did not improve from 0.67769\n",
            "1068/1068 [==============================] - 15s 14ms/step - loss: 0.4615 - f1: 0.8166 - val_loss: 0.9640 - val_f1: 0.6618\n",
            "Epoch 63/150\n",
            "1064/1068 [============================>.] - ETA: 0s - loss: 0.4690 - f1: 0.8119\n",
            "Epoch 63: val_f1 did not improve from 0.67769\n",
            "1068/1068 [==============================] - 15s 14ms/step - loss: 0.4690 - f1: 0.8119 - val_loss: 0.9606 - val_f1: 0.6624\n",
            "Epoch 64/150\n",
            "1067/1068 [============================>.] - ETA: 0s - loss: 0.4664 - f1: 0.8135\n",
            "Epoch 64: val_f1 did not improve from 0.67769\n",
            "1068/1068 [==============================] - 15s 14ms/step - loss: 0.4664 - f1: 0.8135 - val_loss: 1.0024 - val_f1: 0.6402\n",
            "Epoch 65/150\n",
            "1065/1068 [============================>.] - ETA: 0s - loss: 0.4580 - f1: 0.8174\n",
            "Epoch 65: val_f1 did not improve from 0.67769\n",
            "1068/1068 [==============================] - 15s 14ms/step - loss: 0.4580 - f1: 0.8174 - val_loss: 0.9618 - val_f1: 0.6467\n",
            "Epoch 66/150\n",
            "1067/1068 [============================>.] - ETA: 0s - loss: 0.4576 - f1: 0.8172\n",
            "Epoch 66: val_f1 did not improve from 0.67769\n",
            "1068/1068 [==============================] - 15s 14ms/step - loss: 0.4575 - f1: 0.8172 - val_loss: 1.0134 - val_f1: 0.6548\n",
            "Epoch 67/150\n",
            "1067/1068 [============================>.] - ETA: 0s - loss: 0.4591 - f1: 0.8161\n",
            "Epoch 67: val_f1 did not improve from 0.67769\n",
            "1068/1068 [==============================] - 15s 14ms/step - loss: 0.4591 - f1: 0.8161 - val_loss: 0.9972 - val_f1: 0.6493\n",
            "Epoch 68/150\n",
            "1068/1068 [==============================] - ETA: 0s - loss: 0.4508 - f1: 0.8198\n",
            "Epoch 68: val_f1 did not improve from 0.67769\n",
            "1068/1068 [==============================] - 16s 15ms/step - loss: 0.4508 - f1: 0.8198 - val_loss: 1.0042 - val_f1: 0.6479\n",
            "Epoch 69/150\n",
            "1068/1068 [==============================] - ETA: 0s - loss: 0.4500 - f1: 0.8199\n",
            "Epoch 69: val_f1 did not improve from 0.67769\n",
            "1068/1068 [==============================] - 15s 14ms/step - loss: 0.4500 - f1: 0.8199 - val_loss: 0.9837 - val_f1: 0.6468\n",
            "Epoch 70/150\n",
            "1067/1068 [============================>.] - ETA: 0s - loss: 0.4512 - f1: 0.8194\n",
            "Epoch 70: val_f1 did not improve from 0.67769\n",
            "1068/1068 [==============================] - 16s 15ms/step - loss: 0.4512 - f1: 0.8195 - val_loss: 0.9846 - val_f1: 0.6573\n",
            "Epoch 71/150\n",
            "1067/1068 [============================>.] - ETA: 0s - loss: 0.4491 - f1: 0.8204\n",
            "Epoch 71: val_f1 did not improve from 0.67769\n",
            "1068/1068 [==============================] - 15s 14ms/step - loss: 0.4491 - f1: 0.8205 - val_loss: 0.9650 - val_f1: 0.6336\n",
            "Epoch 72/150\n",
            "1065/1068 [============================>.] - ETA: 0s - loss: 0.4452 - f1: 0.8221\n",
            "Epoch 72: val_f1 did not improve from 0.67769\n",
            "1068/1068 [==============================] - 15s 14ms/step - loss: 0.4452 - f1: 0.8222 - val_loss: 1.0030 - val_f1: 0.6416\n",
            "Epoch 73/150\n",
            "1066/1068 [============================>.] - ETA: 0s - loss: 0.4421 - f1: 0.8230\n",
            "Epoch 73: val_f1 did not improve from 0.67769\n",
            "1068/1068 [==============================] - 15s 14ms/step - loss: 0.4421 - f1: 0.8231 - val_loss: 0.9743 - val_f1: 0.6496\n",
            "Epoch 74/150\n",
            "1067/1068 [============================>.] - ETA: 0s - loss: 0.4425 - f1: 0.8233\n",
            "Epoch 74: val_f1 did not improve from 0.67769\n",
            "1068/1068 [==============================] - 15s 14ms/step - loss: 0.4425 - f1: 0.8233 - val_loss: 0.9922 - val_f1: 0.6541\n",
            "Epoch 75/150\n",
            "1065/1068 [============================>.] - ETA: 0s - loss: 0.4405 - f1: 0.8244\n",
            "Epoch 75: val_f1 did not improve from 0.67769\n",
            "1068/1068 [==============================] - 15s 14ms/step - loss: 0.4405 - f1: 0.8244 - val_loss: 1.0531 - val_f1: 0.6531\n",
            "Epoch 76/150\n",
            "1064/1068 [============================>.] - ETA: 0s - loss: 0.4413 - f1: 0.8245\n",
            "Epoch 76: val_f1 did not improve from 0.67769\n",
            "1068/1068 [==============================] - 15s 14ms/step - loss: 0.4413 - f1: 0.8244 - val_loss: 1.0354 - val_f1: 0.6475\n",
            "Epoch 77/150\n",
            "1067/1068 [============================>.] - ETA: 0s - loss: 0.4370 - f1: 0.8264\n",
            "Epoch 77: val_f1 did not improve from 0.67769\n",
            "1068/1068 [==============================] - 15s 14ms/step - loss: 0.4370 - f1: 0.8264 - val_loss: 0.9929 - val_f1: 0.6381\n",
            "Epoch 78/150\n",
            "1066/1068 [============================>.] - ETA: 0s - loss: 0.4383 - f1: 0.8254\n",
            "Epoch 78: val_f1 did not improve from 0.67769\n",
            "1068/1068 [==============================] - 15s 14ms/step - loss: 0.4382 - f1: 0.8255 - val_loss: 1.1006 - val_f1: 0.6415\n",
            "Epoch 79/150\n",
            "1067/1068 [============================>.] - ETA: 0s - loss: 0.4310 - f1: 0.8292\n",
            "Epoch 79: val_f1 did not improve from 0.67769\n",
            "1068/1068 [==============================] - 15s 14ms/step - loss: 0.4310 - f1: 0.8291 - val_loss: 0.9912 - val_f1: 0.6556\n",
            "Epoch 80/150\n",
            "1065/1068 [============================>.] - ETA: 0s - loss: 0.4273 - f1: 0.8298\n",
            "Epoch 80: val_f1 did not improve from 0.67769\n",
            "1068/1068 [==============================] - 15s 14ms/step - loss: 0.4273 - f1: 0.8297 - val_loss: 1.1123 - val_f1: 0.6262\n",
            "Epoch 81/150\n",
            "1065/1068 [============================>.] - ETA: 0s - loss: 0.4307 - f1: 0.8286\n",
            "Epoch 81: val_f1 did not improve from 0.67769\n",
            "1068/1068 [==============================] - 15s 14ms/step - loss: 0.4307 - f1: 0.8285 - val_loss: 1.0281 - val_f1: 0.6246\n",
            "Epoch 82/150\n",
            "1067/1068 [============================>.] - ETA: 0s - loss: 0.4248 - f1: 0.8321\n",
            "Epoch 82: val_f1 did not improve from 0.67769\n",
            "1068/1068 [==============================] - 16s 15ms/step - loss: 0.4248 - f1: 0.8321 - val_loss: 1.0252 - val_f1: 0.6430\n",
            "Epoch 83/150\n",
            "1067/1068 [============================>.] - ETA: 0s - loss: 0.4214 - f1: 0.8326\n",
            "Epoch 83: val_f1 did not improve from 0.67769\n",
            "1068/1068 [==============================] - 16s 15ms/step - loss: 0.4214 - f1: 0.8326 - val_loss: 1.1510 - val_f1: 0.6491\n",
            "Epoch 84/150\n",
            "1066/1068 [============================>.] - ETA: 0s - loss: 0.4187 - f1: 0.8341\n",
            "Epoch 84: val_f1 did not improve from 0.67769\n",
            "1068/1068 [==============================] - 15s 14ms/step - loss: 0.4187 - f1: 0.8341 - val_loss: 1.0116 - val_f1: 0.6514\n",
            "Epoch 85/150\n",
            "1067/1068 [============================>.] - ETA: 0s - loss: 0.4189 - f1: 0.8344\n",
            "Epoch 85: val_f1 did not improve from 0.67769\n",
            "1068/1068 [==============================] - 15s 14ms/step - loss: 0.4188 - f1: 0.8345 - val_loss: 1.0776 - val_f1: 0.6458\n",
            "Epoch 86/150\n",
            "1067/1068 [============================>.] - ETA: 0s - loss: 0.4202 - f1: 0.8330\n",
            "Epoch 86: val_f1 did not improve from 0.67769\n",
            "1068/1068 [==============================] - 15s 14ms/step - loss: 0.4203 - f1: 0.8329 - val_loss: 1.0798 - val_f1: 0.6547\n",
            "Epoch 87/150\n",
            "1066/1068 [============================>.] - ETA: 0s - loss: 0.4196 - f1: 0.8335\n",
            "Epoch 87: val_f1 did not improve from 0.67769\n",
            "1068/1068 [==============================] - 15s 14ms/step - loss: 0.4196 - f1: 0.8335 - val_loss: 1.0359 - val_f1: 0.6445\n",
            "Epoch 88/150\n",
            "1067/1068 [============================>.] - ETA: 0s - loss: 0.4115 - f1: 0.8373\n",
            "Epoch 88: val_f1 did not improve from 0.67769\n",
            "1068/1068 [==============================] - 15s 14ms/step - loss: 0.4116 - f1: 0.8372 - val_loss: 1.1106 - val_f1: 0.6424\n",
            "Epoch 89/150\n",
            "1068/1068 [==============================] - ETA: 0s - loss: 0.4155 - f1: 0.8354\n",
            "Epoch 89: val_f1 did not improve from 0.67769\n",
            "1068/1068 [==============================] - 15s 14ms/step - loss: 0.4155 - f1: 0.8354 - val_loss: 1.0702 - val_f1: 0.6464\n",
            "Epoch 90/150\n",
            "1067/1068 [============================>.] - ETA: 0s - loss: 0.4059 - f1: 0.8397\n",
            "Epoch 90: val_f1 did not improve from 0.67769\n",
            "1068/1068 [==============================] - 15s 14ms/step - loss: 0.4060 - f1: 0.8396 - val_loss: 1.0653 - val_f1: 0.6558\n",
            "Epoch 91/150\n",
            "1066/1068 [============================>.] - ETA: 0s - loss: 0.4039 - f1: 0.8406\n",
            "Epoch 91: val_f1 did not improve from 0.67769\n",
            "1068/1068 [==============================] - 15s 14ms/step - loss: 0.4039 - f1: 0.8406 - val_loss: 1.1790 - val_f1: 0.6285\n",
            "Epoch 92/150\n",
            "1064/1068 [============================>.] - ETA: 0s - loss: 0.4043 - f1: 0.8406\n",
            "Epoch 92: val_f1 did not improve from 0.67769\n",
            "1068/1068 [==============================] - 15s 14ms/step - loss: 0.4043 - f1: 0.8405 - val_loss: 1.1612 - val_f1: 0.6361\n",
            "Epoch 93/150\n",
            "1066/1068 [============================>.] - ETA: 0s - loss: 0.4032 - f1: 0.8405\n",
            "Epoch 93: val_f1 did not improve from 0.67769\n",
            "1068/1068 [==============================] - 15s 14ms/step - loss: 0.4031 - f1: 0.8405 - val_loss: 1.2239 - val_f1: 0.6356\n",
            "Epoch 94/150\n",
            "1064/1068 [============================>.] - ETA: 0s - loss: 0.3970 - f1: 0.8435\n",
            "Epoch 94: val_f1 did not improve from 0.67769\n",
            "1068/1068 [==============================] - 15s 14ms/step - loss: 0.3971 - f1: 0.8435 - val_loss: 1.1202 - val_f1: 0.6306\n",
            "Epoch 95/150\n",
            "1066/1068 [============================>.] - ETA: 0s - loss: 0.4022 - f1: 0.8417\n",
            "Epoch 95: val_f1 did not improve from 0.67769\n",
            "1068/1068 [==============================] - 15s 14ms/step - loss: 0.4022 - f1: 0.8417 - val_loss: 1.0311 - val_f1: 0.6477\n",
            "Epoch 96/150\n",
            "1065/1068 [============================>.] - ETA: 0s - loss: 0.4012 - f1: 0.8432\n",
            "Epoch 96: val_f1 did not improve from 0.67769\n",
            "1068/1068 [==============================] - 15s 14ms/step - loss: 0.4013 - f1: 0.8431 - val_loss: 1.1882 - val_f1: 0.6341\n",
            "Epoch 97/150\n",
            "1068/1068 [==============================] - ETA: 0s - loss: 0.3969 - f1: 0.8441\n",
            "Epoch 97: val_f1 did not improve from 0.67769\n",
            "1068/1068 [==============================] - 16s 15ms/step - loss: 0.3969 - f1: 0.8441 - val_loss: 1.1182 - val_f1: 0.6503\n",
            "Epoch 98/150\n",
            "1068/1068 [==============================] - ETA: 0s - loss: 0.3951 - f1: 0.8443\n",
            "Epoch 98: val_f1 did not improve from 0.67769\n",
            "1068/1068 [==============================] - 16s 15ms/step - loss: 0.3951 - f1: 0.8443 - val_loss: 1.0918 - val_f1: 0.6404\n",
            "Epoch 99/150\n",
            "1067/1068 [============================>.] - ETA: 0s - loss: 0.3967 - f1: 0.8440\n",
            "Epoch 99: val_f1 did not improve from 0.67769\n",
            "1068/1068 [==============================] - 15s 14ms/step - loss: 0.3966 - f1: 0.8441 - val_loss: 1.0783 - val_f1: 0.6526\n",
            "Epoch 100/150\n",
            "1064/1068 [============================>.] - ETA: 0s - loss: 0.3919 - f1: 0.8456\n",
            "Epoch 100: val_f1 did not improve from 0.67769\n",
            "1068/1068 [==============================] - 15s 14ms/step - loss: 0.3920 - f1: 0.8455 - val_loss: 1.1533 - val_f1: 0.6296\n",
            "Epoch 101/150\n",
            "1065/1068 [============================>.] - ETA: 0s - loss: 0.3935 - f1: 0.8453\n",
            "Epoch 101: val_f1 did not improve from 0.67769\n",
            "1068/1068 [==============================] - 15s 14ms/step - loss: 0.3934 - f1: 0.8453 - val_loss: 1.1428 - val_f1: 0.6401\n",
            "Epoch 102/150\n",
            "1065/1068 [============================>.] - ETA: 0s - loss: 0.3913 - f1: 0.8463\n",
            "Epoch 102: val_f1 did not improve from 0.67769\n",
            "1068/1068 [==============================] - 15s 14ms/step - loss: 0.3912 - f1: 0.8464 - val_loss: 1.1778 - val_f1: 0.6374\n",
            "Epoch 103/150\n",
            "1066/1068 [============================>.] - ETA: 0s - loss: 0.3847 - f1: 0.8493\n",
            "Epoch 103: val_f1 did not improve from 0.67769\n",
            "1068/1068 [==============================] - 15s 14ms/step - loss: 0.3847 - f1: 0.8494 - val_loss: 1.2811 - val_f1: 0.6208\n",
            "Epoch 104/150\n",
            "1066/1068 [============================>.] - ETA: 0s - loss: 0.3858 - f1: 0.8487\n",
            "Epoch 104: val_f1 did not improve from 0.67769\n",
            "1068/1068 [==============================] - 15s 14ms/step - loss: 0.3858 - f1: 0.8487 - val_loss: 1.0734 - val_f1: 0.6429\n",
            "Epoch 105/150\n",
            "1066/1068 [============================>.] - ETA: 0s - loss: 0.3853 - f1: 0.8492\n",
            "Epoch 105: val_f1 did not improve from 0.67769\n",
            "1068/1068 [==============================] - 15s 14ms/step - loss: 0.3854 - f1: 0.8491 - val_loss: 1.1321 - val_f1: 0.6420\n",
            "Epoch 106/150\n",
            "1065/1068 [============================>.] - ETA: 0s - loss: 0.3853 - f1: 0.8500\n",
            "Epoch 106: val_f1 did not improve from 0.67769\n",
            "1068/1068 [==============================] - 15s 14ms/step - loss: 0.3854 - f1: 0.8499 - val_loss: 1.0531 - val_f1: 0.6320\n",
            "Epoch 107/150\n",
            "1068/1068 [==============================] - ETA: 0s - loss: 0.3815 - f1: 0.8504\n",
            "Epoch 107: val_f1 did not improve from 0.67769\n",
            "1068/1068 [==============================] - 15s 14ms/step - loss: 0.3815 - f1: 0.8504 - val_loss: 1.1558 - val_f1: 0.6349\n",
            "Epoch 108/150\n",
            "1065/1068 [============================>.] - ETA: 0s - loss: 0.3770 - f1: 0.8530\n",
            "Epoch 108: val_f1 did not improve from 0.67769\n",
            "1068/1068 [==============================] - 15s 14ms/step - loss: 0.3771 - f1: 0.8529 - val_loss: 1.1136 - val_f1: 0.6434\n",
            "Epoch 109/150\n",
            "1064/1068 [============================>.] - ETA: 0s - loss: 0.3758 - f1: 0.8530\n",
            "Epoch 109: val_f1 did not improve from 0.67769\n",
            "1068/1068 [==============================] - 15s 14ms/step - loss: 0.3758 - f1: 0.8530 - val_loss: 1.2417 - val_f1: 0.6270\n",
            "Epoch 110/150\n",
            "1066/1068 [============================>.] - ETA: 0s - loss: 0.3792 - f1: 0.8516\n",
            "Epoch 110: val_f1 did not improve from 0.67769\n",
            "1068/1068 [==============================] - 16s 15ms/step - loss: 0.3793 - f1: 0.8516 - val_loss: 1.1909 - val_f1: 0.6347\n",
            "Epoch 111/150\n",
            "1068/1068 [==============================] - ETA: 0s - loss: 0.3757 - f1: 0.8531\n",
            "Epoch 111: val_f1 did not improve from 0.67769\n",
            "1068/1068 [==============================] - 15s 14ms/step - loss: 0.3757 - f1: 0.8531 - val_loss: 1.2143 - val_f1: 0.6316\n",
            "Epoch 112/150\n",
            "1066/1068 [============================>.] - ETA: 0s - loss: 0.3827 - f1: 0.8498\n",
            "Epoch 112: val_f1 did not improve from 0.67769\n",
            "1068/1068 [==============================] - 16s 15ms/step - loss: 0.3827 - f1: 0.8499 - val_loss: 1.0429 - val_f1: 0.6380\n",
            "Epoch 113/150\n",
            "1065/1068 [============================>.] - ETA: 0s - loss: 0.3699 - f1: 0.8553\n",
            "Epoch 113: val_f1 did not improve from 0.67769\n",
            "1068/1068 [==============================] - 15s 14ms/step - loss: 0.3699 - f1: 0.8553 - val_loss: 1.2700 - val_f1: 0.6404\n",
            "Epoch 114/150\n",
            "1066/1068 [============================>.] - ETA: 0s - loss: 0.3729 - f1: 0.8540\n",
            "Epoch 114: val_f1 did not improve from 0.67769\n",
            "1068/1068 [==============================] - 15s 14ms/step - loss: 0.3729 - f1: 0.8539 - val_loss: 1.2246 - val_f1: 0.6346\n",
            "Epoch 115/150\n",
            "1065/1068 [============================>.] - ETA: 0s - loss: 0.3655 - f1: 0.8579\n",
            "Epoch 115: val_f1 did not improve from 0.67769\n",
            "1068/1068 [==============================] - 15s 14ms/step - loss: 0.3658 - f1: 0.8577 - val_loss: 1.1654 - val_f1: 0.6397\n",
            "Epoch 116/150\n",
            "1067/1068 [============================>.] - ETA: 0s - loss: 0.3549 - f1: 0.8613\n",
            "Epoch 116: val_f1 did not improve from 0.67769\n",
            "1068/1068 [==============================] - 15s 14ms/step - loss: 0.3549 - f1: 0.8613 - val_loss: 1.1793 - val_f1: 0.6322\n",
            "Epoch 117/150\n",
            "1066/1068 [============================>.] - ETA: 0s - loss: 0.3649 - f1: 0.8578\n",
            "Epoch 117: val_f1 did not improve from 0.67769\n",
            "1068/1068 [==============================] - 15s 14ms/step - loss: 0.3648 - f1: 0.8578 - val_loss: 1.1357 - val_f1: 0.6483\n",
            "Epoch 118/150\n",
            "1068/1068 [==============================] - ETA: 0s - loss: 0.3638 - f1: 0.8582\n",
            "Epoch 118: val_f1 did not improve from 0.67769\n",
            "1068/1068 [==============================] - 15s 14ms/step - loss: 0.3638 - f1: 0.8582 - val_loss: 1.3133 - val_f1: 0.6331\n",
            "Epoch 119/150\n",
            "1065/1068 [============================>.] - ETA: 0s - loss: 0.3588 - f1: 0.8601\n",
            "Epoch 119: val_f1 did not improve from 0.67769\n",
            "1068/1068 [==============================] - 15s 14ms/step - loss: 0.3588 - f1: 0.8601 - val_loss: 1.2715 - val_f1: 0.6454\n",
            "Epoch 120/150\n",
            "1065/1068 [============================>.] - ETA: 0s - loss: 0.3610 - f1: 0.8599\n",
            "Epoch 120: val_f1 did not improve from 0.67769\n",
            "1068/1068 [==============================] - 15s 14ms/step - loss: 0.3610 - f1: 0.8599 - val_loss: 1.3026 - val_f1: 0.6443\n",
            "Epoch 121/150\n",
            "1068/1068 [==============================] - ETA: 0s - loss: 0.3614 - f1: 0.8594\n",
            "Epoch 121: val_f1 did not improve from 0.67769\n",
            "1068/1068 [==============================] - 15s 14ms/step - loss: 0.3614 - f1: 0.8594 - val_loss: 1.2727 - val_f1: 0.6424\n",
            "Epoch 122/150\n",
            "1064/1068 [============================>.] - ETA: 0s - loss: 0.3583 - f1: 0.8605\n",
            "Epoch 122: val_f1 did not improve from 0.67769\n",
            "1068/1068 [==============================] - 15s 14ms/step - loss: 0.3583 - f1: 0.8604 - val_loss: 1.2400 - val_f1: 0.6341\n",
            "Epoch 123/150\n",
            "1068/1068 [==============================] - ETA: 0s - loss: 0.3502 - f1: 0.8638\n",
            "Epoch 123: val_f1 did not improve from 0.67769\n",
            "1068/1068 [==============================] - 15s 14ms/step - loss: 0.3502 - f1: 0.8638 - val_loss: 1.2431 - val_f1: 0.6284\n",
            "Epoch 124/150\n",
            "1065/1068 [============================>.] - ETA: 0s - loss: 0.3588 - f1: 0.8606\n",
            "Epoch 124: val_f1 did not improve from 0.67769\n",
            "1068/1068 [==============================] - 15s 14ms/step - loss: 0.3588 - f1: 0.8607 - val_loss: 1.2298 - val_f1: 0.6461\n",
            "Epoch 125/150\n",
            "1066/1068 [============================>.] - ETA: 0s - loss: 0.3529 - f1: 0.8625\n",
            "Epoch 125: val_f1 did not improve from 0.67769\n",
            "1068/1068 [==============================] - 16s 15ms/step - loss: 0.3529 - f1: 0.8626 - val_loss: 1.1637 - val_f1: 0.6400\n",
            "Epoch 126/150\n",
            "1066/1068 [============================>.] - ETA: 0s - loss: 0.3562 - f1: 0.8615\n",
            "Epoch 126: val_f1 did not improve from 0.67769\n",
            "1068/1068 [==============================] - 16s 15ms/step - loss: 0.3563 - f1: 0.8615 - val_loss: 1.1666 - val_f1: 0.6426\n",
            "Epoch 127/150\n",
            "1066/1068 [============================>.] - ETA: 0s - loss: 0.3520 - f1: 0.8638\n",
            "Epoch 127: val_f1 did not improve from 0.67769\n",
            "1068/1068 [==============================] - 16s 15ms/step - loss: 0.3520 - f1: 0.8639 - val_loss: 1.3334 - val_f1: 0.6226\n",
            "Epoch 128/150\n",
            "1068/1068 [==============================] - ETA: 0s - loss: 0.3559 - f1: 0.8610\n",
            "Epoch 128: val_f1 did not improve from 0.67769\n",
            "1068/1068 [==============================] - 15s 14ms/step - loss: 0.3559 - f1: 0.8610 - val_loss: 1.2766 - val_f1: 0.6161\n",
            "Epoch 129/150\n",
            "1064/1068 [============================>.] - ETA: 0s - loss: 0.3529 - f1: 0.8628\n",
            "Epoch 129: val_f1 did not improve from 0.67769\n",
            "1068/1068 [==============================] - 15s 14ms/step - loss: 0.3530 - f1: 0.8628 - val_loss: 1.3190 - val_f1: 0.6295\n",
            "Epoch 130/150\n",
            "1066/1068 [============================>.] - ETA: 0s - loss: 0.3505 - f1: 0.8642\n",
            "Epoch 130: val_f1 did not improve from 0.67769\n",
            "1068/1068 [==============================] - 15s 14ms/step - loss: 0.3505 - f1: 0.8642 - val_loss: 1.2554 - val_f1: 0.6310\n",
            "Epoch 131/150\n",
            "1066/1068 [============================>.] - ETA: 0s - loss: 0.3453 - f1: 0.8657\n",
            "Epoch 131: val_f1 did not improve from 0.67769\n",
            "1068/1068 [==============================] - 15s 14ms/step - loss: 0.3452 - f1: 0.8658 - val_loss: 1.2577 - val_f1: 0.6462\n",
            "Epoch 132/150\n",
            "1067/1068 [============================>.] - ETA: 0s - loss: 0.3502 - f1: 0.8646\n",
            "Epoch 132: val_f1 did not improve from 0.67769\n",
            "1068/1068 [==============================] - 15s 14ms/step - loss: 0.3502 - f1: 0.8646 - val_loss: 1.2856 - val_f1: 0.6331\n",
            "Epoch 133/150\n",
            "1066/1068 [============================>.] - ETA: 0s - loss: 0.3484 - f1: 0.8645\n",
            "Epoch 133: val_f1 did not improve from 0.67769\n",
            "1068/1068 [==============================] - 15s 14ms/step - loss: 0.3483 - f1: 0.8646 - val_loss: 1.3609 - val_f1: 0.6286\n",
            "Epoch 134/150\n",
            "1065/1068 [============================>.] - ETA: 0s - loss: 0.3448 - f1: 0.8663\n",
            "Epoch 134: val_f1 did not improve from 0.67769\n",
            "1068/1068 [==============================] - 15s 14ms/step - loss: 0.3448 - f1: 0.8664 - val_loss: 1.2197 - val_f1: 0.6411\n",
            "Epoch 135/150\n",
            "1064/1068 [============================>.] - ETA: 0s - loss: 0.3433 - f1: 0.8671\n",
            "Epoch 135: val_f1 did not improve from 0.67769\n",
            "1068/1068 [==============================] - 15s 15ms/step - loss: 0.3432 - f1: 0.8672 - val_loss: 1.4109 - val_f1: 0.6248\n",
            "Epoch 136/150\n",
            "1067/1068 [============================>.] - ETA: 0s - loss: 0.3444 - f1: 0.8661\n",
            "Epoch 136: val_f1 did not improve from 0.67769\n",
            "1068/1068 [==============================] - 15s 14ms/step - loss: 0.3445 - f1: 0.8661 - val_loss: 1.3020 - val_f1: 0.6343\n",
            "Epoch 137/150\n",
            "1066/1068 [============================>.] - ETA: 0s - loss: 0.3403 - f1: 0.8683\n",
            "Epoch 137: val_f1 did not improve from 0.67769\n",
            "1068/1068 [==============================] - 15s 14ms/step - loss: 0.3403 - f1: 0.8682 - val_loss: 1.1502 - val_f1: 0.6262\n",
            "Epoch 138/150\n",
            "1065/1068 [============================>.] - ETA: 0s - loss: 0.3424 - f1: 0.8675\n",
            "Epoch 138: val_f1 did not improve from 0.67769\n",
            "1068/1068 [==============================] - 15s 14ms/step - loss: 0.3423 - f1: 0.8675 - val_loss: 1.2668 - val_f1: 0.6398\n",
            "Epoch 139/150\n",
            "1067/1068 [============================>.] - ETA: 0s - loss: 0.3396 - f1: 0.8688\n",
            "Epoch 139: val_f1 did not improve from 0.67769\n",
            "1068/1068 [==============================] - 16s 15ms/step - loss: 0.3396 - f1: 0.8687 - val_loss: 1.3035 - val_f1: 0.6362\n",
            "Epoch 140/150\n",
            "1067/1068 [============================>.] - ETA: 0s - loss: 0.3453 - f1: 0.8657\n",
            "Epoch 140: val_f1 did not improve from 0.67769\n",
            "1068/1068 [==============================] - 16s 15ms/step - loss: 0.3453 - f1: 0.8657 - val_loss: 1.4980 - val_f1: 0.6227\n",
            "Epoch 141/150\n",
            "1068/1068 [==============================] - ETA: 0s - loss: 0.3354 - f1: 0.8707\n",
            "Epoch 141: val_f1 did not improve from 0.67769\n",
            "1068/1068 [==============================] - 16s 15ms/step - loss: 0.3354 - f1: 0.8707 - val_loss: 1.2923 - val_f1: 0.6389\n",
            "Epoch 142/150\n",
            "1067/1068 [============================>.] - ETA: 0s - loss: 0.3365 - f1: 0.8698\n",
            "Epoch 142: val_f1 did not improve from 0.67769\n",
            "1068/1068 [==============================] - 16s 15ms/step - loss: 0.3366 - f1: 0.8697 - val_loss: 1.5267 - val_f1: 0.6410\n",
            "Epoch 143/150\n",
            "1065/1068 [============================>.] - ETA: 0s - loss: 0.3317 - f1: 0.8717\n",
            "Epoch 143: val_f1 did not improve from 0.67769\n",
            "1068/1068 [==============================] - 16s 15ms/step - loss: 0.3317 - f1: 0.8716 - val_loss: 1.3035 - val_f1: 0.6451\n",
            "Epoch 144/150\n",
            "1066/1068 [============================>.] - ETA: 0s - loss: 0.3307 - f1: 0.8724\n",
            "Epoch 144: val_f1 did not improve from 0.67769\n",
            "1068/1068 [==============================] - 16s 15ms/step - loss: 0.3309 - f1: 0.8724 - val_loss: 1.4012 - val_f1: 0.6317\n",
            "Epoch 145/150\n",
            "1066/1068 [============================>.] - ETA: 0s - loss: 0.3334 - f1: 0.8710\n",
            "Epoch 145: val_f1 did not improve from 0.67769\n",
            "1068/1068 [==============================] - 16s 15ms/step - loss: 0.3334 - f1: 0.8711 - val_loss: 1.2573 - val_f1: 0.6459\n",
            "Epoch 146/150\n",
            "1066/1068 [============================>.] - ETA: 0s - loss: 0.3309 - f1: 0.8725\n",
            "Epoch 146: val_f1 did not improve from 0.67769\n",
            "1068/1068 [==============================] - 16s 15ms/step - loss: 0.3309 - f1: 0.8725 - val_loss: 1.3711 - val_f1: 0.6507\n",
            "Epoch 147/150\n",
            "1066/1068 [============================>.] - ETA: 0s - loss: 0.3311 - f1: 0.8724\n",
            "Epoch 147: val_f1 did not improve from 0.67769\n",
            "1068/1068 [==============================] - 16s 15ms/step - loss: 0.3311 - f1: 0.8724 - val_loss: 1.4159 - val_f1: 0.6346\n",
            "Epoch 148/150\n",
            "1067/1068 [============================>.] - ETA: 0s - loss: 0.3332 - f1: 0.8721\n",
            "Epoch 148: val_f1 did not improve from 0.67769\n",
            "1068/1068 [==============================] - 16s 15ms/step - loss: 0.3332 - f1: 0.8721 - val_loss: 1.2320 - val_f1: 0.6306\n",
            "Epoch 149/150\n",
            "1068/1068 [==============================] - ETA: 0s - loss: 0.3304 - f1: 0.8721\n",
            "Epoch 149: val_f1 did not improve from 0.67769\n",
            "1068/1068 [==============================] - 16s 15ms/step - loss: 0.3304 - f1: 0.8721 - val_loss: 1.4175 - val_f1: 0.6186\n",
            "Epoch 150/150\n",
            "1068/1068 [==============================] - ETA: 0s - loss: 0.3292 - f1: 0.8726\n",
            "Epoch 150: val_f1 did not improve from 0.67769\n",
            "1068/1068 [==============================] - 17s 16ms/step - loss: 0.3292 - f1: 0.8726 - val_loss: 1.3460 - val_f1: 0.6258\n"
          ]
        }
      ],
      "source": [
        "input_shape = len(x_train[0])\n",
        "k1 = 5\n",
        "k2 = 3\n",
        "n = math.floor(input_shape/(k1+k2-2))\n",
        "nn_input = input_shape % (k1+k2-2)\n",
        "\n",
        "classificador = Sequential()\n",
        "\n",
        "for i  in range(0, 5):\n",
        "  if i == 0:\n",
        "    classificador.add(Conv1D(filters=32, kernel_size = k1, input_shape = (input_shape, 1), activation = \"relu\"))\n",
        "  else:\n",
        "      classificador.add(Conv1D(filters=32, kernel_size = k1, activation = \"relu\"))\n",
        "  # BatchNormalization()\n",
        "  \n",
        "  classificador.add(Conv1D(filters=64, kernel_size = k2, activation = \"relu\"))\n",
        "  # BatchNormalization()\n",
        "  # classificador.add(Conv1D(filters=32, kernel_size = k2, activation = \"relu\"))\n",
        "  classificador.add(MaxPooling1D(pool_size=2))\n",
        "\n",
        "classificador.add(Flatten())\n",
        "\n",
        "classificador.add(Dense(units=64, activation='relu'))\n",
        "classificador.add(Dense(units=32, activation='relu'))\n",
        "classificador.add(Dense(units=16, activation='relu'))\n",
        "\n",
        "classificador.add(Dense(4, activation=\"softmax\"))\n",
        "\n",
        "classificador.compile(loss='categorical_crossentropy', optimizer=Adamax(learning_rate=0.01), metrics=[f1])\n",
        "\n",
        "es = EarlyStopping(monitor=\"f1\", mode='max', verbose=0, patience=15)\n",
        "\n",
        "checkpoint = ModelCheckpoint(path_check + '_pesos_cnn1d.hdf5', monitor=\"val_f1\", verbose=1, \n",
        "                                  save_best_only=True, mode='max') \n",
        "\n",
        "history = classificador.fit(x_train, y_train, validation_data=(x_valid, y_valid), epochs=150,\n",
        "                            batch_size=128, callbacks=[es, checkpoint], verbose=1)\n",
        "\n"
      ]
    },
    {
      "cell_type": "code",
      "execution_count": null,
      "metadata": {
        "id": "DEXhkG1AAMMF",
        "outputId": "0823487b-4a31-491a-bffc-92d77e26d36f",
        "colab": {
          "base_uri": "https://localhost:8080/",
          "height": 374
        }
      },
      "outputs": [
        {
          "output_type": "display_data",
          "data": {
            "text/plain": [
              "<Figure size 1440x360 with 1 Axes>"
            ],
            "image/png": "[encoded data removed]"
          },
          "metadata": {
            "needs_background": "light"
          }
        }
      ],
      "source": [
        "plt.plot(history.history['accuracy'])\n",
        "plt.plot(history.history['val_accuracy'])\n",
        "plt.title('model accuracy')\n",
        "plt.ylabel('accuracy')\n",
        "plt.xlabel('epoch')\n",
        "plt.legend(['train', 'valid'], loc='upper left')\n",
        "plt.savefig(\"history.png\")\n",
        "plt.show()"
      ]
    },
    {
      "cell_type": "code",
      "source": [
        "str(type(classificador.layers[0])) == \"<class 'keras.layers.convolutional.conv1d.Conv1D'>\""
      ],
      "metadata": {
        "colab": {
          "base_uri": "https://localhost:8080/"
        },
        "id": "UhElHVjloFes",
        "outputId": "6bc0b464-fbcb-4c91-b09e-c6f2792d5d89"
      },
      "execution_count": null,
      "outputs": [
        {
          "output_type": "execute_result",
          "data": {
            "text/plain": [
              "True"
            ]
          },
          "metadata": {},
          "execution_count": 163
        }
      ]
    },
    {
      "cell_type": "code",
      "source": [
        "model_weights =[]\n",
        "for i in classificador.layers:\n",
        "  layer = \"<class 'keras.layers.convolutional.conv1d.Conv1D'>\"\n",
        "  if str(type(i)) == layer:\n",
        "    model_weights.append(i.get_weights())"
      ],
      "metadata": {
        "id": "gq2Umwlfq6oB"
      },
      "execution_count": null,
      "outputs": []
    },
    {
      "cell_type": "code",
      "source": [
        "input_shape = len(x_train[0])\n",
        "k1 = 5\n",
        "k2 = 3\n",
        "n = math.floor(input_shape/(k1+k2-2))\n",
        "nn_input = input_shape % (k1+k2-2)\n",
        "\n",
        "model = Sequential()\n",
        "\n",
        "for i  in range(0, 5):\n",
        "  if i == 0:\n",
        "    model.add(Conv1D(filters=32, kernel_size = k1, input_shape = (input_shape, 1), activation = \"relu\"))\n",
        "  else:\n",
        "    model.add(Conv1D(filters=32, kernel_size = k1, activation = \"relu\"))\n",
        "  \n",
        "  model.add(Conv1D(filters=64, kernel_size = k2, activation = \"relu\"))\n",
        "  model.add(MaxPooling1D(pool_size=2))\n",
        "\n",
        "model.add(Flatten())"
      ],
      "metadata": {
        "id": "VgC-ZI9xSLFK"
      },
      "execution_count": null,
      "outputs": []
    },
    {
      "cell_type": "code",
      "source": [
        "count = 0\n",
        "for i in model.layers:\n",
        "  layer = \"<class 'keras.layers.convolutional.conv1d.Conv1D'>\"\n",
        "  if str(type(i)) == layer:\n",
        "    i.set_weights(model_weights[count])\n",
        "    count += 1"
      ],
      "metadata": {
        "id": "USm8R1ioT5V-"
      },
      "execution_count": null,
      "outputs": []
    },
    {
      "cell_type": "code",
      "source": [
        "model.layers[0].get_weights()"
      ],
      "metadata": {
        "colab": {
          "base_uri": "https://localhost:8080/"
        },
        "id": "vTvrD6c3U9Kr",
        "outputId": "78e37407-b51a-4d35-b8c9-a04c88fba032"
      },
      "execution_count": null,
      "outputs": [
        {
          "output_type": "execute_result",
          "data": {
            "text/plain": [
              "[array([[[-1.22025991e-02, -4.33932729e-02,  2.83308867e-02,\n",
              "          -1.21527247e-01, -3.57059278e-02, -6.46319613e-02,\n",
              "          -3.26729603e-02,  4.79322001e-02,  1.01570994e-01,\n",
              "          -5.16819395e-03, -1.17172323e-01,  2.40081325e-02,\n",
              "          -5.11528403e-02,  3.16567980e-02, -5.09066619e-02,\n",
              "           2.38624252e-02, -2.21694913e-02, -1.38950171e-02,\n",
              "          -1.43207726e-03,  3.64796631e-02, -5.75260632e-02,\n",
              "           1.95063762e-02, -6.38144687e-02,  3.94593924e-02,\n",
              "           5.21996170e-02, -5.41540124e-02, -7.55723342e-02,\n",
              "          -4.27225456e-02,  4.41323081e-03, -1.48564903e-03,\n",
              "          -5.92371710e-02,  3.44173610e-02]],\n",
              " \n",
              "        [[ 5.05209640e-02,  8.53732154e-02, -1.45048931e-01,\n",
              "          -1.49050742e-01,  9.72217619e-02,  3.87700163e-02,\n",
              "           5.16169593e-02, -7.15382844e-02, -2.33261257e-01,\n",
              "           9.07782093e-02,  1.80809408e-01, -6.45604059e-02,\n",
              "           1.35399401e-02, -1.73567712e-01,  5.10620535e-04,\n",
              "           1.39030591e-01,  1.35779962e-01,  1.57092959e-02,\n",
              "           1.43311322e-02, -7.10278526e-02,  4.44421247e-02,\n",
              "          -6.51447251e-02,  1.18480526e-01, -3.51875797e-02,\n",
              "          -3.54536586e-02,  9.76350680e-02,  9.92323086e-02,\n",
              "           1.06720641e-01, -8.62701982e-02,  2.21693981e-02,\n",
              "           5.11839390e-02, -9.52970460e-02]],\n",
              " \n",
              "        [[ 1.71665065e-02, -3.49446619e-03,  6.69672042e-02,\n",
              "          -6.28751516e-02,  3.15799899e-02,  6.72357827e-02,\n",
              "           2.48687901e-02,  1.46390200e-02,  5.73635921e-02,\n",
              "           3.97844613e-02, -1.12324450e-02, -3.20802331e-02,\n",
              "           8.42985958e-02,  1.12599060e-01,  1.38377085e-01,\n",
              "           1.55347988e-01,  1.62202064e-02, -8.96204263e-03,\n",
              "          -1.34633213e-01, -2.86611123e-03, -8.35635141e-02,\n",
              "           2.34398365e-01, -1.35061681e-01, -9.27934051e-02,\n",
              "          -1.67311758e-01, -6.47311360e-02, -4.35498245e-02,\n",
              "          -8.34901482e-02,  1.45058304e-01, -4.42106389e-02,\n",
              "          -6.96857646e-02, -7.85752535e-02]],\n",
              " \n",
              "        [[-1.18513517e-01, -4.61553000e-02,  3.34527418e-02,\n",
              "          -1.30001521e-02, -1.61906332e-01, -7.87975118e-02,\n",
              "          -1.09404676e-01,  1.28439263e-01,  1.54513687e-01,\n",
              "          -1.88988611e-01, -2.39408553e-01,  2.04601869e-01,\n",
              "          -9.10836160e-02, -4.18229327e-02, -8.86831656e-02,\n",
              "           3.45470831e-02, -2.56270558e-01, -4.38812096e-03,\n",
              "           1.37562498e-01,  4.11156043e-02,  1.00161016e-01,\n",
              "          -2.07424477e-01, -3.46686654e-02,  1.25745267e-01,\n",
              "           1.53131992e-01,  1.94071792e-02,  8.41547176e-02,\n",
              "           2.26904154e-02, -4.11543325e-02,  8.19105431e-02,\n",
              "           3.31682563e-02,  2.18023404e-01]],\n",
              " \n",
              "        [[ 5.99888042e-02,  4.21102233e-02, -2.08542012e-02,\n",
              "          -8.56101960e-02,  9.08200219e-02,  3.01151387e-02,\n",
              "           6.19107373e-02, -6.83666021e-02, -9.11841691e-02,\n",
              "           1.11403786e-01,  9.59757194e-02, -1.49579346e-01,\n",
              "           3.45351472e-02, -2.51971949e-02, -3.86261828e-02,\n",
              "           2.94115543e-02,  2.01634526e-01,  1.05062909e-02,\n",
              "          -3.61645781e-02, -5.40263671e-03, -4.26613018e-02,\n",
              "           5.70539944e-02, -5.13980724e-03, -4.70523536e-02,\n",
              "          -5.61443381e-02,  1.01573969e-04, -4.11085971e-02,\n",
              "          -3.38045098e-02, -2.59226151e-02, -4.41366397e-02,\n",
              "           2.70512886e-02, -1.19887091e-01]]], dtype=float32),\n",
              " array([-7.881603  , -8.200889  , -7.3537283 , -0.90857446, -3.9746864 ,\n",
              "        -7.911839  , -6.7777176 , -5.213358  , -6.585994  , -7.6307507 ,\n",
              "        -5.899342  , -5.1124825 , -7.8095245 , -4.584376  , -8.624573  ,\n",
              "        -0.36116883, -7.07838   , -5.4291487 , -8.8601885 , -8.532933  ,\n",
              "        -7.1509695 , -8.836951  , -8.764897  , -6.876319  , -6.001047  ,\n",
              "        -8.246333  , -4.569193  , -7.164754  , -7.768588  , -7.3424096 ,\n",
              "        -3.9735205 , -5.6308274 ], dtype=float32)]"
            ]
          },
          "metadata": {},
          "execution_count": 167
        }
      ]
    },
    {
      "cell_type": "code",
      "source": [
        "def pooling(array, type):\n",
        "  array_size = array.shape[1]\n",
        "  array_qnt = array.shape[0]\n",
        "  mp_vector = []\n",
        "\n",
        "  for j in range(0, array_size):\n",
        "    aux = []\n",
        "\n",
        "    for i in range(0, array_qnt):\n",
        "      aux.append(array[i][j])\n",
        "      \n",
        "    if type == \"max\":\n",
        "      mp_vector.append(max(aux))\n",
        "\n",
        "    elif  type == \"avg\":\n",
        "      mp_vector.append(np.mean(aux))\n",
        "\n",
        "  return mp_vector"
      ],
      "metadata": {
        "id": "1b1o2FfTJRJq"
      },
      "execution_count": null,
      "outputs": []
    },
    {
      "cell_type": "code",
      "source": [
        "def combine_windows(df):\n",
        "\n",
        "  get_final_output = K.function([model.layers[0].input],\n",
        "                                  [model.layers[-1].output])\n",
        "\n",
        "  new_inputs = []\n",
        "\n",
        "  for element in df[\"signals\"]:\n",
        "    samples = window(element, intersection, window_size, \"max\")\n",
        "    outputs = []\n",
        "\n",
        "    for sample in samples:\n",
        "      sample = np.array(list(sample))\n",
        "      sample = sample.reshape(1, sample.shape[0], 1)\n",
        "      \n",
        "      output = get_final_output(sample)\n",
        "      outputs.append(output)\n",
        "\n",
        "\n",
        "    outputs = np.array(outputs)\n",
        "    outputs = outputs.reshape(outputs.shape[0], outputs.shape[-1])\n",
        "\n",
        "    max_p = pooling(outputs, \"max\")\n",
        "    avg_p = pooling(outputs, \"avg\")\n",
        "    new_inputs.append(max_p + avg_p)\n",
        "\n",
        "  return new_inputs\n"
      ],
      "metadata": {
        "id": "lrk54UcjVoKS"
      },
      "execution_count": null,
      "outputs": []
    },
    {
      "cell_type": "code",
      "source": [
        "pip install xgboost"
      ],
      "metadata": {
        "colab": {
          "base_uri": "https://localhost:8080/"
        },
        "id": "_PKaCHbgZEBN",
        "outputId": "d4e46ae4-0e46-4240-8bd6-07255fd9fbde"
      },
      "execution_count": null,
      "outputs": [
        {
          "output_type": "stream",
          "name": "stdout",
          "text": [
            "Looking in indexes: https://pypi.org/simple, https://us-python.pkg.dev/colab-wheels/public/simple/\n",
            "Requirement already satisfied: xgboost in /usr/local/lib/python3.8/dist-packages (0.90)\n",
            "Requirement already satisfied: scipy in /usr/local/lib/python3.8/dist-packages (from xgboost) (1.7.3)\n",
            "Requirement already satisfied: numpy in /usr/local/lib/python3.8/dist-packages (from xgboost) (1.21.6)\n"
          ]
        }
      ]
    },
    {
      "cell_type": "code",
      "source": [
        "import xgboost as xgb\n",
        "\n",
        "y_new = d_aux_train[\"classes\"]\n",
        "y_new = np.array(y_new)\n",
        "\n",
        "new_inputs = combine_windows(d_aux_train)\n",
        "new_inputs = np.array(new_inputs)\n",
        "new_inputs = new_inputs.reshape(new_inputs.shape[0], new_inputs.shape[1])\n",
        "\n",
        "xgb_cl = xgb.XGBClassifier()\n",
        "xgb_cl.fit(new_inputs, y_new)"
      ],
      "metadata": {
        "colab": {
          "base_uri": "https://localhost:8080/"
        },
        "id": "Cuz2MKzccqZL",
        "outputId": "6e17f37e-5ee6-41b1-d52d-585a462ac365"
      },
      "execution_count": null,
      "outputs": [
        {
          "output_type": "execute_result",
          "data": {
            "text/plain": [
              "XGBClassifier(objective='multi:softprob')"
            ]
          },
          "metadata": {},
          "execution_count": 172
        }
      ]
    },
    {
      "cell_type": "code",
      "source": [
        "valid_inp = combine_windows(d_aux_valid)\n",
        "\n",
        "y_new_val = d_aux_valid[\"classes\"]\n",
        "y_new = np.array(y_new_val)\n",
        "\n",
        "valid_inp = np.array(valid_inp)\n",
        "valid_inp = valid_inp.reshape(valid_inp.shape[0], valid_inp.shape[1])\n",
        "\n",
        "y_pred = xgb_cl.predict(valid_inp)"
      ],
      "metadata": {
        "id": "hvT0MJLyhGtF"
      },
      "execution_count": null,
      "outputs": []
    },
    {
      "cell_type": "code",
      "source": [
        "accuracy_score(y_new_val, y_pred)"
      ],
      "metadata": {
        "colab": {
          "base_uri": "https://localhost:8080/"
        },
        "id": "S3sm7Gb1h0ll",
        "outputId": "6429cfd6-90a4-4a55-aaba-49abc5c80bba"
      },
      "execution_count": null,
      "outputs": [
        {
          "output_type": "execute_result",
          "data": {
            "text/plain": [
              "0.7859375"
            ]
          },
          "metadata": {},
          "execution_count": 174
        }
      ]
    },
    {
      "cell_type": "code",
      "source": [
        "from sklearn.metrics import confusion_matrix\n",
        "from sklearn import metrics\n",
        "\n",
        "cf_matrix = confusion_matrix(y_new_val, y_pred)\n",
        "cm_display = metrics.ConfusionMatrixDisplay(confusion_matrix = cf_matrix, display_labels = ['A', 'N', 'O', '~'])\n",
        "cm_display.plot()\n",
        "# plt.savefig(\"test.png\")"
      ],
      "metadata": {
        "colab": {
          "base_uri": "https://localhost:8080/",
          "height": 106
        },
        "id": "r5760y0tiEXV",
        "outputId": "07ec6e63-8fbf-4472-ddd8-351bbf420689"
      },
      "execution_count": null,
      "outputs": [
        {
          "output_type": "execute_result",
          "data": {
            "text/plain": [
              "<sklearn.metrics._plot.confusion_matrix.ConfusionMatrixDisplay at 0x7fac1924e730>"
            ]
          },
          "metadata": {},
          "execution_count": 175
        },
        {
          "output_type": "display_data",
          "data": {
            "text/plain": [
              "<Figure size 1440x360 with 2 Axes>"
            ],
            "image/png": "[encoded data removed]"
          },
          "metadata": {
            "needs_background": "light"
          }
        }
      ]
    },
    {
      "cell_type": "code",
      "source": [
        "from sklearn.metrics import classification_report \n",
        " \n",
        "relatorio = classification_report(y_new_val, y_pred) \n",
        "print(relatorio)"
      ],
      "metadata": {
        "colab": {
          "base_uri": "https://localhost:8080/"
        },
        "id": "GdL9OQS30kvZ",
        "outputId": "814455de-f694-4f2e-8f79-b1c97ae61009"
      },
      "execution_count": null,
      "outputs": [
        {
          "output_type": "stream",
          "name": "stdout",
          "text": [
            "              precision    recall  f1-score   support\n",
            "\n",
            "           A       0.73      0.63      0.67        59\n",
            "           N       0.80      0.95      0.87       387\n",
            "           O       0.75      0.52      0.61       176\n",
            "           ~       0.80      0.44      0.57        18\n",
            "\n",
            "    accuracy                           0.79       640\n",
            "   macro avg       0.77      0.63      0.68       640\n",
            "weighted avg       0.78      0.79      0.77       640\n",
            "\n"
          ]
        }
      ]
    }
  ],
  "metadata": {
    "colab": {
      "provenance": [],
      "include_colab_link": true
    },
    "environment": {
      "kernel": "python3",
      "name": "tf2-gpu.2-8.m102",
      "type": "gcloud",
      "uri": "gcr.io/deeplearning-platform-release/tf2-gpu.2-8:m102"
    },
    "gpuClass": "standard",
    "kernelspec": {
      "display_name": "Python 3 (ipykernel)",
      "language": "python",
      "name": "python3"
    },
    "language_info": {
      "codemirror_mode": {
        "name": "ipython",
        "version": 3
      },
      "file_extension": ".py",
      "mimetype": "text/x-python",
      "name": "python",
      "nbconvert_exporter": "python",
      "pygments_lexer": "ipython3",
      "version": "3.7.12"
    },
    "accelerator": "GPU"
  },
  "nbformat": 4,
  "nbformat_minor": 0
}