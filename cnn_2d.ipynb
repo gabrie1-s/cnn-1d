{
  "cells": [
    {
      "cell_type": "markdown",
      "metadata": {
        "id": "view-in-github",
        "colab_type": "text"
      },
      "source": [
        "<a href=\"https://colab.research.google.com/github/gabrie1-s/cnn-1d/blob/combined_approaches/cnn_2d.ipynb\" target=\"_parent\"><img src=\"https://colab.research.google.com/assets/colab-badge.svg\" alt=\"Open In Colab\"/></a>"
      ]
    },
    {
      "cell_type": "code",
      "execution_count": 1,
      "metadata": {
        "id": "zktLrLf6iCu5"
      },
      "outputs": [],
      "source": [
        "from google.colab import drive\n",
        "from pathlib import Path\n",
        "import scipy.io\n",
        "from glob import glob\n",
        "import os\n",
        "import matplotlib.pyplot as plt\n",
        "import numpy as np\n",
        "import math\n",
        "import random\n",
        "import pandas as pd\n",
        "from sklearn.preprocessing import normalize, label_binarize\n",
        "from sklearn.model_selection import train_test_split, cross_val_score\n",
        "from scipy.stats import zscore"
      ]
    },
    {
      "cell_type": "code",
      "execution_count": 2,
      "metadata": {
        "colab": {
          "base_uri": "https://localhost:8080/"
        },
        "id": "FEw9tU79AcGV",
        "outputId": "a93b911f-2917-4867-d07e-a4d8c90e5153"
      },
      "outputs": [
        {
          "output_type": "stream",
          "name": "stdout",
          "text": [
            "Drive already mounted at /content/drive; to attempt to forcibly remount, call drive.mount(\"/content/drive\", force_remount=True).\n"
          ]
        }
      ],
      "source": [
        "drive.mount('/content/drive')"
      ]
    },
    {
      "cell_type": "markdown",
      "metadata": {
        "id": "LVTiQgFbGFS8"
      },
      "source": [
        "#1. Aquisição dos Dados"
      ]
    },
    {
      "cell_type": "code",
      "execution_count": 3,
      "metadata": {
        "id": "4juuk4_TiRvW"
      },
      "outputs": [],
      "source": [
        "data = Path('drive/MyDrive/CNN_Chagas/Physionet/cnn-1d/data')\n",
        "\n",
        "signals = []\n",
        "classes =[]\n",
        "\n",
        "for value in sorted(data.glob('*.mat')):\n",
        "  signal = scipy.io.loadmat(value)\n",
        "  signal = np.array(signal[\"val\"], dtype='float')[0]\n",
        "  signals.append(signal)\n",
        "  # print(value)"
      ]
    },
    {
      "cell_type": "code",
      "execution_count": 4,
      "metadata": {
        "id": "EpNZgpvfis1M"
      },
      "outputs": [],
      "source": [
        "classification_path = os.path.join(data, \"classification.txt\")\n",
        "with open(classification_path) as f:\n",
        "    classes = f.readlines()\n",
        "\n",
        "for i in range(0, len(classes)):\n",
        "  classes[i] = classes[i][classes[i].find(','):]\n",
        "  classes[i] = classes[i][: classes[i].find('\\n')]\n",
        "  classes[i] = classes[i].replace(\",\", \"\")\n",
        "\n",
        "# classes = classes[0: -1]"
      ]
    },
    {
      "cell_type": "markdown",
      "metadata": {
        "id": "JfrBd2SrG4-Z"
      },
      "source": [
        "#2. Preprocessamento"
      ]
    },
    {
      "cell_type": "markdown",
      "metadata": {
        "id": "-3mQ3QWQP1id"
      },
      "source": [
        "### 2.1 Análise da distribuição das classes"
      ]
    },
    {
      "cell_type": "code",
      "execution_count": 5,
      "metadata": {
        "id": "EMDav0-ZREVS"
      },
      "outputs": [],
      "source": [
        "d = {'signals': signals, 'classes': classes}\n",
        "df = pd.DataFrame(data=d)\n",
        "a = df.groupby('classes')"
      ]
    },
    {
      "cell_type": "code",
      "execution_count": 6,
      "metadata": {
        "id": "jXPAsb09S3rA",
        "colab": {
          "base_uri": "https://localhost:8080/"
        },
        "outputId": "e1e7f343-f569-44d7-da7a-95fee91fd427"
      },
      "outputs": [
        {
          "output_type": "stream",
          "name": "stdout",
          "text": [
            "N\n",
            "Média: 9633.38\n",
            "Std: 2991.84\n",
            "Qntd: 5076\n",
            "Min: 2714\n",
            "---------------\n",
            "O\n",
            "Média: 10288.52\n",
            "Std: 3528.74\n",
            "Qntd: 2415\n",
            "Min: 2738\n",
            "---------------\n",
            "A\n",
            "Média: 9703.41\n",
            "Std: 3694.64\n",
            "Qntd: 758\n",
            "Min: 2996\n",
            "---------------\n",
            "~\n",
            "Média: 7313.63\n",
            "Std: 3122.42\n",
            "Qntd: 279\n",
            "Min: 2808\n",
            "---------------\n"
          ]
        }
      ],
      "source": [
        "for i in ['N', 'O', 'A', '~']:\n",
        "  print(i)\n",
        "  aux = []\n",
        "\n",
        "  for j in a.get_group(i)[\"signals\"]:\n",
        "    aux.append(len(j))\n",
        "\n",
        "  print('Média:', round(np.mean(aux), 2))\n",
        "  print(\"Std:\", round(np.std(aux), 2))\n",
        "  print(\"Qntd:\", len(aux))\n",
        "  print(\"Min:\", min(aux))\n",
        "  print(\"---------------\")"
      ]
    },
    {
      "cell_type": "code",
      "execution_count": 7,
      "metadata": {
        "colab": {
          "base_uri": "https://localhost:8080/",
          "height": 383
        },
        "id": "lwr76JbnMcTV",
        "outputId": "7b56a9cd-31b3-4423-951c-7ad891fc48be"
      },
      "outputs": [
        {
          "output_type": "display_data",
          "data": {
            "text/plain": [
              "<Figure size 576x432 with 1 Axes>"
            ],
            "image/png": "[encoded data removed]"
          },
          "metadata": {
            "needs_background": "light"
          }
        }
      ],
      "source": [
        "plt.rcParams.update({'font.size': 20})\n",
        "\n",
        "df[\"classes\"].hist(\n",
        "    figsize=(8, 6),\n",
        "    grid = False,\n",
        "    bins = 10,\n",
        ")\n",
        "plt.xticks(range(4))\n",
        "# plt.savefig('init_distri.png')\n",
        "plt.show()"
      ]
    },
    {
      "cell_type": "markdown",
      "metadata": {
        "id": "Esm2O_1cY1ls"
      },
      "source": [
        "### 2.2 Janelamento dos dados de treino"
      ]
    },
    {
      "cell_type": "code",
      "execution_count": 8,
      "metadata": {
        "id": "0huQBxtdY9Pc"
      },
      "outputs": [],
      "source": [
        "intersection = 100\n",
        "window_size = 500\n",
        "windows_array = [\"max\",\"max\",\"max\", \"max\"]\n",
        "classes_array = ['N', 'O', 'A', '~']"
      ]
    },
    {
      "cell_type": "code",
      "execution_count": 9,
      "metadata": {
        "id": "S9cPB1Lq_ucf"
      },
      "outputs": [],
      "source": [
        "def window(signal, intersection, window_size, n):\n",
        "  s_size = len(signal)\n",
        "  max_n = (s_size-intersection)/(window_size - intersection)\n",
        "  samples = []\n",
        "  \n",
        "  if  n == \"max\" or n > max_n:\n",
        "    n = max_n\n",
        "    n = math.floor(n)\n",
        "    \n",
        "  max_begin = s_size - (n*(window_size) - (n-1)*intersection) + 1\n",
        "  init = random.randrange(max_begin)\n",
        "  for i in range(0, n):\n",
        "    begin = init + i*window_size - i*intersection\n",
        "    end = begin + window_size\n",
        "    samples.append(signal[begin:end])\n",
        "\n",
        "  \n",
        "  return samples"
      ]
    },
    {
      "cell_type": "code",
      "execution_count": 10,
      "metadata": {
        "id": "YZr7BUydRh99"
      },
      "outputs": [],
      "source": [
        "def embalance_data(df, classes_array, windows_array, intersection, window_size):\n",
        "\n",
        "  a = df.groupby('classes')\n",
        "  d_train = df.copy()\n",
        "  d_train = d_train.iloc[0:0]\n",
        "\n",
        "\n",
        "  idx = -1\n",
        "  for i in classes_array:\n",
        "    aux = []\n",
        "    idx += 1\n",
        "\n",
        "    for index, row in a.get_group(i).iterrows():\n",
        "      samples = window(row[\"signals\"], intersection, window_size,  windows_array[idx])\n",
        "      \n",
        "      for k in range(len(samples)):\n",
        "        d_train = d_train.append({'signals': samples[k], 'classes': i}, ignore_index=True)\n",
        "\n",
        "  return d_train"
      ]
    },
    {
      "cell_type": "code",
      "execution_count": 11,
      "metadata": {
        "id": "wnxkAcA-MQLx",
        "colab": {
          "base_uri": "https://localhost:8080/"
        },
        "outputId": "f6bbae72-5b4b-4130-bdee-ec50289031a9"
      },
      "outputs": [
        {
          "output_type": "stream",
          "name": "stdout",
          "text": [
            "N\n",
            "Média: 500.0\n",
            "Std: 0.0\n",
            "Qntd: 81833\n",
            "Min: 500\n",
            "---------------\n",
            "O\n",
            "Média: 500.0\n",
            "Std: 0.0\n",
            "Qntd: 40147\n",
            "Min: 500\n",
            "---------------\n",
            "A\n",
            "Média: 500.0\n",
            "Std: 0.0\n",
            "Qntd: 11718\n",
            "Min: 500\n",
            "---------------\n",
            "~\n",
            "Média: 500.0\n",
            "Std: 0.0\n",
            "Qntd: 3506\n",
            "Min: 500\n",
            "---------------\n"
          ]
        }
      ],
      "source": [
        "x_rem, x_test, y_rem, y_test = train_test_split(df[\"signals\"], df[\"classes\"], test_size=0.25)\n",
        "x_train, x_valid, y_train, y_valid = train_test_split(x_rem, y_rem, test_size=0.1)\n",
        "\n",
        "d_aux_train = pd.DataFrame({'signals': x_train, 'classes': y_train})\n",
        "d_train = embalance_data(d_aux_train, classes_array, windows_array, intersection, window_size)\n",
        "\n",
        "d_aux_valid = pd.DataFrame({'signals': x_valid, 'classes': y_valid})\n",
        "d_valid = embalance_data(d_aux_valid, classes_array, windows_array, intersection, window_size)\n",
        "\n",
        "b = d_train.groupby('classes')\n",
        "\n",
        "for i in ['N','O', 'A', '~']:\n",
        "  print(i)\n",
        "  aux = []\n",
        "\n",
        "  for j in b.get_group(i)[\"signals\"]:\n",
        "    aux.append(len(j))\n",
        "\n",
        "  print('Média:', round(np.mean(aux), 2))\n",
        "  print(\"Std:\", round(np.std(aux), 2))\n",
        "  print(\"Qntd:\", len(aux))\n",
        "  print(\"Min:\", min(aux))\n",
        "  print(\"---------------\")"
      ]
    },
    {
      "cell_type": "code",
      "execution_count": 12,
      "metadata": {
        "id": "fCd8O9-XX0uO",
        "colab": {
          "base_uri": "https://localhost:8080/",
          "height": 383
        },
        "outputId": "018ec7f1-999c-4fc3-bb16-95775038e56e"
      },
      "outputs": [
        {
          "output_type": "display_data",
          "data": {
            "text/plain": [
              "<Figure size 576x432 with 1 Axes>"
            ],
            "image/png": "[encoded data removed]"
          },
          "metadata": {
            "needs_background": "light"
          }
        }
      ],
      "source": [
        "plt.rcParams.update({'font.size': 20})\n",
        "\n",
        "d_train[\"classes\"].hist(\n",
        "    figsize=(8, 6),\n",
        "    grid = False,\n",
        "    bins = 10,\n",
        ")\n",
        "plt.xticks(range(4))\n",
        "# plt.savefig('end_distri.png')\n",
        "plt.show()"
      ]
    },
    {
      "cell_type": "markdown",
      "metadata": {
        "id": "dqB3aO1hFW4G"
      },
      "source": [
        "###2.4 Grayscale transformation\n",
        "\n"
      ]
    },
    {
      "cell_type": "code",
      "source": [
        "import cv2\n",
        "import json"
      ],
      "metadata": {
        "id": "2UtP-Pk9qw5v"
      },
      "execution_count": 14,
      "outputs": []
    },
    {
      "cell_type": "code",
      "execution_count": 26,
      "metadata": {
        "id": "8eLAtXlgVRZP"
      },
      "outputs": [],
      "source": [
        "def gray_img(vector):\n",
        "  plt.rcParams.update({'figure.max_open_warning': 0})\n",
        "  imgs = []\n",
        "\n",
        "  jsonFile = open(\"imgs.json\", \"w\")\n",
        "\n",
        "\n",
        "  for idx, i in enumerate(vector):\n",
        "    fig = plt.figure(frameon=False)\n",
        "    plt.plot(i)\n",
        "    plt.xticks([]), plt.yticks([])\n",
        "    for spine in plt.gca().spines.values():\n",
        "      spine.set_visible(False)\n",
        "\n",
        "    size = fig.get_size_inches()*fig.dpi\n",
        "\n",
        "    fig.canvas.draw()\n",
        "    img = np.frombuffer(fig.canvas.tostring_rgb(), dtype=np.uint8)\n",
        "    img = img.reshape(int(size[0]), int(size[1]), 3)\n",
        "    img = np.dot(img[...,:3], [0.2989, 0.5870, 0.1140])\n",
        "\n",
        "    pin = {\"idx\": idx}\n",
        "    img = {\"data\": img.tolist()}\n",
        "    img = json.dumps(img)\n",
        "    line = json.loads(img)\n",
        "  \n",
        "    # appending the data\n",
        "    line.update(pin)\n",
        "    \n",
        "    # the result is a JSON string:\n",
        "    jsonString = json.dumps(line)\n",
        "    jsonFile.write(jsonString)\n",
        "\n",
        "    plt.close(fig)\n",
        "  \n",
        "  jsonFile.close()\n",
        "  return imgs"
      ]
    },
    {
      "cell_type": "code",
      "source": [
        "y_train = d_train[\"classes\"]\n",
        "d_train = gray_img(d_train[\"signals\"])"
      ],
      "metadata": {
        "id": "OjE-rV3IVqLI",
        "colab": {
          "base_uri": "https://localhost:8080/",
          "height": 559
        },
        "outputId": "34c9a7ba-cef9-433e-eac1-ced305cc5b49"
      },
      "execution_count": 27,
      "outputs": [
        {
          "output_type": "error",
          "ename": "KeyboardInterrupt",
          "evalue": "ignored",
          "traceback": [
            "\u001b[0;31m---------------------------------------------------------------------------\u001b[0m",
            "\u001b[0;31mKeyboardInterrupt\u001b[0m                         Traceback (most recent call last)",
            "\u001b[0;32m<ipython-input-27-5b563fd62684>\u001b[0m in \u001b[0;36m<module>\u001b[0;34m\u001b[0m\n\u001b[1;32m      1\u001b[0m \u001b[0my_train\u001b[0m \u001b[0;34m=\u001b[0m \u001b[0md_train\u001b[0m\u001b[0;34m[\u001b[0m\u001b[0;34m\"classes\"\u001b[0m\u001b[0;34m]\u001b[0m\u001b[0;34m\u001b[0m\u001b[0;34m\u001b[0m\u001b[0m\n\u001b[0;32m----> 2\u001b[0;31m \u001b[0md_train\u001b[0m \u001b[0;34m=\u001b[0m \u001b[0mgray_img\u001b[0m\u001b[0;34m(\u001b[0m\u001b[0md_train\u001b[0m\u001b[0;34m[\u001b[0m\u001b[0;34m\"signals\"\u001b[0m\u001b[0;34m]\u001b[0m\u001b[0;34m)\u001b[0m\u001b[0;34m\u001b[0m\u001b[0;34m\u001b[0m\u001b[0m\n\u001b[0m",
            "\u001b[0;32m<ipython-input-26-7e4bbe3714e8>\u001b[0m in \u001b[0;36mgray_img\u001b[0;34m(vector)\u001b[0m\n\u001b[1;32m     22\u001b[0m     \u001b[0mpin\u001b[0m \u001b[0;34m=\u001b[0m \u001b[0;34m{\u001b[0m\u001b[0;34m\"idx\"\u001b[0m\u001b[0;34m:\u001b[0m \u001b[0midx\u001b[0m\u001b[0;34m}\u001b[0m\u001b[0;34m\u001b[0m\u001b[0;34m\u001b[0m\u001b[0m\n\u001b[1;32m     23\u001b[0m     \u001b[0mimg\u001b[0m \u001b[0;34m=\u001b[0m \u001b[0;34m{\u001b[0m\u001b[0;34m\"data\"\u001b[0m\u001b[0;34m:\u001b[0m \u001b[0mimg\u001b[0m\u001b[0;34m.\u001b[0m\u001b[0mtolist\u001b[0m\u001b[0;34m(\u001b[0m\u001b[0;34m)\u001b[0m\u001b[0;34m}\u001b[0m\u001b[0;34m\u001b[0m\u001b[0;34m\u001b[0m\u001b[0m\n\u001b[0;32m---> 24\u001b[0;31m     \u001b[0mimg\u001b[0m \u001b[0;34m=\u001b[0m \u001b[0mjson\u001b[0m\u001b[0;34m.\u001b[0m\u001b[0mdumps\u001b[0m\u001b[0;34m(\u001b[0m\u001b[0mimg\u001b[0m\u001b[0;34m)\u001b[0m\u001b[0;34m\u001b[0m\u001b[0;34m\u001b[0m\u001b[0m\n\u001b[0m\u001b[1;32m     25\u001b[0m     \u001b[0mline\u001b[0m \u001b[0;34m=\u001b[0m \u001b[0mjson\u001b[0m\u001b[0;34m.\u001b[0m\u001b[0mloads\u001b[0m\u001b[0;34m(\u001b[0m\u001b[0mimg\u001b[0m\u001b[0;34m)\u001b[0m\u001b[0;34m\u001b[0m\u001b[0;34m\u001b[0m\u001b[0m\n\u001b[1;32m     26\u001b[0m \u001b[0;34m\u001b[0m\u001b[0m\n",
            "\u001b[0;32m/usr/lib/python3.8/json/__init__.py\u001b[0m in \u001b[0;36mdumps\u001b[0;34m(obj, skipkeys, ensure_ascii, check_circular, allow_nan, cls, indent, separators, default, sort_keys, **kw)\u001b[0m\n\u001b[1;32m    229\u001b[0m         \u001b[0mcls\u001b[0m \u001b[0;32mis\u001b[0m \u001b[0;32mNone\u001b[0m \u001b[0;32mand\u001b[0m \u001b[0mindent\u001b[0m \u001b[0;32mis\u001b[0m \u001b[0;32mNone\u001b[0m \u001b[0;32mand\u001b[0m \u001b[0mseparators\u001b[0m \u001b[0;32mis\u001b[0m \u001b[0;32mNone\u001b[0m \u001b[0;32mand\u001b[0m\u001b[0;34m\u001b[0m\u001b[0;34m\u001b[0m\u001b[0m\n\u001b[1;32m    230\u001b[0m         default is None and not sort_keys and not kw):\n\u001b[0;32m--> 231\u001b[0;31m         \u001b[0;32mreturn\u001b[0m \u001b[0m_default_encoder\u001b[0m\u001b[0;34m.\u001b[0m\u001b[0mencode\u001b[0m\u001b[0;34m(\u001b[0m\u001b[0mobj\u001b[0m\u001b[0;34m)\u001b[0m\u001b[0;34m\u001b[0m\u001b[0;34m\u001b[0m\u001b[0m\n\u001b[0m\u001b[1;32m    232\u001b[0m     \u001b[0;32mif\u001b[0m \u001b[0mcls\u001b[0m \u001b[0;32mis\u001b[0m \u001b[0;32mNone\u001b[0m\u001b[0;34m:\u001b[0m\u001b[0;34m\u001b[0m\u001b[0;34m\u001b[0m\u001b[0m\n\u001b[1;32m    233\u001b[0m         \u001b[0mcls\u001b[0m \u001b[0;34m=\u001b[0m \u001b[0mJSONEncoder\u001b[0m\u001b[0;34m\u001b[0m\u001b[0;34m\u001b[0m\u001b[0m\n",
            "\u001b[0;32m/usr/lib/python3.8/json/encoder.py\u001b[0m in \u001b[0;36mencode\u001b[0;34m(self, o)\u001b[0m\n\u001b[1;32m    197\u001b[0m         \u001b[0;31m# exceptions aren't as detailed.  The list call should be roughly\u001b[0m\u001b[0;34m\u001b[0m\u001b[0;34m\u001b[0m\u001b[0;34m\u001b[0m\u001b[0m\n\u001b[1;32m    198\u001b[0m         \u001b[0;31m# equivalent to the PySequence_Fast that ''.join() would do.\u001b[0m\u001b[0;34m\u001b[0m\u001b[0;34m\u001b[0m\u001b[0;34m\u001b[0m\u001b[0m\n\u001b[0;32m--> 199\u001b[0;31m         \u001b[0mchunks\u001b[0m \u001b[0;34m=\u001b[0m \u001b[0mself\u001b[0m\u001b[0;34m.\u001b[0m\u001b[0miterencode\u001b[0m\u001b[0;34m(\u001b[0m\u001b[0mo\u001b[0m\u001b[0;34m,\u001b[0m \u001b[0m_one_shot\u001b[0m\u001b[0;34m=\u001b[0m\u001b[0;32mTrue\u001b[0m\u001b[0;34m)\u001b[0m\u001b[0;34m\u001b[0m\u001b[0;34m\u001b[0m\u001b[0m\n\u001b[0m\u001b[1;32m    200\u001b[0m         \u001b[0;32mif\u001b[0m \u001b[0;32mnot\u001b[0m \u001b[0misinstance\u001b[0m\u001b[0;34m(\u001b[0m\u001b[0mchunks\u001b[0m\u001b[0;34m,\u001b[0m \u001b[0;34m(\u001b[0m\u001b[0mlist\u001b[0m\u001b[0;34m,\u001b[0m \u001b[0mtuple\u001b[0m\u001b[0;34m)\u001b[0m\u001b[0;34m)\u001b[0m\u001b[0;34m:\u001b[0m\u001b[0;34m\u001b[0m\u001b[0;34m\u001b[0m\u001b[0m\n\u001b[1;32m    201\u001b[0m             \u001b[0mchunks\u001b[0m \u001b[0;34m=\u001b[0m \u001b[0mlist\u001b[0m\u001b[0;34m(\u001b[0m\u001b[0mchunks\u001b[0m\u001b[0;34m)\u001b[0m\u001b[0;34m\u001b[0m\u001b[0;34m\u001b[0m\u001b[0m\n",
            "\u001b[0;32m/usr/lib/python3.8/json/encoder.py\u001b[0m in \u001b[0;36miterencode\u001b[0;34m(self, o, _one_shot)\u001b[0m\n\u001b[1;32m    255\u001b[0m                 \u001b[0mself\u001b[0m\u001b[0;34m.\u001b[0m\u001b[0mkey_separator\u001b[0m\u001b[0;34m,\u001b[0m \u001b[0mself\u001b[0m\u001b[0;34m.\u001b[0m\u001b[0mitem_separator\u001b[0m\u001b[0;34m,\u001b[0m \u001b[0mself\u001b[0m\u001b[0;34m.\u001b[0m\u001b[0msort_keys\u001b[0m\u001b[0;34m,\u001b[0m\u001b[0;34m\u001b[0m\u001b[0;34m\u001b[0m\u001b[0m\n\u001b[1;32m    256\u001b[0m                 self.skipkeys, _one_shot)\n\u001b[0;32m--> 257\u001b[0;31m         \u001b[0;32mreturn\u001b[0m \u001b[0m_iterencode\u001b[0m\u001b[0;34m(\u001b[0m\u001b[0mo\u001b[0m\u001b[0;34m,\u001b[0m \u001b[0;36m0\u001b[0m\u001b[0;34m)\u001b[0m\u001b[0;34m\u001b[0m\u001b[0;34m\u001b[0m\u001b[0m\n\u001b[0m\u001b[1;32m    258\u001b[0m \u001b[0;34m\u001b[0m\u001b[0m\n\u001b[1;32m    259\u001b[0m def _make_iterencode(markers, _default, _encoder, _indent, _floatstr,\n",
            "\u001b[0;31mKeyboardInterrupt\u001b[0m: "
          ]
        },
        {
          "output_type": "display_data",
          "data": {
            "text/plain": [
              "<Figure size 432x288 with 1 Axes>"
            ],
            "image/png": "[encoded data removed]"
          },
          "metadata": {}
        }
      ]
    },
    {
      "cell_type": "code",
      "source": [],
      "metadata": {
        "id": "6lfvJPWRja4Z"
      },
      "execution_count": null,
      "outputs": []
    },
    {
      "cell_type": "markdown",
      "metadata": {
        "id": "x18mtyZHFiqS"
      },
      "source": [
        "#3. Implementação da CNN"
      ]
    },
    {
      "cell_type": "markdown",
      "metadata": {
        "id": "Hyc0tgeHFnYJ"
      },
      "source": [
        "##3.1 Descoberta dos hyperparâmetros (Otimização Bayseana)"
      ]
    },
    {
      "cell_type": "code",
      "execution_count": null,
      "metadata": {
        "id": "aPUq6qnaGEQ6"
      },
      "outputs": [],
      "source": [
        "from keras.models import Sequential\n",
        "from keras.layers import Dense, Flatten\n",
        "from keras.layers import Conv1D, MaxPooling1D\n",
        "\n",
        "from keras.layers import Dense, BatchNormalization, Dropout\n",
        "from tensorflow.keras.optimizers import Adam, SGD, RMSprop, Adadelta, Adagrad, Adamax, Nadam, Ftrl"
      ]
    },
    {
      "cell_type": "code",
      "execution_count": null,
      "metadata": {
        "id": "fNfOyTiX_R5e"
      },
      "outputs": [],
      "source": [
        "y_train = pd.get_dummies(d_train[\"classes\"])\n",
        "y_valid = pd.get_dummies(d_valid[\"classes\"])\n",
        "\n",
        "x_train = list(d_train[\"signals\"])\n",
        "x_valid = list(d_valid[\"signals\"])\n",
        "\n",
        "x_train = np.array(x_train)\n",
        "x_valid = np.array(x_valid)\n",
        "x_test = np.array(x_test)"
      ]
    },
    {
      "cell_type": "code",
      "execution_count": null,
      "metadata": {
        "id": "XuHlQiLjwe_H"
      },
      "outputs": [],
      "source": [
        "x_train = x_train.reshape(x_train.shape[0], x_train.shape[1], 1)\n",
        "# x_test = x_test.reshape(x_test.shape[0], x_test.shape[1], 1)\n",
        "x_valid = x_valid.reshape(x_valid.shape[0], x_valid.shape[1], 1)"
      ]
    },
    {
      "cell_type": "code",
      "execution_count": null,
      "metadata": {
        "id": "mt5BSTOL_NJw"
      },
      "outputs": [],
      "source": [
        "# Import packages\n",
        "from sklearn.model_selection import cross_val_score\n",
        "from tensorflow.keras.models import Sequential\n",
        "from tensorflow.keras.layers import Dense, BatchNormalization, Dropout\n",
        "from tensorflow.keras.callbacks import EarlyStopping\n",
        "from tensorflow.keras.wrappers.scikit_learn import KerasClassifier\n",
        "from math import floor\n",
        "from sklearn.metrics import make_scorer, accuracy_score\n",
        "\n",
        "pd.set_option(\"display.max_columns\", None)\n",
        "\n",
        "from sklearn import metrics\n",
        "import tensorflow as tf"
      ]
    },
    {
      "cell_type": "code",
      "execution_count": null,
      "metadata": {
        "id": "G8tG4TX2MpGQ"
      },
      "outputs": [],
      "source": [
        "score_acc = make_scorer(accuracy_score)"
      ]
    },
    {
      "cell_type": "code",
      "execution_count": null,
      "metadata": {
        "id": "AUA1Xgsb1UZZ"
      },
      "outputs": [],
      "source": [
        "len(x_train[0])"
      ]
    },
    {
      "cell_type": "code",
      "execution_count": null,
      "metadata": {
        "id": "l_FZ6CDpdhIK"
      },
      "outputs": [],
      "source": [
        "input_shape = len(x_train[0])\n",
        "k1 = 5\n",
        "k2 = 3\n",
        "n = math.floor(input_shape/(k1+k2-2))\n",
        "nn_input = input_shape % (k1+k2-2)\n",
        "\n",
        "classificador = Sequential()\n",
        "\n",
        "for i  in range(0, 5):\n",
        "  if i == 0:\n",
        "    classificador.add(Conv1D(filters=32, kernel_size = k1, input_shape = (input_shape, 1), activation = \"relu\"))\n",
        "  else:\n",
        "      classificador.add(Conv1D(filters=32, kernel_size = k1, activation = \"relu\"))\n",
        "  # BatchNormalization()\n",
        "  \n",
        "  classificador.add(Conv1D(filters=64, kernel_size = k2, activation = \"relu\"))\n",
        "  # BatchNormalization()\n",
        "  # classificador.add(Conv1D(filters=32, kernel_size = k2, activation = \"relu\"))\n",
        "  classificador.add(MaxPooling1D(pool_size=2))\n",
        "\n",
        "classificador.add(Flatten())\n",
        "\n",
        "classificador.add(Dense(units=64, activation='relu'))\n",
        "classificador.add(Dense(units=32, activation='relu'))\n",
        "classificador.add(Dense(units=16, activation='relu'))\n",
        "\n",
        "classificador.add(Dense(4, activation=\"softmax\"))\n",
        "\n",
        "classificador.compile(loss='categorical_crossentropy', optimizer=Adamax(learning_rate=0.01), metrics=[\"accuracy\"])\n",
        "\n",
        "\n",
        "es = EarlyStopping(monitor=\"accuracy\", mode='max', verbose=0, patience=15)\n",
        "\n",
        "history = classificador.fit(x_train, y_train, validation_data=(x_valid, y_valid), epochs=150, batch_size=128, callbacks=es, verbose=1)\n",
        "\n"
      ]
    },
    {
      "cell_type": "code",
      "execution_count": null,
      "metadata": {
        "id": "DEXhkG1AAMMF"
      },
      "outputs": [],
      "source": [
        "plt.plot(history.history['accuracy'])\n",
        "plt.plot(history.history['val_accuracy'])\n",
        "plt.title('model accuracy')\n",
        "plt.ylabel('accuracy')\n",
        "plt.xlabel('epoch')\n",
        "plt.legend(['train', 'valid'], loc='upper left')\n",
        "plt.savefig(\"history.png\")\n",
        "plt.show()"
      ]
    },
    {
      "cell_type": "code",
      "source": [
        "str(type(classificador.layers[0])) == \"<class 'keras.layers.convolutional.conv1d.Conv1D'>\""
      ],
      "metadata": {
        "id": "UhElHVjloFes"
      },
      "execution_count": null,
      "outputs": []
    },
    {
      "cell_type": "code",
      "source": [
        "model_weights =[]\n",
        "for i in classificador.layers:\n",
        "  layer = \"<class 'keras.layers.convolutional.conv1d.Conv1D'>\"\n",
        "  if str(type(i)) == layer:\n",
        "    model_weights.append(i.get_weights())"
      ],
      "metadata": {
        "id": "gq2Umwlfq6oB"
      },
      "execution_count": null,
      "outputs": []
    },
    {
      "cell_type": "code",
      "source": [
        "input_shape = len(x_train[0])\n",
        "k1 = 5\n",
        "k2 = 3\n",
        "n = math.floor(input_shape/(k1+k2-2))\n",
        "nn_input = input_shape % (k1+k2-2)\n",
        "\n",
        "model = Sequential()\n",
        "\n",
        "for i  in range(0, 5):\n",
        "  if i == 0:\n",
        "    model.add(Conv1D(filters=32, kernel_size = k1, input_shape = (input_shape, 1), activation = \"relu\"))\n",
        "  else:\n",
        "    model.add(Conv1D(filters=32, kernel_size = k1, activation = \"relu\"))\n",
        "  \n",
        "  model.add(Conv1D(filters=64, kernel_size = k2, activation = \"relu\"))\n",
        "  model.add(MaxPooling1D(pool_size=2))\n",
        "\n",
        "model.add(Flatten())"
      ],
      "metadata": {
        "id": "VgC-ZI9xSLFK"
      },
      "execution_count": null,
      "outputs": []
    },
    {
      "cell_type": "code",
      "source": [
        "count = 0\n",
        "for i in model.layers:\n",
        "  layer = \"<class 'keras.layers.convolutional.conv1d.Conv1D'>\"\n",
        "  if str(type(i)) == layer:\n",
        "    i.set_weights(model_weights[count])\n",
        "    count += 1"
      ],
      "metadata": {
        "id": "USm8R1ioT5V-"
      },
      "execution_count": null,
      "outputs": []
    },
    {
      "cell_type": "code",
      "source": [
        "model.layers[0].get_weights()"
      ],
      "metadata": {
        "id": "vTvrD6c3U9Kr"
      },
      "execution_count": null,
      "outputs": []
    },
    {
      "cell_type": "code",
      "source": [
        "def pooling(array, type):\n",
        "  array_size = array.shape[1]\n",
        "  array_qnt = array.shape[0]\n",
        "  mp_vector = []\n",
        "\n",
        "  for j in range(0, array_size):\n",
        "    aux = []\n",
        "\n",
        "    for i in range(0, array_qnt):\n",
        "      aux.append(array[i][j])\n",
        "      \n",
        "    if type == \"max\":\n",
        "      mp_vector.append(max(aux))\n",
        "\n",
        "    elif  type == \"avg\":\n",
        "      mp_vector.append(np.mean(aux))\n",
        "\n",
        "  return mp_vector"
      ],
      "metadata": {
        "id": "1b1o2FfTJRJq"
      },
      "execution_count": null,
      "outputs": []
    },
    {
      "cell_type": "code",
      "source": [
        "from keras import backend as K"
      ],
      "metadata": {
        "id": "sW8R3cOkepWl"
      },
      "execution_count": null,
      "outputs": []
    },
    {
      "cell_type": "code",
      "source": [
        "def combine_windows(df):\n",
        "\n",
        "  get_final_output = K.function([model.layers[0].input],\n",
        "                                  [model.layers[-1].output])\n",
        "\n",
        "  new_inputs = []\n",
        "\n",
        "  for element in df[\"signals\"]:\n",
        "    samples = window(element, intersection, window_size, \"max\")\n",
        "    outputs = []\n",
        "\n",
        "    for sample in samples:\n",
        "      sample = np.array(list(sample))\n",
        "      sample = sample.reshape(1, sample.shape[0], 1)\n",
        "      \n",
        "      output = get_final_output(sample)\n",
        "      outputs.append(output)\n",
        "\n",
        "\n",
        "    outputs = np.array(outputs)\n",
        "    outputs = outputs.reshape(outputs.shape[0], outputs.shape[-1])\n",
        "\n",
        "    max_p = pooling(outputs, \"max\")\n",
        "    avg_p = pooling(outputs, \"avg\")\n",
        "    new_inputs.append(max_p + avg_p)\n",
        "\n",
        "  return new_inputs\n"
      ],
      "metadata": {
        "id": "lrk54UcjVoKS"
      },
      "execution_count": null,
      "outputs": []
    },
    {
      "cell_type": "code",
      "source": [
        "pip install xgboost"
      ],
      "metadata": {
        "id": "_PKaCHbgZEBN"
      },
      "execution_count": null,
      "outputs": []
    },
    {
      "cell_type": "code",
      "source": [
        "import xgboost as xgb\n",
        "\n",
        "y_new = d_aux_train[\"classes\"]\n",
        "y_new = np.array(y_new)\n",
        "\n",
        "new_inputs = combine_windows(d_aux_train)\n",
        "new_inputs = np.array(new_inputs)\n",
        "new_inputs = new_inputs.reshape(new_inputs.shape[0], new_inputs.shape[1])\n",
        "\n",
        "xgb_cl = xgb.XGBClassifier()\n",
        "xgb_cl.fit(new_inputs, y_new)"
      ],
      "metadata": {
        "id": "Cuz2MKzccqZL"
      },
      "execution_count": null,
      "outputs": []
    },
    {
      "cell_type": "code",
      "source": [
        "valid_inp = combine_windows(d_aux_valid)\n",
        "\n",
        "y_new_val = d_aux_valid[\"classes\"]\n",
        "y_new = np.array(y_new_val)\n",
        "\n",
        "valid_inp = np.array(valid_inp)\n",
        "valid_inp = valid_inp.reshape(valid_inp.shape[0], valid_inp.shape[1])\n",
        "\n",
        "y_pred = xgb_cl.predict(valid_inp)"
      ],
      "metadata": {
        "id": "hvT0MJLyhGtF"
      },
      "execution_count": null,
      "outputs": []
    },
    {
      "cell_type": "code",
      "source": [
        "accuracy_score(y_new_val, y_pred)"
      ],
      "metadata": {
        "id": "S3sm7Gb1h0ll"
      },
      "execution_count": null,
      "outputs": []
    },
    {
      "cell_type": "code",
      "source": [
        "from sklearn.metrics import confusion_matrix\n",
        "from sklearn import metrics\n",
        "\n",
        "cf_matrix = confusion_matrix(y_new_val, y_pred)\n",
        "cm_display = metrics.ConfusionMatrixDisplay(confusion_matrix = cf_matrix, display_labels = ['A', 'N', 'O', '~'])\n",
        "cm_display.plot()\n",
        "# plt.savefig(\"test.png\")"
      ],
      "metadata": {
        "id": "r5760y0tiEXV"
      },
      "execution_count": null,
      "outputs": []
    },
    {
      "cell_type": "code",
      "source": [
        "from sklearn.metrics import classification_report \n",
        " \n",
        "relatorio = classification_report(y_new_val, y_pred) \n",
        "print(relatorio)"
      ],
      "metadata": {
        "id": "GdL9OQS30kvZ"
      },
      "execution_count": null,
      "outputs": []
    }
  ],
  "metadata": {
    "colab": {
      "provenance": [],
      "machine_shape": "hm",
      "include_colab_link": true
    },
    "environment": {
      "kernel": "python3",
      "name": "tf2-gpu.2-8.m102",
      "type": "gcloud",
      "uri": "gcr.io/deeplearning-platform-release/tf2-gpu.2-8:m102"
    },
    "gpuClass": "standard",
    "kernelspec": {
      "display_name": "Python 3 (ipykernel)",
      "language": "python",
      "name": "python3"
    },
    "language_info": {
      "codemirror_mode": {
        "name": "ipython",
        "version": 3
      },
      "file_extension": ".py",
      "mimetype": "text/x-python",
      "name": "python",
      "nbconvert_exporter": "python",
      "pygments_lexer": "ipython3",
      "version": "3.7.12"
    },
    "accelerator": "TPU"
  },
  "nbformat": 4,
  "nbformat_minor": 0
}