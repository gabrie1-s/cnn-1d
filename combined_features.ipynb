{
  "nbformat": 4,
  "nbformat_minor": 0,
  "metadata": {
    "colab": {
      "provenance": [],
      "authorship_tag": "ABX9TyP3B8napxSwdrpJlXVG5CdS",
      "include_colab_link": true
    },
    "kernelspec": {
      "name": "python3",
      "display_name": "Python 3"
    },
    "language_info": {
      "name": "python"
    }
  },
  "cells": [
    {
      "cell_type": "markdown",
      "metadata": {
        "id": "view-in-github",
        "colab_type": "text"
      },
      "source": [
        "<a href=\"https://colab.research.google.com/github/gabrie1-s/cnn-1d/blob/combined_approaches/combined_features.ipynb\" target=\"_parent\"><img src=\"https://colab.research.google.com/assets/colab-badge.svg\" alt=\"Open In Colab\"/></a>"
      ]
    },
    {
      "cell_type": "code",
      "execution_count": 148,
      "metadata": {
        "id": "-jcNU_hUiyRK"
      },
      "outputs": [],
      "source": [
        "from google.colab import drive\n",
        "from pathlib import Path\n",
        "import scipy.io\n",
        "from glob import glob\n",
        "import os\n",
        "import matplotlib.pyplot as plt\n",
        "import numpy as np\n",
        "import math\n",
        "import random\n",
        "import pandas as pd\n",
        "from sklearn.preprocessing import normalize, label_binarize\n",
        "from sklearn.model_selection import train_test_split, cross_val_score, KFold\n",
        "from scipy.stats import zscore\n",
        "import seaborn as sns\n",
        "from sklearn.metrics import make_scorer, f1_score\n",
        "from sklearn.preprocessing import StandardScaler"
      ]
    },
    {
      "cell_type": "code",
      "source": [
        "drive.mount('/content/drive')"
      ],
      "metadata": {
        "colab": {
          "base_uri": "https://localhost:8080/"
        },
        "id": "05lw0h4hi5Hn",
        "outputId": "b6347560-2056-4188-95e4-413f289e968c"
      },
      "execution_count": 149,
      "outputs": [
        {
          "output_type": "stream",
          "name": "stdout",
          "text": [
            "Drive already mounted at /content/drive; to attempt to forcibly remount, call drive.mount(\"/content/drive\", force_remount=True).\n"
          ]
        }
      ]
    },
    {
      "cell_type": "code",
      "source": [
        "data = Path('drive/MyDrive/CNN_Chagas/Physionet/cnn-1d/data')\n",
        "\n",
        "signals = []\n",
        "for value in sorted(data.glob('*.mat')):\n",
        "  signal = scipy.io.loadmat(value)\n",
        "  signal = np.array(signal[\"val\"], dtype='float')[0]\n",
        "  signals.append(signal)\n",
        "  # print(value)"
      ],
      "metadata": {
        "id": "tgejqpttczNv"
      },
      "execution_count": 150,
      "outputs": []
    },
    {
      "cell_type": "code",
      "source": [
        "classes =[]\n",
        "\n",
        "classification_path = os.path.join(data, \"classification.txt\")\n",
        "with open(classification_path) as f:\n",
        "    classes = f.readlines()\n",
        "\n",
        "for i in range(0, len(classes)):\n",
        "  classes[i] = classes[i][classes[i].find(','):]\n",
        "  classes[i] = classes[i][: classes[i].find('\\n')]\n",
        "  classes[i] = classes[i].replace(\",\", \"\")"
      ],
      "metadata": {
        "id": "RcA_7WQ7dKLl"
      },
      "execution_count": 151,
      "outputs": []
    },
    {
      "cell_type": "code",
      "source": [
        "_, _, y_train, y_valid = train_test_split(signals, classes, test_size=0.15, shuffle=False)"
      ],
      "metadata": {
        "id": "UR3VuYNRrvrI"
      },
      "execution_count": 203,
      "outputs": []
    },
    {
      "cell_type": "code",
      "source": [
        "def zs_signals(signals):\n",
        "  for signal in signals:\n",
        "    mean = signal.mean()\n",
        "    std = signal.std()\n",
        "    \n",
        "    for i in range(len(signal)):\n",
        "      signal[i] = (signal[i] - mean)/std\n",
        "\n",
        "  return signals"
      ],
      "metadata": {
        "id": "fvlDOWSIs9VS"
      },
      "execution_count": 204,
      "outputs": []
    },
    {
      "cell_type": "code",
      "source": [
        "lstm_train = np.load(\"drive/MyDrive/CNN_Chagas/Physionet/cnn-1d/lstm_train.npy\")\n",
        "lstm_valid = np.load(\"drive/MyDrive/CNN_Chagas/Physionet/cnn-1d/lstm_valid.npy\")\n",
        "\n",
        "spectral_train = np.load(\"drive/MyDrive/CNN_Chagas/Physionet/cnn-1d/spectral_train.npy\")\n",
        "spectral_valid = np.load(\"drive/MyDrive/CNN_Chagas/Physionet/cnn-1d/spectral_valid.npy\")\n",
        "\n",
        "sensible_train = np.load(\"drive/MyDrive/CNN_Chagas/Physionet/cnn-1d/sensible_train.npy\") \n",
        "sensible_valid = np.load(\"drive/MyDrive/CNN_Chagas/Physionet/cnn-1d/sensible_valid.npy\")\n",
        "\n",
        "cnn1d_train = np.load(\"drive/MyDrive/CNN_Chagas/Physionet/cnn-1d/cnn1d_train.npy\")\n",
        "cnn1d_valid = np.load(\"drive/MyDrive/CNN_Chagas/Physionet/cnn-1d/cnn1d_valid.npy\")"
      ],
      "metadata": {
        "id": "Kv24fr28kG43"
      },
      "execution_count": 205,
      "outputs": []
    },
    {
      "cell_type": "code",
      "source": [
        "lstm_train = zs_signals(lstm_train)\n",
        "lstm_valid = zs_signals(lstm_valid)\n",
        "\n",
        "# spectral_train = zs_signals(spectral_train)\n",
        "# spectral_valid = zs_signals(spectral_valid)\n",
        "\n",
        "cnn1d_train = zs_signals(cnn1d_train)\n",
        "cnn1d_valid = zs_signals(cnn1d_valid)\n",
        "\n",
        "scaler = StandardScaler()\n",
        "sensible_train = scaler.fit_transform(sensible_train)\n",
        "scaler = StandardScaler()\n",
        "sensible_valid = scaler.fit_transform(sensible_valid)"
      ],
      "metadata": {
        "colab": {
          "base_uri": "https://localhost:8080/"
        },
        "id": "W3qx2kWLs4y8",
        "outputId": "9f312ff0-6e95-48d6-8c5a-867b9a9664fa"
      },
      "execution_count": 206,
      "outputs": [
        {
          "output_type": "stream",
          "name": "stderr",
          "text": [
            "<ipython-input-204-8fc5271677dc>:7: RuntimeWarning: invalid value encountered in float_scalars\n",
            "  signal[i] = (signal[i] - mean)/std\n"
          ]
        }
      ]
    },
    {
      "cell_type": "code",
      "source": [
        "def combine(models_vec, len):\n",
        "  entry = []\n",
        "  for i in range(len):\n",
        "    val = []\n",
        "\n",
        "    for model in models_vec:\n",
        "      val += list(model[i])\n",
        "\n",
        "    entry.append(val)\n",
        "    \n",
        "  return entry  "
      ],
      "metadata": {
        "id": "qQkIFtlFqq6x"
      },
      "execution_count": 207,
      "outputs": []
    },
    {
      "cell_type": "code",
      "source": [
        "train_len = len(sensible_train)\n",
        "models_vec_t = [sensible_train, spectral_train, cnn1d_train, lstm_train]\n",
        "\n",
        "x_train = combine(models_vec_t, train_len)"
      ],
      "metadata": {
        "id": "Tn7Qewntq6Sw"
      },
      "execution_count": 208,
      "outputs": []
    },
    {
      "cell_type": "code",
      "source": [
        "val_len = len(sensible_valid)\n",
        "models_vec_v = [sensible_valid, spectral_valid, cnn1d_valid, lstm_valid]\n",
        "\n",
        "x_valid = combine(models_vec_v, val_len)"
      ],
      "metadata": {
        "id": "_eJ10PdXrOEB"
      },
      "execution_count": 209,
      "outputs": []
    },
    {
      "cell_type": "code",
      "source": [
        "def convert_y(y):\n",
        "  y = pd.DataFrame(y)\n",
        "  y = pd.get_dummies(y)\n",
        "  y = np.array(y)\n",
        "  return y"
      ],
      "metadata": {
        "id": "j45vEzoNsMiY"
      },
      "execution_count": 210,
      "outputs": []
    },
    {
      "cell_type": "code",
      "source": [
        "y_train = convert_y(y_train)\n",
        "y_valid = convert_y(y_valid)"
      ],
      "metadata": {
        "id": "V0rnq-xNsSYB"
      },
      "execution_count": 211,
      "outputs": []
    },
    {
      "cell_type": "code",
      "source": [
        "!pip install xgboost"
      ],
      "metadata": {
        "colab": {
          "base_uri": "https://localhost:8080/"
        },
        "id": "TsxPf-jAp2al",
        "outputId": "a41a6d9c-7f9f-46d7-adf0-4ff4a9ac64df"
      },
      "execution_count": 212,
      "outputs": [
        {
          "output_type": "stream",
          "name": "stdout",
          "text": [
            "Looking in indexes: https://pypi.org/simple, https://us-python.pkg.dev/colab-wheels/public/simple/\n",
            "Requirement already satisfied: xgboost in /usr/local/lib/python3.9/dist-packages (1.7.4)\n",
            "Requirement already satisfied: scipy in /usr/local/lib/python3.9/dist-packages (from xgboost) (1.10.1)\n",
            "Requirement already satisfied: numpy in /usr/local/lib/python3.9/dist-packages (from xgboost) (1.22.4)\n"
          ]
        }
      ]
    },
    {
      "cell_type": "code",
      "source": [
        "import xgboost as xgb"
      ],
      "metadata": {
        "id": "CFTbl0E5p5J7"
      },
      "execution_count": 213,
      "outputs": []
    },
    {
      "cell_type": "code",
      "source": [
        "xgb_cl = xgb.XGBClassifier()\n",
        "\n",
        "xgb_cl.fit(x_train, y_train)"
      ],
      "metadata": {
        "colab": {
          "base_uri": "https://localhost:8080/",
          "height": 249
        },
        "outputId": "cf339bce-e153-4dee-f6e4-89fe8d54695a",
        "id": "syo9ksDYHB2s"
      },
      "execution_count": 214,
      "outputs": [
        {
          "output_type": "execute_result",
          "data": {
            "text/plain": [
              "XGBClassifier(base_score=None, booster=None, callbacks=None,\n",
              "              colsample_bylevel=None, colsample_bynode=None,\n",
              "              colsample_bytree=None, early_stopping_rounds=None,\n",
              "              enable_categorical=False, eval_metric=None, feature_types=None,\n",
              "              gamma=None, gpu_id=None, grow_policy=None, importance_type=None,\n",
              "              interaction_constraints=None, learning_rate=None, max_bin=None,\n",
              "              max_cat_threshold=None, max_cat_to_onehot=None,\n",
              "              max_delta_step=None, max_depth=None, max_leaves=None,\n",
              "              min_child_weight=None, missing=nan, monotone_constraints=None,\n",
              "              n_estimators=100, n_jobs=None, num_parallel_tree=None,\n",
              "              predictor=None, random_state=None, ...)"
            ],
            "text/html": [
              "<style>#sk-container-id-10 {color: black;background-color: white;}#sk-container-id-10 pre{padding: 0;}#sk-container-id-10 div.sk-toggleable {background-color: white;}#sk-container-id-10 label.sk-toggleable__label {cursor: pointer;display: block;width: 100%;margin-bottom: 0;padding: 0.3em;box-sizing: border-box;text-align: center;}#sk-container-id-10 label.sk-toggleable__label-arrow:before {content: \"▸\";float: left;margin-right: 0.25em;color: #696969;}#sk-container-id-10 label.sk-toggleable__label-arrow:hover:before {color: black;}#sk-container-id-10 div.sk-estimator:hover label.sk-toggleable__label-arrow:before {color: black;}#sk-container-id-10 div.sk-toggleable__content {max-height: 0;max-width: 0;overflow: hidden;text-align: left;background-color: #f0f8ff;}#sk-container-id-10 div.sk-toggleable__content pre {margin: 0.2em;color: black;border-radius: 0.25em;background-color: #f0f8ff;}#sk-container-id-10 input.sk-toggleable__control:checked~div.sk-toggleable__content {max-height: 200px;max-width: 100%;overflow: auto;}#sk-container-id-10 input.sk-toggleable__control:checked~label.sk-toggleable__label-arrow:before {content: \"▾\";}#sk-container-id-10 div.sk-estimator input.sk-toggleable__control:checked~label.sk-toggleable__label {background-color: #d4ebff;}#sk-container-id-10 div.sk-label input.sk-toggleable__control:checked~label.sk-toggleable__label {background-color: #d4ebff;}#sk-container-id-10 input.sk-hidden--visually {border: 0;clip: rect(1px 1px 1px 1px);clip: rect(1px, 1px, 1px, 1px);height: 1px;margin: -1px;overflow: hidden;padding: 0;position: absolute;width: 1px;}#sk-container-id-10 div.sk-estimator {font-family: monospace;background-color: #f0f8ff;border: 1px dotted black;border-radius: 0.25em;box-sizing: border-box;margin-bottom: 0.5em;}#sk-container-id-10 div.sk-estimator:hover {background-color: #d4ebff;}#sk-container-id-10 div.sk-parallel-item::after {content: \"\";width: 100%;border-bottom: 1px solid gray;flex-grow: 1;}#sk-container-id-10 div.sk-label:hover label.sk-toggleable__label {background-color: #d4ebff;}#sk-container-id-10 div.sk-serial::before {content: \"\";position: absolute;border-left: 1px solid gray;box-sizing: border-box;top: 0;bottom: 0;left: 50%;z-index: 0;}#sk-container-id-10 div.sk-serial {display: flex;flex-direction: column;align-items: center;background-color: white;padding-right: 0.2em;padding-left: 0.2em;position: relative;}#sk-container-id-10 div.sk-item {position: relative;z-index: 1;}#sk-container-id-10 div.sk-parallel {display: flex;align-items: stretch;justify-content: center;background-color: white;position: relative;}#sk-container-id-10 div.sk-item::before, #sk-container-id-10 div.sk-parallel-item::before {content: \"\";position: absolute;border-left: 1px solid gray;box-sizing: border-box;top: 0;bottom: 0;left: 50%;z-index: -1;}#sk-container-id-10 div.sk-parallel-item {display: flex;flex-direction: column;z-index: 1;position: relative;background-color: white;}#sk-container-id-10 div.sk-parallel-item:first-child::after {align-self: flex-end;width: 50%;}#sk-container-id-10 div.sk-parallel-item:last-child::after {align-self: flex-start;width: 50%;}#sk-container-id-10 div.sk-parallel-item:only-child::after {width: 0;}#sk-container-id-10 div.sk-dashed-wrapped {border: 1px dashed gray;margin: 0 0.4em 0.5em 0.4em;box-sizing: border-box;padding-bottom: 0.4em;background-color: white;}#sk-container-id-10 div.sk-label label {font-family: monospace;font-weight: bold;display: inline-block;line-height: 1.2em;}#sk-container-id-10 div.sk-label-container {text-align: center;}#sk-container-id-10 div.sk-container {/* jupyter's `normalize.less` sets `[hidden] { display: none; }` but bootstrap.min.css set `[hidden] { display: none !important; }` so we also need the `!important` here to be able to override the default hidden behavior on the sphinx rendered scikit-learn.org. See: https://github.com/scikit-learn/scikit-learn/issues/21755 */display: inline-block !important;position: relative;}#sk-container-id-10 div.sk-text-repr-fallback {display: none;}</style><div id=\"sk-container-id-10\" class=\"sk-top-container\"><div class=\"sk-text-repr-fallback\"><pre>XGBClassifier(base_score=None, booster=None, callbacks=None,\n",
              "              colsample_bylevel=None, colsample_bynode=None,\n",
              "              colsample_bytree=None, early_stopping_rounds=None,\n",
              "              enable_categorical=False, eval_metric=None, feature_types=None,\n",
              "              gamma=None, gpu_id=None, grow_policy=None, importance_type=None,\n",
              "              interaction_constraints=None, learning_rate=None, max_bin=None,\n",
              "              max_cat_threshold=None, max_cat_to_onehot=None,\n",
              "              max_delta_step=None, max_depth=None, max_leaves=None,\n",
              "              min_child_weight=None, missing=nan, monotone_constraints=None,\n",
              "              n_estimators=100, n_jobs=None, num_parallel_tree=None,\n",
              "              predictor=None, random_state=None, ...)</pre><b>In a Jupyter environment, please rerun this cell to show the HTML representation or trust the notebook. <br />On GitHub, the HTML representation is unable to render, please try loading this page with nbviewer.org.</b></div><div class=\"sk-container\" hidden><div class=\"sk-item\"><div class=\"sk-estimator sk-toggleable\"><input class=\"sk-toggleable__control sk-hidden--visually\" id=\"sk-estimator-id-10\" type=\"checkbox\" checked><label for=\"sk-estimator-id-10\" class=\"sk-toggleable__label sk-toggleable__label-arrow\">XGBClassifier</label><div class=\"sk-toggleable__content\"><pre>XGBClassifier(base_score=None, booster=None, callbacks=None,\n",
              "              colsample_bylevel=None, colsample_bynode=None,\n",
              "              colsample_bytree=None, early_stopping_rounds=None,\n",
              "              enable_categorical=False, eval_metric=None, feature_types=None,\n",
              "              gamma=None, gpu_id=None, grow_policy=None, importance_type=None,\n",
              "              interaction_constraints=None, learning_rate=None, max_bin=None,\n",
              "              max_cat_threshold=None, max_cat_to_onehot=None,\n",
              "              max_delta_step=None, max_depth=None, max_leaves=None,\n",
              "              min_child_weight=None, missing=nan, monotone_constraints=None,\n",
              "              n_estimators=100, n_jobs=None, num_parallel_tree=None,\n",
              "              predictor=None, random_state=None, ...)</pre></div></div></div></div></div>"
            ]
          },
          "metadata": {},
          "execution_count": 214
        }
      ]
    },
    {
      "cell_type": "code",
      "source": [
        "y_pred = xgb_cl.predict(x_valid)"
      ],
      "metadata": {
        "id": "G_2dHB6XHB2t"
      },
      "execution_count": 215,
      "outputs": []
    },
    {
      "cell_type": "code",
      "source": [
        "y_pred = pd.DataFrame(y_pred)\n",
        "y_pred.columns = ['A', 'N', 'O', '~']\n",
        "y_pred = y_pred.idxmax(axis=1)"
      ],
      "metadata": {
        "id": "0uUlHfI-20b5"
      },
      "execution_count": 216,
      "outputs": []
    },
    {
      "cell_type": "code",
      "source": [
        "y_valid = pd.DataFrame(y_valid)\n",
        "y_valid.columns = ['A', 'N', 'O', '~']\n",
        "y_valid = y_valid.idxmax(axis=1)"
      ],
      "metadata": {
        "id": "A4B8LeeBHB2t"
      },
      "execution_count": 217,
      "outputs": []
    },
    {
      "cell_type": "code",
      "source": [
        "from sklearn.metrics import confusion_matrix\n",
        "from sklearn import metrics\n",
        "\n",
        "plt.rcParams['figure.figsize']=(20,5)\n",
        "plt.rcParams.update({'font.size': 20})\n",
        "\n",
        "cf_matrix = confusion_matrix(y_valid, y_pred)\n",
        "cm_display = metrics.ConfusionMatrixDisplay(confusion_matrix = cf_matrix, display_labels = ['A', 'N', 'O', '~'])\n",
        "cm_display.plot()"
      ],
      "metadata": {
        "outputId": "9f8605df-1792-4726-bff2-10ee2ad5afb6",
        "colab": {
          "base_uri": "https://localhost:8080/",
          "height": 369
        },
        "id": "dMi4gTb3HB2t"
      },
      "execution_count": 218,
      "outputs": [
        {
          "output_type": "execute_result",
          "data": {
            "text/plain": [
              "<sklearn.metrics._plot.confusion_matrix.ConfusionMatrixDisplay at 0x7f2c57434580>"
            ]
          },
          "metadata": {},
          "execution_count": 218
        },
        {
          "output_type": "display_data",
          "data": {
            "text/plain": [
              "<Figure size 1440x360 with 2 Axes>"
            ],
            "image/png": "[encoded data removed]"
          },
          "metadata": {
            "needs_background": "light"
          }
        }
      ]
    },
    {
      "cell_type": "code",
      "source": [
        "from sklearn.metrics import classification_report \n",
        " \n",
        "relatorio = classification_report(y_valid, y_pred, target_names = ['A', 'N', 'O', '~']) \n",
        "print(relatorio)"
      ],
      "metadata": {
        "colab": {
          "base_uri": "https://localhost:8080/"
        },
        "id": "qoiB7posQFKk",
        "outputId": "fa99924f-8b01-4f33-84de-173b219bd30c"
      },
      "execution_count": 219,
      "outputs": [
        {
          "output_type": "stream",
          "name": "stdout",
          "text": [
            "              precision    recall  f1-score   support\n",
            "\n",
            "           A       0.42      0.85      0.56       130\n",
            "           N       0.86      0.88      0.87       724\n",
            "           O       0.80      0.52      0.63       380\n",
            "           ~       0.91      0.46      0.61        46\n",
            "\n",
            "    accuracy                           0.76      1280\n",
            "   macro avg       0.75      0.68      0.67      1280\n",
            "weighted avg       0.80      0.76      0.76      1280\n",
            "\n"
          ]
        }
      ]
    }
  ]
}